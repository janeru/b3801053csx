{
 "cells": [
  {
   "cell_type": "code",
   "execution_count": 42,
   "metadata": {
    "collapsed": true
   },
   "outputs": [],
   "source": [
    "import torch \n",
    "import torch.nn as nn\n",
    "import torchvision.datasets as dsets\n",
    "import torchvision.transforms as transforms\n",
    "from torch.autograd import Variable"
   ]
  },
  {
   "cell_type": "markdown",
   "metadata": {},
   "source": [
    "匯入資料集"
   ]
  },
  {
   "cell_type": "code",
   "execution_count": 43,
   "metadata": {
    "collapsed": true
   },
   "outputs": [],
   "source": [
    "train_dataset = dsets.MNIST(root='./data/',\n",
    "                            train=True, \n",
    "                            transform=transforms.ToTensor(),\n",
    "                            download=True)\n",
    "\n",
    "test_dataset = dsets.MNIST(root='./data/',\n",
    "                           train=False, \n",
    "                           transform=transforms.ToTensor())\n"
   ]
  },
  {
   "cell_type": "markdown",
   "metadata": {},
   "source": [
    "參數設定"
   ]
  },
  {
   "cell_type": "code",
   "execution_count": 44,
   "metadata": {
    "collapsed": true
   },
   "outputs": [],
   "source": [
    "number_epochs = 10 #訓練的個數\n",
    "batch_size = 100\n",
    "learning_rate = 0.01"
   ]
  },
  {
   "cell_type": "markdown",
   "metadata": {},
   "source": [
    "把資料集放入 DataLoader"
   ]
  },
  {
   "cell_type": "code",
   "execution_count": 45,
   "metadata": {
    "collapsed": true
   },
   "outputs": [],
   "source": [
    "train_loader = torch.utils.data.DataLoader(dataset=train_dataset,\n",
    "                                           batch_size=batch_size, \n",
    "                                           shuffle=True #要不要打亂數據 \n",
    "                                          )\n",
    "\n",
    "test_loader = torch.utils.data.DataLoader(dataset=test_dataset,\n",
    "                                          batch_size=batch_size, \n",
    "                                          shuffle=False\n",
    "                                         )"
   ]
  },
  {
   "cell_type": "markdown",
   "metadata": {},
   "source": [
    "架兩層"
   ]
  },
  {
   "cell_type": "code",
   "execution_count": 46,
   "metadata": {
    "collapsed": true
   },
   "outputs": [],
   "source": [
    "# CNN Model (2 conv layer)\n",
    "class CNN(nn.Module):\n",
    "    def __init__(self):\n",
    "        super(CNN, self).__init__()\n",
    "        self.layer1 = nn.Sequential(\n",
    "            # 第一層:卷積層 \n",
    "            nn.Conv2d(1, 16, kernel_size=5, padding=2),\n",
    "            nn.BatchNorm2d(16),\n",
    "            nn.ReLU(),\n",
    "            # 第一層:池化層 28X28 -> 14X14\n",
    "            nn.MaxPool2d(2))\n",
    "        # 第二層:卷積層\n",
    "        self.layer2 = nn.Sequential(\n",
    "           \n",
    "            nn.Conv2d(16, 32, kernel_size=5, padding=2),\n",
    "            nn.BatchNorm2d(32),\n",
    "            nn.ReLU(),\n",
    "            # 第二層池化層 14X14 -> 7X7 \n",
    "            nn.MaxPool2d(2)\n",
    "        )\n",
    "         \n",
    "        self.fc = nn.Linear(7*7*32, 10) \n",
    "    # 設定好forward來進行前項傳播\n",
    "    def forward(self, x):\n",
    "        out = self.layer1(x)\n",
    "        out = self.layer2(out)\n",
    "        out = out.view(out.size(0), -1)\n",
    "        out = self.fc(out)\n",
    "        return out\n",
    "        \n",
    "cnn = CNN()\n"
   ]
  },
  {
   "cell_type": "markdown",
   "metadata": {},
   "source": [
    "先看一下神經網路的架構"
   ]
  },
  {
   "cell_type": "code",
   "execution_count": 47,
   "metadata": {},
   "outputs": [
    {
     "name": "stdout",
     "output_type": "stream",
     "text": [
      "CNN(\n",
      "  (layer1): Sequential(\n",
      "    (0): Conv2d(1, 16, kernel_size=(5, 5), stride=(1, 1), padding=(2, 2))\n",
      "    (1): BatchNorm2d(16, eps=1e-05, momentum=0.1, affine=True, track_running_stats=True)\n",
      "    (2): ReLU()\n",
      "    (3): MaxPool2d(kernel_size=2, stride=2, padding=0, dilation=1, ceil_mode=False)\n",
      "  )\n",
      "  (layer2): Sequential(\n",
      "    (0): Conv2d(16, 32, kernel_size=(5, 5), stride=(1, 1), padding=(2, 2))\n",
      "    (1): BatchNorm2d(32, eps=1e-05, momentum=0.1, affine=True, track_running_stats=True)\n",
      "    (2): ReLU()\n",
      "    (3): MaxPool2d(kernel_size=2, stride=2, padding=0, dilation=1, ceil_mode=False)\n",
      "  )\n",
      "  (fc): Linear(in_features=1568, out_features=10, bias=True)\n",
      ")\n"
     ]
    }
   ],
   "source": [
    "print(cnn)"
   ]
  },
  {
   "cell_type": "markdown",
   "metadata": {},
   "source": [
    "利用loss function來計算預測的f(x)與真實值y之間的差值，利用optimizer來縮小產生的差值"
   ]
  },
  {
   "cell_type": "code",
   "execution_count": 48,
   "metadata": {
    "collapsed": true
   },
   "outputs": [],
   "source": [
    "# Loss and Optimizer\n",
    "criterion = nn.CrossEntropyLoss()\n",
    "optimizer = torch.optim.Adam(cnn.parameters(), lr=learning_rate)"
   ]
  },
  {
   "cell_type": "markdown",
   "metadata": {},
   "source": [
    "到了backward反向傳播時，要將tensor轉乘variable才能傳"
   ]
  },
  {
   "cell_type": "code",
   "execution_count": null,
   "metadata": {},
   "outputs": [
    {
     "name": "stderr",
     "output_type": "stream",
     "text": [
      "/Users/liuqieru/anaconda3/lib/python3.6/site-packages/ipykernel_launcher.py:19: UserWarning: invalid index of a 0-dim tensor. This will be an error in PyTorch 0.5. Use tensor.item() to convert a 0-dim tensor to a Python number\n"
     ]
    },
    {
     "name": "stdout",
     "output_type": "stream",
     "text": [
      "Epoch [1/10], Iter [100/600] Loss: 0.2269\n",
      "Epoch [1/10], Iter [200/600] Loss: 0.0886\n",
      "Epoch [1/10], Iter [300/600] Loss: 0.0359\n",
      "Epoch [1/10], Iter [400/600] Loss: 0.1503\n",
      "Epoch [1/10], Iter [500/600] Loss: 0.0448\n",
      "Epoch [1/10], Iter [600/600] Loss: 0.0943\n",
      "Epoch [2/10], Iter [100/600] Loss: 0.0868\n",
      "Epoch [2/10], Iter [200/600] Loss: 0.0376\n",
      "Epoch [2/10], Iter [300/600] Loss: 0.1005\n",
      "Epoch [2/10], Iter [400/600] Loss: 0.0627\n",
      "Epoch [2/10], Iter [500/600] Loss: 0.0318\n",
      "Epoch [2/10], Iter [600/600] Loss: 0.0197\n",
      "Epoch [3/10], Iter [100/600] Loss: 0.0088\n",
      "Epoch [3/10], Iter [200/600] Loss: 0.0734\n",
      "Epoch [3/10], Iter [300/600] Loss: 0.0574\n",
      "Epoch [3/10], Iter [400/600] Loss: 0.0164\n",
      "Epoch [3/10], Iter [500/600] Loss: 0.0113\n",
      "Epoch [3/10], Iter [600/600] Loss: 0.1067\n",
      "Epoch [4/10], Iter [100/600] Loss: 0.0186\n",
      "Epoch [4/10], Iter [200/600] Loss: 0.0656\n",
      "Epoch [4/10], Iter [300/600] Loss: 0.0619\n",
      "Epoch [4/10], Iter [400/600] Loss: 0.0038\n",
      "Epoch [4/10], Iter [500/600] Loss: 0.0117\n",
      "Epoch [4/10], Iter [600/600] Loss: 0.0189\n",
      "Epoch [5/10], Iter [100/600] Loss: 0.0073\n",
      "Epoch [5/10], Iter [200/600] Loss: 0.0034\n",
      "Epoch [5/10], Iter [300/600] Loss: 0.0194\n",
      "Epoch [5/10], Iter [400/600] Loss: 0.0039\n",
      "Epoch [5/10], Iter [500/600] Loss: 0.0238\n",
      "Epoch [5/10], Iter [600/600] Loss: 0.0062\n",
      "Epoch [6/10], Iter [100/600] Loss: 0.0026\n",
      "Epoch [6/10], Iter [200/600] Loss: 0.0071\n",
      "Epoch [6/10], Iter [300/600] Loss: 0.0959\n",
      "Epoch [6/10], Iter [400/600] Loss: 0.0178\n",
      "Epoch [6/10], Iter [500/600] Loss: 0.0163\n",
      "Epoch [6/10], Iter [600/600] Loss: 0.0102\n",
      "Epoch [7/10], Iter [100/600] Loss: 0.0095\n",
      "Epoch [7/10], Iter [200/600] Loss: 0.0070\n",
      "Epoch [7/10], Iter [300/600] Loss: 0.0271\n",
      "Epoch [7/10], Iter [400/600] Loss: 0.0034\n",
      "Epoch [7/10], Iter [500/600] Loss: 0.0091\n",
      "Epoch [7/10], Iter [600/600] Loss: 0.0282\n",
      "Epoch [8/10], Iter [100/600] Loss: 0.0258\n",
      "Epoch [8/10], Iter [200/600] Loss: 0.0319\n",
      "Epoch [8/10], Iter [300/600] Loss: 0.0032\n",
      "Epoch [8/10], Iter [400/600] Loss: 0.0019\n"
     ]
    }
   ],
   "source": [
    "# Train the Model\n",
    "perfs = []\n",
    "for epoch in range(number_epochs):\n",
    "    for i, (images, labels) in enumerate(train_loader):\n",
    "        images = Variable(images)\n",
    "        labels = Variable(labels)\n",
    "        \n",
    "        # Forward + Backward + Optimize\n",
    "        optimizer.zero_grad()\n",
    "        outputs = cnn(images)\n",
    "        #backward\n",
    "        loss = criterion(outputs, labels)# 計算loss\n",
    "        loss.backward()# 方向傳播\n",
    "        optimizer.step() # 更新参數\n",
    "        \n",
    "       \n",
    "        if (i+1) % 100 == 0:\n",
    "            print ('Epoch [%d/%d], Iter [%d/%d] Loss: %.4f' \n",
    "                   %(epoch+1, number_epochs, i+1, len(train_dataset)//batch_size, loss.data[0]))\n"
   ]
  },
  {
   "cell_type": "markdown",
   "metadata": {},
   "source": [
    "測試"
   ]
  },
  {
   "cell_type": "code",
   "execution_count": null,
   "metadata": {},
   "outputs": [],
   "source": [
    "# Test the Model\n",
    "cnn.eval()  # Change model to 'eval' mode (BN uses moving mean/var).\n",
    "correct = 0\n",
    "total = 0\n",
    "for images, labels in test_loader:\n",
    "    images = Variable(images)\n",
    "    outputs = cnn(images)\n",
    "    _, predicted = torch.max(outputs.data, 1)\n",
    "    total += labels.size(0)\n",
    "    correct += (predicted == labels).sum()\n",
    "print(correct)\n",
    "print(total)\n",
    "print('Test Accuracy of the model on the 10000 test images: %d %%' % (100 * correct / total))"
   ]
  },
  {
   "cell_type": "markdown",
   "metadata": {},
   "source": [
    "參考：https://github.com/Tim810306/PytorchTutorial"
   ]
  }
 ],
 "metadata": {
  "kernelspec": {
   "display_name": "Python 3",
   "language": "python",
   "name": "python3"
  },
  "language_info": {
   "codemirror_mode": {
    "name": "ipython",
    "version": 3
   },
   "file_extension": ".py",
   "mimetype": "text/x-python",
   "name": "python",
   "nbconvert_exporter": "python",
   "pygments_lexer": "ipython3",
   "version": "3.6.3"
  }
 },
 "nbformat": 4,
 "nbformat_minor": 2
}
