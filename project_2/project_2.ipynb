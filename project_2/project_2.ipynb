{
 "cells": [
  {
   "cell_type": "markdown",
   "metadata": {},
   "source": [
    "# Project 2：預測鐵達尼號乘客的存活率 （Kaggle）"
   ]
  },
  {
   "cell_type": "markdown",
   "metadata": {},
   "source": [
    "### Part 1: EDA\n",
    "\n",
    "1.1 匯入資料\n",
    "\n",
    "1.2 資料結構\n",
    "\n",
    "1.3 資料完整性\n",
    "\n",
    "1.4 資料合併\n",
    "\n",
    "1.5 重要變數探索\n",
    "\n",
    "### Part 2: Data Cleaning / Feature Engineering\n",
    "\n",
    "2.1 資料預處理： NA 值\n",
    "\n",
    "2.2 資料預處理：categorical → numerical\n",
    "\n",
    "### Part 3: Predictive Modeling"
   ]
  },
  {
   "cell_type": "markdown",
   "metadata": {},
   "source": [
    "--------------------------------------------------------------------------------------------------------------------------------"
   ]
  },
  {
   "cell_type": "code",
   "execution_count": 1,
   "metadata": {
    "collapsed": true
   },
   "outputs": [],
   "source": [
    "import pandas as pd\n",
    "import numpy as np\n",
    "from matplotlib import pyplot as plt\n",
    "import matplotlib\n",
    "%matplotlib inline\n",
    "matplotlib.style.use('ggplot')\n",
    "\n",
    "import warnings\n",
    "import pandas as pd\n",
    "import numpy as np\n",
    "import matplotlib.pyplot as plt\n",
    "import seaborn as sns\n",
    "\n",
    "%matplotlib inline\n",
    "pd.options.mode.chained_assignment = None"
   ]
  },
  {
   "cell_type": "markdown",
   "metadata": {},
   "source": [
    "# Part 1: EDA"
   ]
  },
  {
   "cell_type": "markdown",
   "metadata": {},
   "source": [
    "## 1.1 匯入資料"
   ]
  },
  {
   "cell_type": "code",
   "execution_count": 2,
   "metadata": {
    "collapsed": true
   },
   "outputs": [],
   "source": [
    "train = pd.read_csv('./data/titanicTrain.csv', dtype={'age': np.float16})\n",
    "test = pd.read_csv('./data/titanicQuestion.csv', dtype={'age': np.float16})"
   ]
  },
  {
   "cell_type": "markdown",
   "metadata": {},
   "source": [
    "## 1.2 資料結構"
   ]
  },
  {
   "cell_type": "markdown",
   "metadata": {},
   "source": [
    "檢視資料結構。"
   ]
  },
  {
   "cell_type": "code",
   "execution_count": 3,
   "metadata": {
    "scrolled": true
   },
   "outputs": [
    {
     "name": "stdout",
     "output_type": "stream",
     "text": [
      "<class 'pandas.core.frame.DataFrame'>\n",
      "RangeIndex: 1000 entries, 0 to 999\n",
      "Data columns (total 14 columns):\n",
      "pclass       1000 non-null int64\n",
      "survived     1000 non-null int64\n",
      "name         1000 non-null object\n",
      "sex          1000 non-null object\n",
      "age          861 non-null float16\n",
      "sibsp        1000 non-null int64\n",
      "parch        1000 non-null int64\n",
      "ticket       1000 non-null object\n",
      "fare         1000 non-null float64\n",
      "cabin        283 non-null object\n",
      "embarked     998 non-null object\n",
      "boat         417 non-null object\n",
      "body         95 non-null float64\n",
      "home.dest    742 non-null object\n",
      "dtypes: float16(1), float64(2), int64(4), object(7)\n",
      "memory usage: 103.6+ KB\n"
     ]
    }
   ],
   "source": [
    "train.info()"
   ]
  },
  {
   "cell_type": "code",
   "execution_count": 4,
   "metadata": {},
   "outputs": [
    {
     "data": {
      "text/html": [
       "<div>\n",
       "<style>\n",
       "    .dataframe thead tr:only-child th {\n",
       "        text-align: right;\n",
       "    }\n",
       "\n",
       "    .dataframe thead th {\n",
       "        text-align: left;\n",
       "    }\n",
       "\n",
       "    .dataframe tbody tr th {\n",
       "        vertical-align: top;\n",
       "    }\n",
       "</style>\n",
       "<table border=\"1\" class=\"dataframe\">\n",
       "  <thead>\n",
       "    <tr style=\"text-align: right;\">\n",
       "      <th></th>\n",
       "      <th>pclass</th>\n",
       "      <th>survived</th>\n",
       "      <th>name</th>\n",
       "      <th>sex</th>\n",
       "      <th>age</th>\n",
       "      <th>sibsp</th>\n",
       "      <th>parch</th>\n",
       "      <th>ticket</th>\n",
       "      <th>fare</th>\n",
       "      <th>cabin</th>\n",
       "      <th>embarked</th>\n",
       "      <th>boat</th>\n",
       "      <th>body</th>\n",
       "      <th>home.dest</th>\n",
       "    </tr>\n",
       "  </thead>\n",
       "  <tbody>\n",
       "    <tr>\n",
       "      <th>0</th>\n",
       "      <td>1</td>\n",
       "      <td>1</td>\n",
       "      <td>Allen, Miss. Elisabeth Walton</td>\n",
       "      <td>female</td>\n",
       "      <td>29.000000</td>\n",
       "      <td>0</td>\n",
       "      <td>0</td>\n",
       "      <td>24160</td>\n",
       "      <td>211.3375</td>\n",
       "      <td>B5</td>\n",
       "      <td>S</td>\n",
       "      <td>2</td>\n",
       "      <td>NaN</td>\n",
       "      <td>St Louis, MO</td>\n",
       "    </tr>\n",
       "    <tr>\n",
       "      <th>1</th>\n",
       "      <td>1</td>\n",
       "      <td>1</td>\n",
       "      <td>Allison, Master. Hudson Trevor</td>\n",
       "      <td>male</td>\n",
       "      <td>0.916504</td>\n",
       "      <td>1</td>\n",
       "      <td>2</td>\n",
       "      <td>113781</td>\n",
       "      <td>151.5500</td>\n",
       "      <td>C22 C26</td>\n",
       "      <td>S</td>\n",
       "      <td>11</td>\n",
       "      <td>NaN</td>\n",
       "      <td>Montreal, PQ / Chesterville, ON</td>\n",
       "    </tr>\n",
       "    <tr>\n",
       "      <th>2</th>\n",
       "      <td>1</td>\n",
       "      <td>0</td>\n",
       "      <td>Allison, Miss. Helen Loraine</td>\n",
       "      <td>female</td>\n",
       "      <td>2.000000</td>\n",
       "      <td>1</td>\n",
       "      <td>2</td>\n",
       "      <td>113781</td>\n",
       "      <td>151.5500</td>\n",
       "      <td>C22 C26</td>\n",
       "      <td>S</td>\n",
       "      <td>NaN</td>\n",
       "      <td>NaN</td>\n",
       "      <td>Montreal, PQ / Chesterville, ON</td>\n",
       "    </tr>\n",
       "    <tr>\n",
       "      <th>3</th>\n",
       "      <td>1</td>\n",
       "      <td>0</td>\n",
       "      <td>Allison, Mr. Hudson Joshua Creighton</td>\n",
       "      <td>male</td>\n",
       "      <td>30.000000</td>\n",
       "      <td>1</td>\n",
       "      <td>2</td>\n",
       "      <td>113781</td>\n",
       "      <td>151.5500</td>\n",
       "      <td>C22 C26</td>\n",
       "      <td>S</td>\n",
       "      <td>NaN</td>\n",
       "      <td>135.0</td>\n",
       "      <td>Montreal, PQ / Chesterville, ON</td>\n",
       "    </tr>\n",
       "    <tr>\n",
       "      <th>4</th>\n",
       "      <td>1</td>\n",
       "      <td>0</td>\n",
       "      <td>Allison, Mrs. Hudson J C (Bessie Waldo Daniels)</td>\n",
       "      <td>female</td>\n",
       "      <td>25.000000</td>\n",
       "      <td>1</td>\n",
       "      <td>2</td>\n",
       "      <td>113781</td>\n",
       "      <td>151.5500</td>\n",
       "      <td>C22 C26</td>\n",
       "      <td>S</td>\n",
       "      <td>NaN</td>\n",
       "      <td>NaN</td>\n",
       "      <td>Montreal, PQ / Chesterville, ON</td>\n",
       "    </tr>\n",
       "  </tbody>\n",
       "</table>\n",
       "</div>"
      ],
      "text/plain": [
       "   pclass  survived                                             name     sex  \\\n",
       "0       1         1                    Allen, Miss. Elisabeth Walton  female   \n",
       "1       1         1                   Allison, Master. Hudson Trevor    male   \n",
       "2       1         0                     Allison, Miss. Helen Loraine  female   \n",
       "3       1         0             Allison, Mr. Hudson Joshua Creighton    male   \n",
       "4       1         0  Allison, Mrs. Hudson J C (Bessie Waldo Daniels)  female   \n",
       "\n",
       "         age  sibsp  parch  ticket      fare    cabin embarked boat   body  \\\n",
       "0  29.000000      0      0   24160  211.3375       B5        S    2    NaN   \n",
       "1   0.916504      1      2  113781  151.5500  C22 C26        S   11    NaN   \n",
       "2   2.000000      1      2  113781  151.5500  C22 C26        S  NaN    NaN   \n",
       "3  30.000000      1      2  113781  151.5500  C22 C26        S  NaN  135.0   \n",
       "4  25.000000      1      2  113781  151.5500  C22 C26        S  NaN    NaN   \n",
       "\n",
       "                         home.dest  \n",
       "0                     St Louis, MO  \n",
       "1  Montreal, PQ / Chesterville, ON  \n",
       "2  Montreal, PQ / Chesterville, ON  \n",
       "3  Montreal, PQ / Chesterville, ON  \n",
       "4  Montreal, PQ / Chesterville, ON  "
      ]
     },
     "execution_count": 4,
     "metadata": {},
     "output_type": "execute_result"
    }
   ],
   "source": [
    "train.head(5)"
   ]
  },
  {
   "cell_type": "markdown",
   "metadata": {},
   "source": [
    "## 1.3 資料完整性"
   ]
  },
  {
   "cell_type": "code",
   "execution_count": 5,
   "metadata": {},
   "outputs": [
    {
     "data": {
      "text/html": [
       "<div>\n",
       "<style>\n",
       "    .dataframe thead tr:only-child th {\n",
       "        text-align: right;\n",
       "    }\n",
       "\n",
       "    .dataframe thead th {\n",
       "        text-align: left;\n",
       "    }\n",
       "\n",
       "    .dataframe tbody tr th {\n",
       "        vertical-align: top;\n",
       "    }\n",
       "</style>\n",
       "<table border=\"1\" class=\"dataframe\">\n",
       "  <thead>\n",
       "    <tr style=\"text-align: right;\">\n",
       "      <th></th>\n",
       "      <th>NAs</th>\n",
       "    </tr>\n",
       "  </thead>\n",
       "  <tbody>\n",
       "    <tr>\n",
       "      <th>pclass</th>\n",
       "      <td>0</td>\n",
       "    </tr>\n",
       "    <tr>\n",
       "      <th>survived</th>\n",
       "      <td>0</td>\n",
       "    </tr>\n",
       "    <tr>\n",
       "      <th>name</th>\n",
       "      <td>0</td>\n",
       "    </tr>\n",
       "    <tr>\n",
       "      <th>sex</th>\n",
       "      <td>0</td>\n",
       "    </tr>\n",
       "    <tr>\n",
       "      <th>age</th>\n",
       "      <td>139</td>\n",
       "    </tr>\n",
       "    <tr>\n",
       "      <th>sibsp</th>\n",
       "      <td>0</td>\n",
       "    </tr>\n",
       "    <tr>\n",
       "      <th>parch</th>\n",
       "      <td>0</td>\n",
       "    </tr>\n",
       "    <tr>\n",
       "      <th>ticket</th>\n",
       "      <td>0</td>\n",
       "    </tr>\n",
       "    <tr>\n",
       "      <th>fare</th>\n",
       "      <td>0</td>\n",
       "    </tr>\n",
       "    <tr>\n",
       "      <th>cabin</th>\n",
       "      <td>717</td>\n",
       "    </tr>\n",
       "    <tr>\n",
       "      <th>embarked</th>\n",
       "      <td>2</td>\n",
       "    </tr>\n",
       "    <tr>\n",
       "      <th>boat</th>\n",
       "      <td>583</td>\n",
       "    </tr>\n",
       "    <tr>\n",
       "      <th>body</th>\n",
       "      <td>905</td>\n",
       "    </tr>\n",
       "    <tr>\n",
       "      <th>home.dest</th>\n",
       "      <td>258</td>\n",
       "    </tr>\n",
       "  </tbody>\n",
       "</table>\n",
       "</div>"
      ],
      "text/plain": [
       "           NAs\n",
       "pclass       0\n",
       "survived     0\n",
       "name         0\n",
       "sex          0\n",
       "age        139\n",
       "sibsp        0\n",
       "parch        0\n",
       "ticket       0\n",
       "fare         0\n",
       "cabin      717\n",
       "embarked     2\n",
       "boat       583\n",
       "body       905\n",
       "home.dest  258"
      ]
     },
     "execution_count": 5,
     "metadata": {},
     "output_type": "execute_result"
    }
   ],
   "source": [
    "train.isnull().sum().to_frame('NAs')"
   ]
  },
  {
   "cell_type": "markdown",
   "metadata": {},
   "source": [
    "所有變數中，cabin、boat、body及home.dest的資料都相當稀疏，另外 age 也有百餘筆 NA 值，embarked 則少了兩筆。"
   ]
  },
  {
   "cell_type": "markdown",
   "metadata": {},
   "source": [
    "## 1.4 資料合併"
   ]
  },
  {
   "cell_type": "markdown",
   "metadata": {},
   "source": [
    "先將 train 和 test 兩個資料合併，方便後續進行資料處理和分析。最後會在 train data 前把 test 從中移除。"
   ]
  },
  {
   "cell_type": "code",
   "execution_count": 6,
   "metadata": {
    "collapsed": true
   },
   "outputs": [],
   "source": [
    "data = train.append(test)\n",
    "data.reset_index(inplace=True, drop=True)"
   ]
  },
  {
   "cell_type": "markdown",
   "metadata": {},
   "source": [
    "## 1.5 重要變數探索"
   ]
  },
  {
   "cell_type": "code",
   "execution_count": 7,
   "metadata": {
    "collapsed": true
   },
   "outputs": [],
   "source": [
    "data['survived'] = data['survived'].astype('category') # convert to categorical type\n",
    "data['sex'] = data['sex'].astype('category') # convert to categorical type\n",
    "data['pclass'] = data['pclass'].astype('category', ordered=True, categories=[1,2,3]) # convert to ordered categorical type"
   ]
  },
  {
   "cell_type": "markdown",
   "metadata": {},
   "source": [
    "### 1.5.1 應變數：Survived"
   ]
  },
  {
   "cell_type": "code",
   "execution_count": 8,
   "metadata": {},
   "outputs": [
    {
     "data": {
      "image/png": "[encoded data removed]",
      "text/plain": [
       "<Figure size 432x288 with 1 Axes>"
      ]
     },
     "metadata": {},
     "output_type": "display_data"
    }
   ],
   "source": [
    "ax = sns.countplot(x='survived', data=data, palette='Set1')\n",
    "ax.set_title(\"How many people survived on the Titanic?\")\n",
    "ax.set_xticklabels([\"Died\",\"Survived\"], rotation='vertical')\n",
    "ax.set_ylabel(\"Population\")\n",
    "plt.show()"
   ]
  },
  {
   "cell_type": "markdown",
   "metadata": {},
   "source": [
    "### 1.5.2 自變數：Sex"
   ]
  },
  {
   "cell_type": "markdown",
   "metadata": {},
   "source": [
    "結論：女性乘客存活率遠高於男性，將近四倍！"
   ]
  },
  {
   "cell_type": "code",
   "execution_count": 9,
   "metadata": {},
   "outputs": [
    {
     "name": "stdout",
     "output_type": "stream",
     "text": [
      "Percentage of Female who survived:78.17\n",
      "Percentage of Male who survived:21.14\n"
     ]
    }
   ],
   "source": [
    "print(\"Percentage of Female who survived:%.2f\"%(data[\"survived\"][data[\"sex\"]==\"female\"].value_counts(normalize=True)[1]*100))\n",
    "print(\"Percentage of Male who survived:%.2f\"%(data[\"survived\"][data[\"sex\"]==\"male\"].value_counts(normalize=True)[1]*100))"
   ]
  },
  {
   "cell_type": "code",
   "execution_count": 10,
   "metadata": {},
   "outputs": [
    {
     "data": {
      "image/png": "[encoded data removed]",
      "text/plain": [
       "<Figure size 504x360 with 1 Axes>"
      ]
     },
     "metadata": {},
     "output_type": "display_data"
    }
   ],
   "source": [
    "data_sex = data.groupby(['sex', 'survived'])['sex'].count()\n",
    "data_sex = data_sex.unstack('survived').fillna(0)\n",
    "data_sex.plot.bar(stacked=True, figsize=(7,5))\n",
    "plt.show()"
   ]
  },
  {
   "cell_type": "markdown",
   "metadata": {},
   "source": [
    "### 1.5.3 自變數：Pclass"
   ]
  },
  {
   "cell_type": "markdown",
   "metadata": {},
   "source": [
    "結論：乘客社會階級越高存活率越大，其中 Class 1 的乘客存活率超過六成。"
   ]
  },
  {
   "cell_type": "code",
   "execution_count": 11,
   "metadata": {
    "scrolled": true
   },
   "outputs": [
    {
     "name": "stdout",
     "output_type": "stream",
     "text": [
      "Percentage of Pclass = 1 who survived:61.92\n",
      "Percentage of Pclass = 2 who survived:42.96\n",
      "Percentage of Pclass = 3 who survived:26.00\n"
     ]
    }
   ],
   "source": [
    "print(\"Percentage of Pclass = 1 who survived:%.2f\"%(data[\"survived\"][data[\"pclass\"]==1].value_counts(normalize=True)[1]*100))\n",
    "print(\"Percentage of Pclass = 2 who survived:%.2f\"%(data[\"survived\"][data[\"pclass\"]==2].value_counts(normalize=True)[1]*100))\n",
    "print(\"Percentage of Pclass = 3 who survived:%.2f\"%(data[\"survived\"][data[\"pclass\"]==3].value_counts(normalize=True)[1]*100))"
   ]
  },
  {
   "cell_type": "code",
   "execution_count": 12,
   "metadata": {},
   "outputs": [
    {
     "data": {
      "image/png": "[encoded data removed]",
      "text/plain": [
       "<Figure size 504x360 with 1 Axes>"
      ]
     },
     "metadata": {},
     "output_type": "display_data"
    }
   ],
   "source": [
    "data_pclass = data.groupby(['pclass', 'survived'])['pclass'].count()\n",
    "data_pclass = data_pclass.unstack('survived').fillna(0)\n",
    "data_pclass.plot.bar(stacked=True, figsize=(7,5))\n",
    "plt.show()"
   ]
  },
  {
   "cell_type": "markdown",
   "metadata": {},
   "source": [
    "### 1.5.4 自變數：parch、sibsp → 親屬關係"
   ]
  },
  {
   "cell_type": "markdown",
   "metadata": {},
   "source": [
    "+ **parch**：父母與子女數"
   ]
  },
  {
   "cell_type": "markdown",
   "metadata": {},
   "source": [
    "結論：父母與子女數在1~3人的存活率較高，近六成。"
   ]
  },
  {
   "cell_type": "code",
   "execution_count": 13,
   "metadata": {},
   "outputs": [
    {
     "name": "stdout",
     "output_type": "stream",
     "text": [
      "Percentage of parch = 0 who survived:36.61\n",
      "Percentage of parch = 1 who survived:65.38\n",
      "Percentage of parch = 2 who survived:57.14\n",
      "Percentage of parch = 3 who survived:62.50\n",
      "Percentage of parch = 4 who survived:33.33\n",
      "Percentage of parch = 5 who survived:25.00\n",
      "Percentage of parch = 6 who survived:0.00\n"
     ]
    }
   ],
   "source": [
    "print(\"Percentage of parch = 0 who survived:%.2f\"%(data[\"survived\"][data[\"parch\"]==0].value_counts(normalize=True)[1]*100))\n",
    "print(\"Percentage of parch = 1 who survived:%.2f\"%(data[\"survived\"][data[\"parch\"]==1].value_counts(normalize=True)[1]*100))\n",
    "print(\"Percentage of parch = 2 who survived:%.2f\"%(data[\"survived\"][data[\"parch\"]==2].value_counts(normalize=True)[1]*100))\n",
    "print(\"Percentage of parch = 3 who survived:%.2f\"%(data[\"survived\"][data[\"parch\"]==3].value_counts(normalize=True)[1]*100))\n",
    "print(\"Percentage of parch = 4 who survived:%.2f\"%(data[\"survived\"][data[\"parch\"]==4].value_counts(normalize=True)[1]*100))\n",
    "print(\"Percentage of parch = 5 who survived:%.2f\"%(data[\"survived\"][data[\"parch\"]==5].value_counts(normalize=True)[1]*100))\n",
    "print(\"Percentage of parch = 6 who survived:%.2f\"%(data[\"survived\"][data[\"parch\"]==6].value_counts(normalize=True)[1]*100))"
   ]
  },
  {
   "cell_type": "code",
   "execution_count": 14,
   "metadata": {
    "scrolled": false
   },
   "outputs": [
    {
     "data": {
      "image/png": "[encoded data removed]",
      "text/plain": [
       "<Figure size 720x648 with 1 Axes>"
      ]
     },
     "metadata": {},
     "output_type": "display_data"
    }
   ],
   "source": [
    "data_parch = data.groupby(['parch', 'survived'])['parch'].count()\n",
    "data_parch = data_parch.unstack('survived').fillna(0)\n",
    "data_parch.plot.bar(stacked=False, figsize=(10,9))\n",
    "plt.show()"
   ]
  },
  {
   "cell_type": "markdown",
   "metadata": {},
   "source": [
    "+ **sibsp**：配偶與兄弟姊妹數"
   ]
  },
  {
   "cell_type": "markdown",
   "metadata": {},
   "source": [
    "結論：配偶與兄弟姊妹數在1~3人的存活率近五成。"
   ]
  },
  {
   "cell_type": "code",
   "execution_count": 15,
   "metadata": {},
   "outputs": [
    {
     "name": "stdout",
     "output_type": "stream",
     "text": [
      "Percentage of sibsp = 0 who survived:38.38\n",
      "Percentage of sibsp = 1 who survived:52.59\n",
      "Percentage of sibsp = 2 who survived:47.06\n",
      "Percentage of sibsp = 3 who survived:54.55\n",
      "Percentage of sibsp = 4 who survived:25.00\n",
      "Percentage of sibsp = 5 who survived:0.00\n"
     ]
    }
   ],
   "source": [
    "print(\"Percentage of sibsp = 0 who survived:%.2f\"%(data[\"survived\"][data[\"sibsp\"]==0].value_counts(normalize=True)[1]*100))\n",
    "print(\"Percentage of sibsp = 1 who survived:%.2f\"%(data[\"survived\"][data[\"sibsp\"]==1].value_counts(normalize=True)[1]*100))\n",
    "print(\"Percentage of sibsp = 2 who survived:%.2f\"%(data[\"survived\"][data[\"sibsp\"]==2].value_counts(normalize=True)[1]*100))\n",
    "print(\"Percentage of sibsp = 3 who survived:%.2f\"%(data[\"survived\"][data[\"sibsp\"]==3].value_counts(normalize=True)[1]*100))\n",
    "print(\"Percentage of sibsp = 4 who survived:%.2f\"%(data[\"survived\"][data[\"sibsp\"]==4].value_counts(normalize=True)[1]*100))\n",
    "print(\"Percentage of sibsp = 5 who survived:%.2f\"%(data[\"survived\"][data[\"sibsp\"]==5].value_counts(normalize=True)[1]*100))"
   ]
  },
  {
   "cell_type": "code",
   "execution_count": 16,
   "metadata": {
    "scrolled": true
   },
   "outputs": [
    {
     "data": {
      "image/png": "[encoded data removed]",
      "text/plain": [
       "<Figure size 720x648 with 1 Axes>"
      ]
     },
     "metadata": {},
     "output_type": "display_data"
    }
   ],
   "source": [
    "data_sibsp = data.groupby(['sibsp', 'survived'])['sibsp'].count()\n",
    "data_sibsp = data_sibsp.unstack('survived').fillna(0)\n",
    "data_sibsp.plot.bar(stacked=False, figsize=(10,9))\n",
    "plt.show()"
   ]
  },
  {
   "cell_type": "markdown",
   "metadata": {},
   "source": [
    "+ **family_size**：合併上述兩樣變數，成新的自變數 family_size，表示所有親屬。"
   ]
  },
  {
   "cell_type": "markdown",
   "metadata": {},
   "source": [
    "結論：親屬數為5及7人者存活率特別高，超過七成。"
   ]
  },
  {
   "cell_type": "code",
   "execution_count": 17,
   "metadata": {
    "collapsed": true
   },
   "outputs": [],
   "source": [
    "data['family_size'] = data['parch'] + data['sibsp']"
   ]
  },
  {
   "cell_type": "code",
   "execution_count": 18,
   "metadata": {},
   "outputs": [
    {
     "name": "stdout",
     "output_type": "stream",
     "text": [
      "Percentage of family_size = 0 who survived:33.39\n",
      "Percentage of family_size = 1 who survived:54.90\n",
      "Percentage of family_size = 2 who survived:58.20\n",
      "Percentage of family_size = 3 who survived:71.43\n",
      "Percentage of family_size = 4 who survived:35.29\n",
      "Percentage of family_size = 5 who survived:71.43\n",
      "Percentage of family_size = 6 who survived:25.00\n",
      "Percentage of family_size = 7 who survived:0.00\n"
     ]
    }
   ],
   "source": [
    "print(\"Percentage of family_size = 0 who survived:%.2f\"%(data[\"survived\"][data[\"family_size\"]==0].value_counts(normalize=True)[1]*100))\n",
    "print(\"Percentage of family_size = 1 who survived:%.2f\"%(data[\"survived\"][data[\"family_size\"]==1].value_counts(normalize=True)[1]*100))\n",
    "print(\"Percentage of family_size = 2 who survived:%.2f\"%(data[\"survived\"][data[\"family_size\"]==2].value_counts(normalize=True)[1]*100))\n",
    "print(\"Percentage of family_size = 3 who survived:%.2f\"%(data[\"survived\"][data[\"family_size\"]==3].value_counts(normalize=True)[1]*100))\n",
    "print(\"Percentage of family_size = 4 who survived:%.2f\"%(data[\"survived\"][data[\"family_size\"]==4].value_counts(normalize=True)[1]*100))\n",
    "print(\"Percentage of family_size = 5 who survived:%.2f\"%(data[\"survived\"][data[\"family_size\"]==5].value_counts(normalize=True)[1]*100))\n",
    "print(\"Percentage of family_size = 6 who survived:%.2f\"%(data[\"survived\"][data[\"family_size\"]==6].value_counts(normalize=True)[1]*100))\n",
    "print(\"Percentage of family_size = 7 who survived:%.2f\"%(data[\"survived\"][data[\"family_size\"]==7].value_counts(normalize=True)[1]*100))"
   ]
  },
  {
   "cell_type": "code",
   "execution_count": 19,
   "metadata": {
    "collapsed": true
   },
   "outputs": [],
   "source": [
    "data['family_size'] = data['parch'] + data['sibsp']"
   ]
  },
  {
   "cell_type": "code",
   "execution_count": 20,
   "metadata": {},
   "outputs": [
    {
     "data": {
      "image/png": "[encoded data removed]",
      "text/plain": [
       "<Figure size 720x648 with 1 Axes>"
      ]
     },
     "metadata": {},
     "output_type": "display_data"
    }
   ],
   "source": [
    "data_fam = data.groupby(['family_size', 'survived'])['family_size'].count()\n",
    "data_fam = data_fam.unstack('survived').fillna(0)\n",
    "data_fam.plot.bar(stacked=False, figsize=(10,9))\n",
    "plt.show()"
   ]
  },
  {
   "cell_type": "markdown",
   "metadata": {},
   "source": [
    "### 1.5.5 自變數：age"
   ]
  },
  {
   "cell_type": "markdown",
   "metadata": {},
   "source": [
    "結論：年輕族群（0-20歲）的存活率高於死亡率。"
   ]
  },
  {
   "cell_type": "code",
   "execution_count": 21,
   "metadata": {
    "scrolled": true
   },
   "outputs": [
    {
     "name": "stderr",
     "output_type": "stream",
     "text": [
      "C:\\Users\\jestw\\Anaconda3\\lib\\site-packages\\matplotlib\\axes\\_axes.py:6462: UserWarning: The 'normed' kwarg is deprecated, and has been replaced by the 'density' kwarg.\n",
      "  warnings.warn(\"The 'normed' kwarg is deprecated, and has been \"\n"
     ]
    },
    {
     "data": {
      "text/plain": [
       "<seaborn.axisgrid.FacetGrid at 0x28aca005f60>"
      ]
     },
     "execution_count": 21,
     "metadata": {},
     "output_type": "execute_result"
    },
    {
     "data": {
      "image/png": "[encoded data removed]",
      "text/plain": [
       "<Figure size 432x216 with 2 Axes>"
      ]
     },
     "metadata": {},
     "output_type": "display_data"
    }
   ],
   "source": [
    "g = sns.FacetGrid(data, col='survived')\n",
    "g.map(sns.distplot, 'age', kde=False)"
   ]
  },
  {
   "cell_type": "markdown",
   "metadata": {},
   "source": [
    "### 1.5.6 自變數：fare"
   ]
  },
  {
   "cell_type": "markdown",
   "metadata": {},
   "source": [
    "結論：票價越高者，存活率越高。"
   ]
  },
  {
   "cell_type": "code",
   "execution_count": 22,
   "metadata": {},
   "outputs": [
    {
     "data": {
      "text/plain": [
       "<bound method Grid.add_legend of <seaborn.axisgrid.FacetGrid object at 0x0000028ACA46C4A8>>"
      ]
     },
     "execution_count": 22,
     "metadata": {},
     "output_type": "execute_result"
    },
    {
     "data": {
      "image/png": "[encoded data removed]",
      "text/plain": [
       "<Figure size 432x216 with 1 Axes>"
      ]
     },
     "metadata": {},
     "output_type": "display_data"
    }
   ],
   "source": [
    "facet=sns.FacetGrid(data,hue=\"survived\",aspect=2)\n",
    "facet.map(sns.kdeplot,'fare',shade=True)\n",
    "facet.set(xlim=(0,200))\n",
    "facet.add_legend"
   ]
  },
  {
   "cell_type": "markdown",
   "metadata": {},
   "source": [
    "### 1.5.7 自變數：name → 稱謂 + 姓名"
   ]
  },
  {
   "cell_type": "markdown",
   "metadata": {},
   "source": [
    "Step 1：將稱謂從名字中取出，存在欄位 title1。 \n",
    "\n",
    "Step 2：比對稱謂和性別、年紀的關係。\n",
    "\n",
    "#Step 3：替換掉多餘的稱謂：給予性別、年紀相仿者相同的稱謂。\n",
    "\n",
    "#Step 4：檢視最後剩下來的稱謂：Master、Miss、Mr、Mrs。"
   ]
  },
  {
   "cell_type": "code",
   "execution_count": 23,
   "metadata": {},
   "outputs": [
    {
     "data": {
      "text/plain": [
       "array(['Miss', 'Master', 'Mr', 'Mrs', 'Col', 'Mme', 'Dr', 'Major', 'Capt',\n",
       "       'Lady', 'Sir', 'Mlle', 'Dona', 'Jonkheer', 'the Countess', 'Don',\n",
       "       'Rev', 'Ms'], dtype=object)"
      ]
     },
     "execution_count": 23,
     "metadata": {},
     "output_type": "execute_result"
    }
   ],
   "source": [
    "# Step 1\n",
    "data['title1'] = data['name'].str.split(\", \", expand=True)[1]\n",
    "data['title1'] = data['title1'].str.split(\".\", expand=True)[0]\n",
    "data['title1'].unique()"
   ]
  },
  {
   "cell_type": "code",
   "execution_count": 24,
   "metadata": {},
   "outputs": [
    {
     "data": {
      "text/html": [
       "<div>\n",
       "<style>\n",
       "    .dataframe thead tr:only-child th {\n",
       "        text-align: right;\n",
       "    }\n",
       "\n",
       "    .dataframe thead th {\n",
       "        text-align: left;\n",
       "    }\n",
       "\n",
       "    .dataframe tbody tr th {\n",
       "        vertical-align: top;\n",
       "    }\n",
       "</style>\n",
       "<table border=\"1\" class=\"dataframe\">\n",
       "  <thead>\n",
       "    <tr style=\"text-align: right;\">\n",
       "      <th></th>\n",
       "      <th>pclass</th>\n",
       "      <th>survived</th>\n",
       "      <th>name</th>\n",
       "      <th>sex</th>\n",
       "      <th>age</th>\n",
       "      <th>sibsp</th>\n",
       "      <th>parch</th>\n",
       "      <th>ticket</th>\n",
       "      <th>fare</th>\n",
       "      <th>cabin</th>\n",
       "      <th>embarked</th>\n",
       "      <th>boat</th>\n",
       "      <th>body</th>\n",
       "      <th>home.dest</th>\n",
       "      <th>family_size</th>\n",
       "      <th>title1</th>\n",
       "    </tr>\n",
       "  </thead>\n",
       "  <tbody>\n",
       "    <tr>\n",
       "      <th>0</th>\n",
       "      <td>1</td>\n",
       "      <td>1.0</td>\n",
       "      <td>Allen, Miss. Elisabeth Walton</td>\n",
       "      <td>female</td>\n",
       "      <td>29.000000</td>\n",
       "      <td>0</td>\n",
       "      <td>0</td>\n",
       "      <td>24160</td>\n",
       "      <td>211.3375</td>\n",
       "      <td>B5</td>\n",
       "      <td>S</td>\n",
       "      <td>2</td>\n",
       "      <td>NaN</td>\n",
       "      <td>St Louis, MO</td>\n",
       "      <td>0</td>\n",
       "      <td>Miss</td>\n",
       "    </tr>\n",
       "    <tr>\n",
       "      <th>1</th>\n",
       "      <td>1</td>\n",
       "      <td>1.0</td>\n",
       "      <td>Allison, Master. Hudson Trevor</td>\n",
       "      <td>male</td>\n",
       "      <td>0.916504</td>\n",
       "      <td>1</td>\n",
       "      <td>2</td>\n",
       "      <td>113781</td>\n",
       "      <td>151.5500</td>\n",
       "      <td>C22 C26</td>\n",
       "      <td>S</td>\n",
       "      <td>11</td>\n",
       "      <td>NaN</td>\n",
       "      <td>Montreal, PQ / Chesterville, ON</td>\n",
       "      <td>3</td>\n",
       "      <td>Master</td>\n",
       "    </tr>\n",
       "    <tr>\n",
       "      <th>2</th>\n",
       "      <td>1</td>\n",
       "      <td>0.0</td>\n",
       "      <td>Allison, Miss. Helen Loraine</td>\n",
       "      <td>female</td>\n",
       "      <td>2.000000</td>\n",
       "      <td>1</td>\n",
       "      <td>2</td>\n",
       "      <td>113781</td>\n",
       "      <td>151.5500</td>\n",
       "      <td>C22 C26</td>\n",
       "      <td>S</td>\n",
       "      <td>NaN</td>\n",
       "      <td>NaN</td>\n",
       "      <td>Montreal, PQ / Chesterville, ON</td>\n",
       "      <td>3</td>\n",
       "      <td>Miss</td>\n",
       "    </tr>\n",
       "  </tbody>\n",
       "</table>\n",
       "</div>"
      ],
      "text/plain": [
       "  pclass survived                            name     sex        age  sibsp  \\\n",
       "0      1      1.0   Allen, Miss. Elisabeth Walton  female  29.000000      0   \n",
       "1      1      1.0  Allison, Master. Hudson Trevor    male   0.916504      1   \n",
       "2      1      0.0    Allison, Miss. Helen Loraine  female   2.000000      1   \n",
       "\n",
       "   parch  ticket      fare    cabin embarked boat  body  \\\n",
       "0      0   24160  211.3375       B5        S    2   NaN   \n",
       "1      2  113781  151.5500  C22 C26        S   11   NaN   \n",
       "2      2  113781  151.5500  C22 C26        S  NaN   NaN   \n",
       "\n",
       "                         home.dest  family_size  title1  \n",
       "0                     St Louis, MO            0    Miss  \n",
       "1  Montreal, PQ / Chesterville, ON            3  Master  \n",
       "2  Montreal, PQ / Chesterville, ON            3    Miss  "
      ]
     },
     "execution_count": 24,
     "metadata": {},
     "output_type": "execute_result"
    }
   ],
   "source": [
    "data.head(3)"
   ]
  },
  {
   "cell_type": "code",
   "execution_count": 25,
   "metadata": {},
   "outputs": [
    {
     "data": {
      "text/html": [
       "<style  type=\"text/css\" >\n",
       "    #T_41e56980_4e7c_11e8_b60f_8b36abe44ec7row0_col0 {\n",
       "            background-color:  #ffff66;\n",
       "        }    #T_41e56980_4e7c_11e8_b60f_8b36abe44ec7row0_col1 {\n",
       "            background-color:  #ffff66;\n",
       "        }    #T_41e56980_4e7c_11e8_b60f_8b36abe44ec7row0_col2 {\n",
       "            background-color:  #ffff66;\n",
       "        }    #T_41e56980_4e7c_11e8_b60f_8b36abe44ec7row0_col3 {\n",
       "            background-color:  #008066;\n",
       "        }    #T_41e56980_4e7c_11e8_b60f_8b36abe44ec7row0_col4 {\n",
       "            background-color:  #ffff66;\n",
       "        }    #T_41e56980_4e7c_11e8_b60f_8b36abe44ec7row0_col5 {\n",
       "            background-color:  #ffff66;\n",
       "        }    #T_41e56980_4e7c_11e8_b60f_8b36abe44ec7row0_col6 {\n",
       "            background-color:  #008066;\n",
       "        }    #T_41e56980_4e7c_11e8_b60f_8b36abe44ec7row0_col7 {\n",
       "            background-color:  #ffff66;\n",
       "        }    #T_41e56980_4e7c_11e8_b60f_8b36abe44ec7row0_col8 {\n",
       "            background-color:  #ffff66;\n",
       "        }    #T_41e56980_4e7c_11e8_b60f_8b36abe44ec7row0_col9 {\n",
       "            background-color:  #008066;\n",
       "        }    #T_41e56980_4e7c_11e8_b60f_8b36abe44ec7row0_col10 {\n",
       "            background-color:  #008066;\n",
       "        }    #T_41e56980_4e7c_11e8_b60f_8b36abe44ec7row0_col11 {\n",
       "            background-color:  #008066;\n",
       "        }    #T_41e56980_4e7c_11e8_b60f_8b36abe44ec7row0_col12 {\n",
       "            background-color:  #ffff66;\n",
       "        }    #T_41e56980_4e7c_11e8_b60f_8b36abe44ec7row0_col13 {\n",
       "            background-color:  #008066;\n",
       "        }    #T_41e56980_4e7c_11e8_b60f_8b36abe44ec7row0_col14 {\n",
       "            background-color:  #008066;\n",
       "        }    #T_41e56980_4e7c_11e8_b60f_8b36abe44ec7row0_col15 {\n",
       "            background-color:  #ffff66;\n",
       "        }    #T_41e56980_4e7c_11e8_b60f_8b36abe44ec7row0_col16 {\n",
       "            background-color:  #ffff66;\n",
       "        }    #T_41e56980_4e7c_11e8_b60f_8b36abe44ec7row0_col17 {\n",
       "            background-color:  #008066;\n",
       "        }    #T_41e56980_4e7c_11e8_b60f_8b36abe44ec7row1_col0 {\n",
       "            background-color:  #008066;\n",
       "        }    #T_41e56980_4e7c_11e8_b60f_8b36abe44ec7row1_col1 {\n",
       "            background-color:  #008066;\n",
       "        }    #T_41e56980_4e7c_11e8_b60f_8b36abe44ec7row1_col2 {\n",
       "            background-color:  #008066;\n",
       "        }    #T_41e56980_4e7c_11e8_b60f_8b36abe44ec7row1_col3 {\n",
       "            background-color:  #ffff66;\n",
       "        }    #T_41e56980_4e7c_11e8_b60f_8b36abe44ec7row1_col4 {\n",
       "            background-color:  #008066;\n",
       "        }    #T_41e56980_4e7c_11e8_b60f_8b36abe44ec7row1_col5 {\n",
       "            background-color:  #008066;\n",
       "        }    #T_41e56980_4e7c_11e8_b60f_8b36abe44ec7row1_col6 {\n",
       "            background-color:  #ffff66;\n",
       "        }    #T_41e56980_4e7c_11e8_b60f_8b36abe44ec7row1_col7 {\n",
       "            background-color:  #008066;\n",
       "        }    #T_41e56980_4e7c_11e8_b60f_8b36abe44ec7row1_col8 {\n",
       "            background-color:  #008066;\n",
       "        }    #T_41e56980_4e7c_11e8_b60f_8b36abe44ec7row1_col9 {\n",
       "            background-color:  #ffff66;\n",
       "        }    #T_41e56980_4e7c_11e8_b60f_8b36abe44ec7row1_col10 {\n",
       "            background-color:  #ffff66;\n",
       "        }    #T_41e56980_4e7c_11e8_b60f_8b36abe44ec7row1_col11 {\n",
       "            background-color:  #ffff66;\n",
       "        }    #T_41e56980_4e7c_11e8_b60f_8b36abe44ec7row1_col12 {\n",
       "            background-color:  #008066;\n",
       "        }    #T_41e56980_4e7c_11e8_b60f_8b36abe44ec7row1_col13 {\n",
       "            background-color:  #ffff66;\n",
       "        }    #T_41e56980_4e7c_11e8_b60f_8b36abe44ec7row1_col14 {\n",
       "            background-color:  #ffff66;\n",
       "        }    #T_41e56980_4e7c_11e8_b60f_8b36abe44ec7row1_col15 {\n",
       "            background-color:  #008066;\n",
       "        }    #T_41e56980_4e7c_11e8_b60f_8b36abe44ec7row1_col16 {\n",
       "            background-color:  #008066;\n",
       "        }    #T_41e56980_4e7c_11e8_b60f_8b36abe44ec7row1_col17 {\n",
       "            background-color:  #ffff66;\n",
       "        }</style>  \n",
       "<table id=\"T_41e56980_4e7c_11e8_b60f_8b36abe44ec7\" > \n",
       "<thead>    <tr> \n",
       "        <th class=\"index_name level0\" >title1</th> \n",
       "        <th class=\"col_heading level0 col0\" >Capt</th> \n",
       "        <th class=\"col_heading level0 col1\" >Col</th> \n",
       "        <th class=\"col_heading level0 col2\" >Don</th> \n",
       "        <th class=\"col_heading level0 col3\" >Dona</th> \n",
       "        <th class=\"col_heading level0 col4\" >Dr</th> \n",
       "        <th class=\"col_heading level0 col5\" >Jonkheer</th> \n",
       "        <th class=\"col_heading level0 col6\" >Lady</th> \n",
       "        <th class=\"col_heading level0 col7\" >Major</th> \n",
       "        <th class=\"col_heading level0 col8\" >Master</th> \n",
       "        <th class=\"col_heading level0 col9\" >Miss</th> \n",
       "        <th class=\"col_heading level0 col10\" >Mlle</th> \n",
       "        <th class=\"col_heading level0 col11\" >Mme</th> \n",
       "        <th class=\"col_heading level0 col12\" >Mr</th> \n",
       "        <th class=\"col_heading level0 col13\" >Mrs</th> \n",
       "        <th class=\"col_heading level0 col14\" >Ms</th> \n",
       "        <th class=\"col_heading level0 col15\" >Rev</th> \n",
       "        <th class=\"col_heading level0 col16\" >Sir</th> \n",
       "        <th class=\"col_heading level0 col17\" >the Countess</th> \n",
       "    </tr>    <tr> \n",
       "        <th class=\"index_name level0\" >sex</th> \n",
       "        <th class=\"blank\" ></th> \n",
       "        <th class=\"blank\" ></th> \n",
       "        <th class=\"blank\" ></th> \n",
       "        <th class=\"blank\" ></th> \n",
       "        <th class=\"blank\" ></th> \n",
       "        <th class=\"blank\" ></th> \n",
       "        <th class=\"blank\" ></th> \n",
       "        <th class=\"blank\" ></th> \n",
       "        <th class=\"blank\" ></th> \n",
       "        <th class=\"blank\" ></th> \n",
       "        <th class=\"blank\" ></th> \n",
       "        <th class=\"blank\" ></th> \n",
       "        <th class=\"blank\" ></th> \n",
       "        <th class=\"blank\" ></th> \n",
       "        <th class=\"blank\" ></th> \n",
       "        <th class=\"blank\" ></th> \n",
       "        <th class=\"blank\" ></th> \n",
       "        <th class=\"blank\" ></th> \n",
       "    </tr></thead> \n",
       "<tbody>    <tr> \n",
       "        <th id=\"T_41e56980_4e7c_11e8_b60f_8b36abe44ec7level0_row0\" class=\"row_heading level0 row0\" >female</th> \n",
       "        <td id=\"T_41e56980_4e7c_11e8_b60f_8b36abe44ec7row0_col0\" class=\"data row0 col0\" >0</td> \n",
       "        <td id=\"T_41e56980_4e7c_11e8_b60f_8b36abe44ec7row0_col1\" class=\"data row0 col1\" >0</td> \n",
       "        <td id=\"T_41e56980_4e7c_11e8_b60f_8b36abe44ec7row0_col2\" class=\"data row0 col2\" >0</td> \n",
       "        <td id=\"T_41e56980_4e7c_11e8_b60f_8b36abe44ec7row0_col3\" class=\"data row0 col3\" >1</td> \n",
       "        <td id=\"T_41e56980_4e7c_11e8_b60f_8b36abe44ec7row0_col4\" class=\"data row0 col4\" >1</td> \n",
       "        <td id=\"T_41e56980_4e7c_11e8_b60f_8b36abe44ec7row0_col5\" class=\"data row0 col5\" >0</td> \n",
       "        <td id=\"T_41e56980_4e7c_11e8_b60f_8b36abe44ec7row0_col6\" class=\"data row0 col6\" >1</td> \n",
       "        <td id=\"T_41e56980_4e7c_11e8_b60f_8b36abe44ec7row0_col7\" class=\"data row0 col7\" >0</td> \n",
       "        <td id=\"T_41e56980_4e7c_11e8_b60f_8b36abe44ec7row0_col8\" class=\"data row0 col8\" >0</td> \n",
       "        <td id=\"T_41e56980_4e7c_11e8_b60f_8b36abe44ec7row0_col9\" class=\"data row0 col9\" >260</td> \n",
       "        <td id=\"T_41e56980_4e7c_11e8_b60f_8b36abe44ec7row0_col10\" class=\"data row0 col10\" >2</td> \n",
       "        <td id=\"T_41e56980_4e7c_11e8_b60f_8b36abe44ec7row0_col11\" class=\"data row0 col11\" >1</td> \n",
       "        <td id=\"T_41e56980_4e7c_11e8_b60f_8b36abe44ec7row0_col12\" class=\"data row0 col12\" >0</td> \n",
       "        <td id=\"T_41e56980_4e7c_11e8_b60f_8b36abe44ec7row0_col13\" class=\"data row0 col13\" >197</td> \n",
       "        <td id=\"T_41e56980_4e7c_11e8_b60f_8b36abe44ec7row0_col14\" class=\"data row0 col14\" >2</td> \n",
       "        <td id=\"T_41e56980_4e7c_11e8_b60f_8b36abe44ec7row0_col15\" class=\"data row0 col15\" >0</td> \n",
       "        <td id=\"T_41e56980_4e7c_11e8_b60f_8b36abe44ec7row0_col16\" class=\"data row0 col16\" >0</td> \n",
       "        <td id=\"T_41e56980_4e7c_11e8_b60f_8b36abe44ec7row0_col17\" class=\"data row0 col17\" >1</td> \n",
       "    </tr>    <tr> \n",
       "        <th id=\"T_41e56980_4e7c_11e8_b60f_8b36abe44ec7level0_row1\" class=\"row_heading level0 row1\" >male</th> \n",
       "        <td id=\"T_41e56980_4e7c_11e8_b60f_8b36abe44ec7row1_col0\" class=\"data row1 col0\" >1</td> \n",
       "        <td id=\"T_41e56980_4e7c_11e8_b60f_8b36abe44ec7row1_col1\" class=\"data row1 col1\" >4</td> \n",
       "        <td id=\"T_41e56980_4e7c_11e8_b60f_8b36abe44ec7row1_col2\" class=\"data row1 col2\" >1</td> \n",
       "        <td id=\"T_41e56980_4e7c_11e8_b60f_8b36abe44ec7row1_col3\" class=\"data row1 col3\" >0</td> \n",
       "        <td id=\"T_41e56980_4e7c_11e8_b60f_8b36abe44ec7row1_col4\" class=\"data row1 col4\" >7</td> \n",
       "        <td id=\"T_41e56980_4e7c_11e8_b60f_8b36abe44ec7row1_col5\" class=\"data row1 col5\" >1</td> \n",
       "        <td id=\"T_41e56980_4e7c_11e8_b60f_8b36abe44ec7row1_col6\" class=\"data row1 col6\" >0</td> \n",
       "        <td id=\"T_41e56980_4e7c_11e8_b60f_8b36abe44ec7row1_col7\" class=\"data row1 col7\" >2</td> \n",
       "        <td id=\"T_41e56980_4e7c_11e8_b60f_8b36abe44ec7row1_col8\" class=\"data row1 col8\" >61</td> \n",
       "        <td id=\"T_41e56980_4e7c_11e8_b60f_8b36abe44ec7row1_col9\" class=\"data row1 col9\" >0</td> \n",
       "        <td id=\"T_41e56980_4e7c_11e8_b60f_8b36abe44ec7row1_col10\" class=\"data row1 col10\" >0</td> \n",
       "        <td id=\"T_41e56980_4e7c_11e8_b60f_8b36abe44ec7row1_col11\" class=\"data row1 col11\" >0</td> \n",
       "        <td id=\"T_41e56980_4e7c_11e8_b60f_8b36abe44ec7row1_col12\" class=\"data row1 col12\" >757</td> \n",
       "        <td id=\"T_41e56980_4e7c_11e8_b60f_8b36abe44ec7row1_col13\" class=\"data row1 col13\" >0</td> \n",
       "        <td id=\"T_41e56980_4e7c_11e8_b60f_8b36abe44ec7row1_col14\" class=\"data row1 col14\" >0</td> \n",
       "        <td id=\"T_41e56980_4e7c_11e8_b60f_8b36abe44ec7row1_col15\" class=\"data row1 col15\" >8</td> \n",
       "        <td id=\"T_41e56980_4e7c_11e8_b60f_8b36abe44ec7row1_col16\" class=\"data row1 col16\" >1</td> \n",
       "        <td id=\"T_41e56980_4e7c_11e8_b60f_8b36abe44ec7row1_col17\" class=\"data row1 col17\" >0</td> \n",
       "    </tr></tbody> \n",
       "</table> "
      ],
      "text/plain": [
       "<pandas.io.formats.style.Styler at 0x28aca73e4a8>"
      ]
     },
     "execution_count": 25,
     "metadata": {},
     "output_type": "execute_result"
    }
   ],
   "source": [
    "# Step 2: title vs sex\n",
    "pd.crosstab(data['title1'],data['sex']).T.style.background_gradient(cmap='summer_r')"
   ]
  },
  {
   "cell_type": "code",
   "execution_count": 26,
   "metadata": {},
   "outputs": [
    {
     "data": {
      "text/plain": [
       "title1\n",
       "Capt            70.0\n",
       "Col             54.5\n",
       "Don             40.0\n",
       "Dona            39.0\n",
       "Dr              49.0\n",
       "Jonkheer        38.0\n",
       "Lady            48.0\n",
       "Major           48.5\n",
       "Master           4.0\n",
       "Miss            22.0\n",
       "Mlle            24.0\n",
       "Mme             24.0\n",
       "Mr              29.0\n",
       "Mrs             35.5\n",
       "Ms              28.0\n",
       "Rev             41.5\n",
       "Sir             49.0\n",
       "the Countess    33.0\n",
       "Name: age, dtype: float16"
      ]
     },
     "execution_count": 26,
     "metadata": {},
     "output_type": "execute_result"
    }
   ],
   "source": [
    "# Step 2: title vs age\n",
    "data.groupby(['title1'])['age'].median()"
   ]
  },
  {
   "cell_type": "code",
   "execution_count": 27,
   "metadata": {},
   "outputs": [],
   "source": [
    "# Step 3:\n",
    "#data['title2'] = data['title1'].replace(['Mlle','Mme','Ms','Dr','Major','Lady','the Countess','Jonkheer','Col','Rev','Capt','Sir','Don','Dona'],\n",
    "         #['Miss','Mrs','Miss','Mr','Mr','Mrs','Mrs','Mr','Mr','Mr','Mr','Mr','Mr','Mrs'])\n",
    "#data['title2'].unique()"
   ]
  },
  {
   "cell_type": "code",
   "execution_count": 28,
   "metadata": {},
   "outputs": [],
   "source": [
    "# Step 4:\n",
    "#data.groupby(['title2'])['age'].median()"
   ]
  },
  {
   "cell_type": "markdown",
   "metadata": {},
   "source": [
    "# Part 2: Data Cleaning / Feature Engineering"
   ]
  },
  {
   "cell_type": "markdown",
   "metadata": {},
   "source": [
    "## 2.1 資料預處理： NA 值"
   ]
  },
  {
   "cell_type": "markdown",
   "metadata": {},
   "source": [
    "### 2.1.1 自變數：age"
   ]
  },
  {
   "cell_type": "markdown",
   "metadata": {},
   "source": [
    "從上一段分析可以看出不同稱謂的乘客年齡分布不同，因此我們根據稱謂區分，算出中位數，填補年齡的 NA 值。"
   ]
  },
  {
   "cell_type": "code",
   "execution_count": 29,
   "metadata": {
    "collapsed": true
   },
   "outputs": [],
   "source": [
    "# Miss.、Ms.、Mrs\n",
    "mask =  (data[\"age\"].isnull()) & ( (data['name'].str.contains(\"Ms.\")) | (data['name'].str.contains(\"Miss.\")) )\n",
    "mask2 = ( (data['name'].str.contains(\"Ms.\")) | (data['name'].str.contains(\"Miss.\")) )\n",
    "data.loc[mask,'age'] = data.loc[mask,'age'].fillna(data.loc[mask2,'age'].median())"
   ]
  },
  {
   "cell_type": "code",
   "execution_count": 30,
   "metadata": {
    "collapsed": true
   },
   "outputs": [],
   "source": [
    "# Mr.、Major、Sir\n",
    "mask =  (data[\"age\"].isnull()) & ( (data['name'].str.contains(\"Mr.\")) | (data['name'].str.contains(\"Sir.\")) | (data['name'].str.contains(\"Major\")) )\n",
    "mask2 =  ( (data['name'].str.contains(\"Mr.\")) | (data['name'].str.contains(\"Sir.\")) | (data['name'].str.contains(\"Major\")) )\n",
    "data.loc[mask,'age'] = data.loc[mask,'age'].fillna(data.loc[mask2,'age'].median())"
   ]
  },
  {
   "cell_type": "code",
   "execution_count": 31,
   "metadata": {
    "collapsed": true
   },
   "outputs": [],
   "source": [
    "# Master\n",
    "mask =  (data[\"age\"].isnull()) & ( data['name'].str.contains(\"Master.\") )\n",
    "data.loc[mask,'age'] = data.loc[mask,'age'].fillna(data[data['name'].str.contains(\"Master.\")][\"age\"].median())"
   ]
  },
  {
   "cell_type": "code",
   "execution_count": 32,
   "metadata": {
    "collapsed": true
   },
   "outputs": [],
   "source": [
    "# Dr\n",
    "mask =  (data[\"age\"].isnull()) & ( data['name'].str.contains(\"Dr\\.\") )\n",
    "data.loc[mask,'age'] = data.loc[mask,'age'].fillna(data[data['name'].str.contains(\"Dr\\.\")][\"age\"].median())"
   ]
  },
  {
   "cell_type": "markdown",
   "metadata": {},
   "source": [
    "確認年齡資料補齊，不再有 NA 值。"
   ]
  },
  {
   "cell_type": "code",
   "execution_count": 33,
   "metadata": {},
   "outputs": [
    {
     "data": {
      "text/html": [
       "<div>\n",
       "<style>\n",
       "    .dataframe thead tr:only-child th {\n",
       "        text-align: right;\n",
       "    }\n",
       "\n",
       "    .dataframe thead th {\n",
       "        text-align: left;\n",
       "    }\n",
       "\n",
       "    .dataframe tbody tr th {\n",
       "        vertical-align: top;\n",
       "    }\n",
       "</style>\n",
       "<table border=\"1\" class=\"dataframe\">\n",
       "  <thead>\n",
       "    <tr style=\"text-align: right;\">\n",
       "      <th></th>\n",
       "      <th>pclass</th>\n",
       "      <th>survived</th>\n",
       "      <th>name</th>\n",
       "      <th>sex</th>\n",
       "      <th>age</th>\n",
       "      <th>sibsp</th>\n",
       "      <th>parch</th>\n",
       "      <th>ticket</th>\n",
       "      <th>fare</th>\n",
       "      <th>cabin</th>\n",
       "      <th>embarked</th>\n",
       "      <th>boat</th>\n",
       "      <th>body</th>\n",
       "      <th>home.dest</th>\n",
       "      <th>family_size</th>\n",
       "      <th>title1</th>\n",
       "    </tr>\n",
       "  </thead>\n",
       "  <tbody>\n",
       "  </tbody>\n",
       "</table>\n",
       "</div>"
      ],
      "text/plain": [
       "Empty DataFrame\n",
       "Columns: [pclass, survived, name, sex, age, sibsp, parch, ticket, fare, cabin, embarked, boat, body, home.dest, family_size, title1]\n",
       "Index: []"
      ]
     },
     "execution_count": 33,
     "metadata": {},
     "output_type": "execute_result"
    }
   ],
   "source": [
    "data[data['age'].isnull()]"
   ]
  },
  {
   "cell_type": "markdown",
   "metadata": {},
   "source": [
    "### 2.1.2 自變數：embarked"
   ]
  },
  {
   "cell_type": "code",
   "execution_count": 41,
   "metadata": {},
   "outputs": [
    {
     "data": {
      "text/plain": [
       "category"
      ]
     },
     "execution_count": 41,
     "metadata": {},
     "output_type": "execute_result"
    }
   ],
   "source": [
    "# examine data type first\n",
    "data['survived'].dtypes"
   ]
  },
  {
   "cell_type": "code",
   "execution_count": 189,
   "metadata": {
    "scrolled": true
   },
   "outputs": [
    {
     "data": {
      "text/plain": [
       "0    1.0\n",
       "1    1.0\n",
       "2    0.0\n",
       "3    0.0\n",
       "4    0.0\n",
       "Name: survived, dtype: float64"
      ]
     },
     "execution_count": 189,
     "metadata": {},
     "output_type": "execute_result"
    }
   ],
   "source": [
    "# since groupby only accepts numerical data, convert\n",
    "data_emb = data[['embarked', 'survived','pclass']]\n",
    "pd.to_numeric(data_emb['survived'], errors='ignore').head()"
   ]
  },
  {
   "cell_type": "markdown",
   "metadata": {},
   "source": [
    "+ **embarked VS survived**"
   ]
  },
  {
   "cell_type": "markdown",
   "metadata": {},
   "source": [
    "檢視上船地點（embarked）與存活率的關係。"
   ]
  },
  {
   "cell_type": "code",
   "execution_count": 186,
   "metadata": {
    "scrolled": false
   },
   "outputs": [
    {
     "data": {
      "text/html": [
       "<div>\n",
       "<style>\n",
       "    .dataframe thead tr:only-child th {\n",
       "        text-align: right;\n",
       "    }\n",
       "\n",
       "    .dataframe thead th {\n",
       "        text-align: left;\n",
       "    }\n",
       "\n",
       "    .dataframe tbody tr th {\n",
       "        vertical-align: top;\n",
       "    }\n",
       "</style>\n",
       "<table border=\"1\" class=\"dataframe\">\n",
       "  <thead>\n",
       "    <tr style=\"text-align: right;\">\n",
       "      <th></th>\n",
       "      <th>embarked</th>\n",
       "      <th>rate</th>\n",
       "      <th>survived</th>\n",
       "      <th>total</th>\n",
       "      <th>died</th>\n",
       "    </tr>\n",
       "  </thead>\n",
       "  <tbody>\n",
       "    <tr>\n",
       "      <th>0</th>\n",
       "      <td>C</td>\n",
       "      <td>0.829630</td>\n",
       "      <td>224</td>\n",
       "      <td>270</td>\n",
       "      <td>46</td>\n",
       "    </tr>\n",
       "    <tr>\n",
       "      <th>1</th>\n",
       "      <td>S</td>\n",
       "      <td>0.769147</td>\n",
       "      <td>71</td>\n",
       "      <td>123</td>\n",
       "      <td>52</td>\n",
       "    </tr>\n",
       "    <tr>\n",
       "      <th>2</th>\n",
       "      <td>Q</td>\n",
       "      <td>0.577236</td>\n",
       "      <td>703</td>\n",
       "      <td>914</td>\n",
       "      <td>211</td>\n",
       "    </tr>\n",
       "  </tbody>\n",
       "</table>\n",
       "</div>"
      ],
      "text/plain": [
       "  embarked      rate  survived  total  died\n",
       "0        C  0.829630       224    270    46\n",
       "1        S  0.769147        71    123    52\n",
       "2        Q  0.577236       703    914   211"
      ]
     },
     "execution_count": 186,
     "metadata": {},
     "output_type": "execute_result"
    }
   ],
   "source": [
    "emb_s = data_emb[['embarked', 'survived']].set_index('embarked').notnull().groupby(level=0).mean()\n",
    "emb_s = emb_s.sort_values(by='survived', ascending=False)\n",
    "emb_s = emb_s.reset_index()\n",
    "emb_s = emb_s.rename(columns={'survived': 'rate'})\n",
    "\n",
    "total = data_emb[['embarked', 'survived']].set_index('embarked').notnull().groupby(level=0).count()\n",
    "total = total.reset_index()\n",
    "total = total.rename(columns={'survived': 'total'})\n",
    "\n",
    "survive = data_emb[['embarked', 'survived']].set_index('embarked').notnull().groupby(level=0).sum()\n",
    "survive = survive.reset_index()\n",
    "\n",
    "emb_s['survived'] = survive_emb['survived'].astype(int)\n",
    "emb_s['total'] = total['total']\n",
    "emb_s['died'] = emb_s['total'] - emb_s['survived']\n",
    "emb_s"
   ]
  },
  {
   "cell_type": "code",
   "execution_count": 190,
   "metadata": {},
   "outputs": [],
   "source": [
    "data_emb = data_emb.dropna(subset=['survived'])"
   ]
  },
  {
   "cell_type": "code",
   "execution_count": 187,
   "metadata": {},
   "outputs": [
    {
     "data": {
      "text/plain": [
       "<matplotlib.axes._subplots.AxesSubplot at 0x28acac87cf8>"
      ]
     },
     "execution_count": 187,
     "metadata": {},
     "output_type": "execute_result"
    },
    {
     "data": {
      "image/png": "[encoded data removed]",
      "text/plain": [
       "<Figure size 1080x576 with 1 Axes>"
      ]
     },
     "metadata": {},
     "output_type": "display_data"
    }
   ],
   "source": [
    "total_Embarked_C = data_emb[data_emb['embarked']=='C']['survived'].count()\n",
    "total_Embarked_S = data_emb[data_emb['embarked']=='S']['survived'].count()\n",
    "total_Embarked_Q = data_emb[data_emb['embarked']=='Q']['survived'].count()\n",
    "\n",
    "Embarked_C = data_emb[data_emb['embarked']=='C']['survived'].value_counts() / total_Embarked_C\n",
    "Embarked_S = data_emb[data_emb['embarked']=='S']['survived'].value_counts() / total_Embarked_S\n",
    "Embarked_Q = data_emb[data_emb['embarked']=='Q']['survived'].value_counts() / total_Embarked_Q  \n",
    "           \n",
    "df = pd.DataFrame([Embarked_S,Embarked_C,Embarked_Q])\n",
    "df.index = ['Cherbourg','Southampton','Queenstown']\n",
    "df.plot(kind='bar',stacked=False, figsize=(15,8))"
   ]
  },
  {
   "cell_type": "markdown",
   "metadata": {},
   "source": [
    "+ **embarked VS pclass**"
   ]
  },
  {
   "cell_type": "markdown",
   "metadata": {},
   "source": [
    "檢視上船地點（embarked）與 pclass 的關係。"
   ]
  },
  {
   "cell_type": "code",
   "execution_count": 191,
   "metadata": {},
   "outputs": [
    {
     "data": {
      "text/plain": [
       "<matplotlib.axes._subplots.AxesSubplot at 0x28aca186be0>"
      ]
     },
     "execution_count": 191,
     "metadata": {},
     "output_type": "execute_result"
    },
    {
     "data": {
      "image/png": "[encoded data removed]",
      "text/plain": [
       "<Figure size 1080x576 with 1 Axes>"
      ]
     },
     "metadata": {},
     "output_type": "display_data"
    }
   ],
   "source": [
    "total_Embarked_C = data_emb[data_emb['embarked']=='C']['pclass'].count()\n",
    "total_Embarked_S = data_emb[data_emb['embarked']=='S']['pclass'].count()\n",
    "total_Embarked_Q = data_emb[data_emb['embarked']=='Q']['pclass'].count()\n",
    "\n",
    "Embarked_C = data_emb[data_emb['embarked']=='C']['pclass'].value_counts() / total_Embarked_C\n",
    "Embarked_S = data_emb[data_emb['embarked']=='S']['pclass'].value_counts() / total_Embarked_S\n",
    "Embarked_Q = data_emb[data_emb['embarked']=='Q']['pclass'].value_counts() / total_Embarked_Q  \n",
    "\n",
    "df = pd.DataFrame([Embarked_S,Embarked_C,Embarked_Q])\n",
    "df.index = ['Cherbourg','Southampton','Queenstown']\n",
    "df.plot(kind='bar',stacked=False, figsize=(15,8))"
   ]
  },
  {
   "cell_type": "markdown",
   "metadata": {},
   "source": [
    "填補 NA 值。從 Cherbourg 港口上岸的乘客比起其它港口,有較大的比例為P1等級的船票，剛好這兩位乘客的船票等級（Pclass）都是1，因此，我們就直接假設她們的上岸港口為 Cherbourg 。"
   ]
  },
  {
   "cell_type": "code",
   "execution_count": 193,
   "metadata": {},
   "outputs": [
    {
     "data": {
      "text/html": [
       "<div>\n",
       "<style>\n",
       "    .dataframe thead tr:only-child th {\n",
       "        text-align: right;\n",
       "    }\n",
       "\n",
       "    .dataframe thead th {\n",
       "        text-align: left;\n",
       "    }\n",
       "\n",
       "    .dataframe tbody tr th {\n",
       "        vertical-align: top;\n",
       "    }\n",
       "</style>\n",
       "<table border=\"1\" class=\"dataframe\">\n",
       "  <thead>\n",
       "    <tr style=\"text-align: right;\">\n",
       "      <th></th>\n",
       "      <th>pclass</th>\n",
       "      <th>survived</th>\n",
       "      <th>name</th>\n",
       "      <th>sex</th>\n",
       "      <th>age</th>\n",
       "      <th>sibsp</th>\n",
       "      <th>parch</th>\n",
       "      <th>ticket</th>\n",
       "      <th>fare</th>\n",
       "      <th>cabin</th>\n",
       "      <th>embarked</th>\n",
       "      <th>boat</th>\n",
       "      <th>body</th>\n",
       "      <th>home.dest</th>\n",
       "      <th>family_size</th>\n",
       "      <th>title1</th>\n",
       "    </tr>\n",
       "  </thead>\n",
       "  <tbody>\n",
       "    <tr>\n",
       "      <th>168</th>\n",
       "      <td>1</td>\n",
       "      <td>1.0</td>\n",
       "      <td>Icard, Miss. Amelie</td>\n",
       "      <td>female</td>\n",
       "      <td>38.0</td>\n",
       "      <td>0</td>\n",
       "      <td>0</td>\n",
       "      <td>113572</td>\n",
       "      <td>80.0</td>\n",
       "      <td>B28</td>\n",
       "      <td>NaN</td>\n",
       "      <td>6</td>\n",
       "      <td>NaN</td>\n",
       "      <td>NaN</td>\n",
       "      <td>0</td>\n",
       "      <td>Miss</td>\n",
       "    </tr>\n",
       "    <tr>\n",
       "      <th>284</th>\n",
       "      <td>1</td>\n",
       "      <td>1.0</td>\n",
       "      <td>Stone, Mrs. George Nelson (Martha Evelyn)</td>\n",
       "      <td>female</td>\n",
       "      <td>62.0</td>\n",
       "      <td>0</td>\n",
       "      <td>0</td>\n",
       "      <td>113572</td>\n",
       "      <td>80.0</td>\n",
       "      <td>B28</td>\n",
       "      <td>NaN</td>\n",
       "      <td>6</td>\n",
       "      <td>NaN</td>\n",
       "      <td>Cincinatti, OH</td>\n",
       "      <td>0</td>\n",
       "      <td>Mrs</td>\n",
       "    </tr>\n",
       "  </tbody>\n",
       "</table>\n",
       "</div>"
      ],
      "text/plain": [
       "    pclass survived                                       name     sex   age  \\\n",
       "168      1      1.0                        Icard, Miss. Amelie  female  38.0   \n",
       "284      1      1.0  Stone, Mrs. George Nelson (Martha Evelyn)  female  62.0   \n",
       "\n",
       "     sibsp  parch  ticket  fare cabin embarked boat  body       home.dest  \\\n",
       "168      0      0  113572  80.0   B28      NaN    6   NaN             NaN   \n",
       "284      0      0  113572  80.0   B28      NaN    6   NaN  Cincinatti, OH   \n",
       "\n",
       "     family_size title1  \n",
       "168            0   Miss  \n",
       "284            0    Mrs  "
      ]
     },
     "execution_count": 193,
     "metadata": {},
     "output_type": "execute_result"
    }
   ],
   "source": [
    "data.loc[(data.embarked.isnull())] "
   ]
  },
  {
   "cell_type": "code",
   "execution_count": 194,
   "metadata": {},
   "outputs": [
    {
     "data": {
      "text/plain": [
       "<matplotlib.axes._subplots.AxesSubplot at 0x28acac38ac8>"
      ]
     },
     "execution_count": 194,
     "metadata": {},
     "output_type": "execute_result"
    },
    {
     "data": {
      "image/png": "[encoded data removed]",
      "text/plain": [
       "<Figure size 432x288 with 1 Axes>"
      ]
     },
     "metadata": {},
     "output_type": "display_data"
    }
   ],
   "source": [
    "sns.boxplot(x=\"embarked\",y=\"fare\",hue=\"pclass\",data=data,palette=\"Set1\")"
   ]
  },
  {
   "cell_type": "code",
   "execution_count": 227,
   "metadata": {
    "collapsed": true
   },
   "outputs": [],
   "source": [
    "def fill_Embarked():\n",
    "    data['embarked'].fillna(\"C\", inplace=True)\n",
    "fill_Embarked()"
   ]
  },
  {
   "cell_type": "markdown",
   "metadata": {},
   "source": [
    "### 2.1.3 自變數：fare"
   ]
  },
  {
   "cell_type": "markdown",
   "metadata": {},
   "source": [
    "填補 NA 值。我們直接用中位數來填入，因為從前面的分析中，很難確定 Fare 與何種欄位相關。"
   ]
  },
  {
   "cell_type": "code",
   "execution_count": 195,
   "metadata": {},
   "outputs": [
    {
     "data": {
      "text/html": [
       "<div>\n",
       "<style>\n",
       "    .dataframe thead tr:only-child th {\n",
       "        text-align: right;\n",
       "    }\n",
       "\n",
       "    .dataframe thead th {\n",
       "        text-align: left;\n",
       "    }\n",
       "\n",
       "    .dataframe tbody tr th {\n",
       "        vertical-align: top;\n",
       "    }\n",
       "</style>\n",
       "<table border=\"1\" class=\"dataframe\">\n",
       "  <thead>\n",
       "    <tr style=\"text-align: right;\">\n",
       "      <th></th>\n",
       "      <th>pclass</th>\n",
       "      <th>survived</th>\n",
       "      <th>name</th>\n",
       "      <th>sex</th>\n",
       "      <th>age</th>\n",
       "      <th>sibsp</th>\n",
       "      <th>parch</th>\n",
       "      <th>ticket</th>\n",
       "      <th>fare</th>\n",
       "      <th>cabin</th>\n",
       "      <th>embarked</th>\n",
       "      <th>boat</th>\n",
       "      <th>body</th>\n",
       "      <th>home.dest</th>\n",
       "      <th>family_size</th>\n",
       "      <th>title1</th>\n",
       "    </tr>\n",
       "  </thead>\n",
       "  <tbody>\n",
       "    <tr>\n",
       "      <th>1225</th>\n",
       "      <td>3</td>\n",
       "      <td>NaN</td>\n",
       "      <td>Storey, Mr. Thomas</td>\n",
       "      <td>male</td>\n",
       "      <td>60.5</td>\n",
       "      <td>0</td>\n",
       "      <td>0</td>\n",
       "      <td>3701</td>\n",
       "      <td>NaN</td>\n",
       "      <td>NaN</td>\n",
       "      <td>S</td>\n",
       "      <td>NaN</td>\n",
       "      <td>261.0</td>\n",
       "      <td>NaN</td>\n",
       "      <td>0</td>\n",
       "      <td>Mr</td>\n",
       "    </tr>\n",
       "  </tbody>\n",
       "</table>\n",
       "</div>"
      ],
      "text/plain": [
       "     pclass survived                name   sex   age  sibsp  parch ticket  \\\n",
       "1225      3      NaN  Storey, Mr. Thomas  male  60.5      0      0   3701   \n",
       "\n",
       "      fare cabin embarked boat   body home.dest  family_size title1  \n",
       "1225   NaN   NaN        S  NaN  261.0       NaN            0     Mr  "
      ]
     },
     "execution_count": 195,
     "metadata": {},
     "output_type": "execute_result"
    }
   ],
   "source": [
    "data.loc[(data.fare.isnull())] "
   ]
  },
  {
   "cell_type": "code",
   "execution_count": 223,
   "metadata": {
    "collapsed": true
   },
   "outputs": [],
   "source": [
    "def fill_Fare():\n",
    "      data['fare'].fillna(data['fare'].median(), inplace=True)\n",
    "fill_Fare()"
   ]
  },
  {
   "cell_type": "markdown",
   "metadata": {},
   "source": [
    "### 2.1.4 自變數：title1 簡化"
   ]
  },
  {
   "cell_type": "code",
   "execution_count": 197,
   "metadata": {},
   "outputs": [
    {
     "data": {
      "text/plain": [
       "array(['Miss', 'Master', 'Mr', 'Mrs'], dtype=object)"
      ]
     },
     "execution_count": 197,
     "metadata": {},
     "output_type": "execute_result"
    }
   ],
   "source": [
    "data['title2'] = data['title1'].replace(['Mlle','Mme','Ms','Dr','Major','Lady','the Countess','Jonkheer','Col','Rev','Capt','Sir','Don','Dona'],\n",
    "         ['Miss','Mrs','Miss','Mr','Mr','Mrs','Mrs','Mr','Mr','Mr','Mr','Mr','Mr','Mrs'])\n",
    "data['title2'].unique()"
   ]
  },
  {
   "cell_type": "markdown",
   "metadata": {},
   "source": [
    "## 2.2 資料預處理：categorical → numerical"
   ]
  },
  {
   "cell_type": "markdown",
   "metadata": {},
   "source": [
    "因為多數機器學習演算法指接受 numerical data ，所以將所有非數值型資料透過 **One-Hot Encoding** 進行編碼。其中屬於 categorical data 的變數包含：sex、pclass、ticket、cabin、embarked、title。"
   ]
  },
  {
   "cell_type": "code",
   "execution_count": 198,
   "metadata": {},
   "outputs": [],
   "source": [
    "def oneHotEncode():\n",
    "    global data\n",
    "    data['sex'] = data['sex'].astype('category').cat.codes\n",
    "    data['embarked'] = data['embarked'].astype('category').cat.codes\n",
    "    data['pclass'] = data['pclass'].astype('category').cat.codes\n",
    "    data['title2'] = data['title2'].astype('category').cat.codes\n",
    "    data['ticket'] = data['ticket'].astype('category').cat.codes\n",
    "oneHotEncode()"
   ]
  },
  {
   "cell_type": "code",
   "execution_count": 199,
   "metadata": {},
   "outputs": [
    {
     "data": {
      "text/html": [
       "<div>\n",
       "<style>\n",
       "    .dataframe thead tr:only-child th {\n",
       "        text-align: right;\n",
       "    }\n",
       "\n",
       "    .dataframe thead th {\n",
       "        text-align: left;\n",
       "    }\n",
       "\n",
       "    .dataframe tbody tr th {\n",
       "        vertical-align: top;\n",
       "    }\n",
       "</style>\n",
       "<table border=\"1\" class=\"dataframe\">\n",
       "  <thead>\n",
       "    <tr style=\"text-align: right;\">\n",
       "      <th></th>\n",
       "      <th>pclass</th>\n",
       "      <th>survived</th>\n",
       "      <th>name</th>\n",
       "      <th>sex</th>\n",
       "      <th>age</th>\n",
       "      <th>sibsp</th>\n",
       "      <th>parch</th>\n",
       "      <th>ticket</th>\n",
       "      <th>fare</th>\n",
       "      <th>cabin</th>\n",
       "      <th>embarked</th>\n",
       "      <th>boat</th>\n",
       "      <th>body</th>\n",
       "      <th>home.dest</th>\n",
       "      <th>family_size</th>\n",
       "      <th>title1</th>\n",
       "      <th>title2</th>\n",
       "    </tr>\n",
       "  </thead>\n",
       "  <tbody>\n",
       "    <tr>\n",
       "      <th>0</th>\n",
       "      <td>0</td>\n",
       "      <td>1.0</td>\n",
       "      <td>Allen, Miss. Elisabeth Walton</td>\n",
       "      <td>0</td>\n",
       "      <td>29.000000</td>\n",
       "      <td>0</td>\n",
       "      <td>0</td>\n",
       "      <td>187</td>\n",
       "      <td>211.3375</td>\n",
       "      <td>B5</td>\n",
       "      <td>2</td>\n",
       "      <td>2</td>\n",
       "      <td>NaN</td>\n",
       "      <td>St Louis, MO</td>\n",
       "      <td>0</td>\n",
       "      <td>Miss</td>\n",
       "      <td>1</td>\n",
       "    </tr>\n",
       "    <tr>\n",
       "      <th>1</th>\n",
       "      <td>0</td>\n",
       "      <td>1.0</td>\n",
       "      <td>Allison, Master. Hudson Trevor</td>\n",
       "      <td>1</td>\n",
       "      <td>0.916504</td>\n",
       "      <td>1</td>\n",
       "      <td>2</td>\n",
       "      <td>49</td>\n",
       "      <td>151.5500</td>\n",
       "      <td>C22 C26</td>\n",
       "      <td>2</td>\n",
       "      <td>11</td>\n",
       "      <td>NaN</td>\n",
       "      <td>Montreal, PQ / Chesterville, ON</td>\n",
       "      <td>3</td>\n",
       "      <td>Master</td>\n",
       "      <td>0</td>\n",
       "    </tr>\n",
       "    <tr>\n",
       "      <th>2</th>\n",
       "      <td>0</td>\n",
       "      <td>0.0</td>\n",
       "      <td>Allison, Miss. Helen Loraine</td>\n",
       "      <td>0</td>\n",
       "      <td>2.000000</td>\n",
       "      <td>1</td>\n",
       "      <td>2</td>\n",
       "      <td>49</td>\n",
       "      <td>151.5500</td>\n",
       "      <td>C22 C26</td>\n",
       "      <td>2</td>\n",
       "      <td>NaN</td>\n",
       "      <td>NaN</td>\n",
       "      <td>Montreal, PQ / Chesterville, ON</td>\n",
       "      <td>3</td>\n",
       "      <td>Miss</td>\n",
       "      <td>1</td>\n",
       "    </tr>\n",
       "    <tr>\n",
       "      <th>3</th>\n",
       "      <td>0</td>\n",
       "      <td>0.0</td>\n",
       "      <td>Allison, Mr. Hudson Joshua Creighton</td>\n",
       "      <td>1</td>\n",
       "      <td>30.000000</td>\n",
       "      <td>1</td>\n",
       "      <td>2</td>\n",
       "      <td>49</td>\n",
       "      <td>151.5500</td>\n",
       "      <td>C22 C26</td>\n",
       "      <td>2</td>\n",
       "      <td>NaN</td>\n",
       "      <td>135.0</td>\n",
       "      <td>Montreal, PQ / Chesterville, ON</td>\n",
       "      <td>3</td>\n",
       "      <td>Mr</td>\n",
       "      <td>2</td>\n",
       "    </tr>\n",
       "    <tr>\n",
       "      <th>4</th>\n",
       "      <td>0</td>\n",
       "      <td>0.0</td>\n",
       "      <td>Allison, Mrs. Hudson J C (Bessie Waldo Daniels)</td>\n",
       "      <td>0</td>\n",
       "      <td>25.000000</td>\n",
       "      <td>1</td>\n",
       "      <td>2</td>\n",
       "      <td>49</td>\n",
       "      <td>151.5500</td>\n",
       "      <td>C22 C26</td>\n",
       "      <td>2</td>\n",
       "      <td>NaN</td>\n",
       "      <td>NaN</td>\n",
       "      <td>Montreal, PQ / Chesterville, ON</td>\n",
       "      <td>3</td>\n",
       "      <td>Mrs</td>\n",
       "      <td>3</td>\n",
       "    </tr>\n",
       "  </tbody>\n",
       "</table>\n",
       "</div>"
      ],
      "text/plain": [
       "   pclass survived                                             name  sex  \\\n",
       "0       0      1.0                    Allen, Miss. Elisabeth Walton    0   \n",
       "1       0      1.0                   Allison, Master. Hudson Trevor    1   \n",
       "2       0      0.0                     Allison, Miss. Helen Loraine    0   \n",
       "3       0      0.0             Allison, Mr. Hudson Joshua Creighton    1   \n",
       "4       0      0.0  Allison, Mrs. Hudson J C (Bessie Waldo Daniels)    0   \n",
       "\n",
       "         age  sibsp  parch  ticket      fare    cabin  embarked boat   body  \\\n",
       "0  29.000000      0      0     187  211.3375       B5         2    2    NaN   \n",
       "1   0.916504      1      2      49  151.5500  C22 C26         2   11    NaN   \n",
       "2   2.000000      1      2      49  151.5500  C22 C26         2  NaN    NaN   \n",
       "3  30.000000      1      2      49  151.5500  C22 C26         2  NaN  135.0   \n",
       "4  25.000000      1      2      49  151.5500  C22 C26         2  NaN    NaN   \n",
       "\n",
       "                         home.dest  family_size  title1  title2  \n",
       "0                     St Louis, MO            0    Miss       1  \n",
       "1  Montreal, PQ / Chesterville, ON            3  Master       0  \n",
       "2  Montreal, PQ / Chesterville, ON            3    Miss       1  \n",
       "3  Montreal, PQ / Chesterville, ON            3      Mr       2  \n",
       "4  Montreal, PQ / Chesterville, ON            3     Mrs       3  "
      ]
     },
     "execution_count": 199,
     "metadata": {},
     "output_type": "execute_result"
    }
   ],
   "source": [
    "data.head()"
   ]
  },
  {
   "cell_type": "markdown",
   "metadata": {},
   "source": [
    "最後，確認除了應變數 survived 外，資料無 NA 值。"
   ]
  },
  {
   "cell_type": "code",
   "execution_count": 228,
   "metadata": {
    "scrolled": true
   },
   "outputs": [
    {
     "name": "stdout",
     "output_type": "stream",
     "text": [
      "<class 'pandas.core.frame.DataFrame'>\n",
      "RangeIndex: 1309 entries, 0 to 1308\n",
      "Data columns (total 11 columns):\n",
      "pclass         1309 non-null int8\n",
      "survived       1000 non-null category\n",
      "sex            1309 non-null int8\n",
      "age            1309 non-null float16\n",
      "sibsp          1309 non-null int64\n",
      "parch          1309 non-null int64\n",
      "ticket         1309 non-null int16\n",
      "fare           1309 non-null float64\n",
      "embarked       1309 non-null int8\n",
      "family_size    1309 non-null int64\n",
      "title2         1309 non-null int8\n",
      "dtypes: category(1), float16(1), float64(1), int16(1), int64(3), int8(4)\n",
      "memory usage: 52.6 KB\n"
     ]
    }
   ],
   "source": [
    "data.info()"
   ]
  },
  {
   "cell_type": "markdown",
   "metadata": {},
   "source": [
    "# Part 3: Predictive Modeling"
   ]
  },
  {
   "cell_type": "markdown",
   "metadata": {},
   "source": [
    "在開始訓練之前，記得將被合併到Train dataset的Test dataset再搬出來。"
   ]
  },
  {
   "cell_type": "code",
   "execution_count": 216,
   "metadata": {},
   "outputs": [
    {
     "data": {
      "text/html": [
       "<div>\n",
       "<style>\n",
       "    .dataframe thead tr:only-child th {\n",
       "        text-align: right;\n",
       "    }\n",
       "\n",
       "    .dataframe thead th {\n",
       "        text-align: left;\n",
       "    }\n",
       "\n",
       "    .dataframe tbody tr th {\n",
       "        vertical-align: top;\n",
       "    }\n",
       "</style>\n",
       "<table border=\"1\" class=\"dataframe\">\n",
       "  <thead>\n",
       "    <tr style=\"text-align: right;\">\n",
       "      <th></th>\n",
       "      <th>pclass</th>\n",
       "      <th>survived</th>\n",
       "      <th>sex</th>\n",
       "      <th>age</th>\n",
       "      <th>sibsp</th>\n",
       "      <th>parch</th>\n",
       "      <th>ticket</th>\n",
       "      <th>fare</th>\n",
       "      <th>embarked</th>\n",
       "      <th>family_size</th>\n",
       "      <th>title2</th>\n",
       "    </tr>\n",
       "  </thead>\n",
       "  <tbody>\n",
       "    <tr>\n",
       "      <th>0</th>\n",
       "      <td>0</td>\n",
       "      <td>1.0</td>\n",
       "      <td>0</td>\n",
       "      <td>29.000000</td>\n",
       "      <td>0</td>\n",
       "      <td>0</td>\n",
       "      <td>187</td>\n",
       "      <td>211.3375</td>\n",
       "      <td>2</td>\n",
       "      <td>0</td>\n",
       "      <td>1</td>\n",
       "    </tr>\n",
       "    <tr>\n",
       "      <th>1</th>\n",
       "      <td>0</td>\n",
       "      <td>1.0</td>\n",
       "      <td>1</td>\n",
       "      <td>0.916504</td>\n",
       "      <td>1</td>\n",
       "      <td>2</td>\n",
       "      <td>49</td>\n",
       "      <td>151.5500</td>\n",
       "      <td>2</td>\n",
       "      <td>3</td>\n",
       "      <td>0</td>\n",
       "    </tr>\n",
       "    <tr>\n",
       "      <th>2</th>\n",
       "      <td>0</td>\n",
       "      <td>0.0</td>\n",
       "      <td>0</td>\n",
       "      <td>2.000000</td>\n",
       "      <td>1</td>\n",
       "      <td>2</td>\n",
       "      <td>49</td>\n",
       "      <td>151.5500</td>\n",
       "      <td>2</td>\n",
       "      <td>3</td>\n",
       "      <td>1</td>\n",
       "    </tr>\n",
       "    <tr>\n",
       "      <th>3</th>\n",
       "      <td>0</td>\n",
       "      <td>0.0</td>\n",
       "      <td>1</td>\n",
       "      <td>30.000000</td>\n",
       "      <td>1</td>\n",
       "      <td>2</td>\n",
       "      <td>49</td>\n",
       "      <td>151.5500</td>\n",
       "      <td>2</td>\n",
       "      <td>3</td>\n",
       "      <td>2</td>\n",
       "    </tr>\n",
       "    <tr>\n",
       "      <th>4</th>\n",
       "      <td>0</td>\n",
       "      <td>0.0</td>\n",
       "      <td>0</td>\n",
       "      <td>25.000000</td>\n",
       "      <td>1</td>\n",
       "      <td>2</td>\n",
       "      <td>49</td>\n",
       "      <td>151.5500</td>\n",
       "      <td>2</td>\n",
       "      <td>3</td>\n",
       "      <td>3</td>\n",
       "    </tr>\n",
       "  </tbody>\n",
       "</table>\n",
       "</div>"
      ],
      "text/plain": [
       "   pclass survived  sex        age  sibsp  parch  ticket      fare  embarked  \\\n",
       "0       0      1.0    0  29.000000      0      0     187  211.3375         2   \n",
       "1       0      1.0    1   0.916504      1      2      49  151.5500         2   \n",
       "2       0      0.0    0   2.000000      1      2      49  151.5500         2   \n",
       "3       0      0.0    1  30.000000      1      2      49  151.5500         2   \n",
       "4       0      0.0    0  25.000000      1      2      49  151.5500         2   \n",
       "\n",
       "   family_size  title2  \n",
       "0            0       1  \n",
       "1            3       0  \n",
       "2            3       1  \n",
       "3            3       2  \n",
       "4            3       3  "
      ]
     },
     "execution_count": 216,
     "metadata": {},
     "output_type": "execute_result"
    }
   ],
   "source": [
    "data.head()"
   ]
  },
  {
   "cell_type": "code",
   "execution_count": 229,
   "metadata": {},
   "outputs": [
    {
     "data": {
      "text/plain": [
       "((1000, 10), (1000,), (309, 10))"
      ]
     },
     "execution_count": 229,
     "metadata": {},
     "output_type": "execute_result"
    }
   ],
   "source": [
    "#data = data.drop(\"name\", axis=1)\n",
    "#data = data.drop(\"body\", axis=1)\n",
    "#data = data.drop(\"home.dest\", axis=1)\n",
    "#data = data.drop(\"boat\", axis=1)\n",
    "#data = data.drop(\"title1\", axis=1)\n",
    "#data = data.drop(\"cabin\", axis=1)\n",
    "\n",
    "\n",
    "X_train = data.iloc[:1000].drop(\"survived\", axis=1)\n",
    "Y_train = data.iloc[:1000][\"survived\"]\n",
    "X_test  = data.iloc[1000:]\n",
    "X_test = X_test.drop(\"survived\",axis=1)\n",
    "\n",
    "X_train.shape, Y_train.shape, X_test.shape"
   ]
  },
  {
   "cell_type": "code",
   "execution_count": 219,
   "metadata": {},
   "outputs": [],
   "source": [
    "# 載入scikit-learn相關模組\n",
    "from sklearn.linear_model import LogisticRegression\n",
    "from sklearn.svm import SVC, LinearSVC\n",
    "from sklearn.ensemble import RandomForestClassifier\n",
    "from sklearn.neighbors import KNeighborsClassifier\n",
    "from sklearn.naive_bayes import GaussianNB\n",
    "from sklearn.linear_model import Perceptron\n",
    "from sklearn.linear_model import SGDClassifier\n",
    "from sklearn.tree import DecisionTreeClassifier\n",
    "from sklearn import metrics, cross_validation"
   ]
  },
  {
   "cell_type": "markdown",
   "metadata": {},
   "source": [
    "+ Logistic Regression"
   ]
  },
  {
   "cell_type": "code",
   "execution_count": 230,
   "metadata": {},
   "outputs": [
    {
     "data": {
      "text/plain": [
       "78.799999999999997"
      ]
     },
     "execution_count": 230,
     "metadata": {},
     "output_type": "execute_result"
    }
   ],
   "source": [
    "logreg = LogisticRegression()\n",
    "logreg.fit(X_train, Y_train)\n",
    "Y_pred = logreg.predict(X_test)\n",
    "acc_log = round(logreg.score(X_train, Y_train) * 100, 2)\n",
    "acc_log"
   ]
  },
  {
   "cell_type": "markdown",
   "metadata": {},
   "source": [
    "+ Support Vector Machines"
   ]
  },
  {
   "cell_type": "code",
   "execution_count": 232,
   "metadata": {},
   "outputs": [
    {
     "data": {
      "text/plain": [
       "98.400000000000006"
      ]
     },
     "execution_count": 232,
     "metadata": {},
     "output_type": "execute_result"
    }
   ],
   "source": [
    "svc = SVC()\n",
    "svc.fit(X_train, Y_train)\n",
    "Y_pred = svc.predict(X_test)\n",
    "acc_svc = round(svc.score(X_train, Y_train) * 100, 2)\n",
    "acc_svc"
   ]
  },
  {
   "cell_type": "markdown",
   "metadata": {},
   "source": [
    "+ KNN"
   ]
  },
  {
   "cell_type": "code",
   "execution_count": 233,
   "metadata": {},
   "outputs": [
    {
     "data": {
      "text/plain": [
       "80.400000000000006"
      ]
     },
     "execution_count": 233,
     "metadata": {},
     "output_type": "execute_result"
    }
   ],
   "source": [
    "knn = KNeighborsClassifier(n_neighbors = 3)\n",
    "knn.fit(X_train, Y_train)\n",
    "Y_pred = knn.predict(X_test)\n",
    "acc_knn = round(knn.score(X_train, Y_train) * 100, 2)\n",
    "acc_knn"
   ]
  },
  {
   "cell_type": "markdown",
   "metadata": {},
   "source": [
    "+ Decision Tree"
   ]
  },
  {
   "cell_type": "code",
   "execution_count": 234,
   "metadata": {},
   "outputs": [
    {
     "data": {
      "text/plain": [
       "99.900000000000006"
      ]
     },
     "execution_count": 234,
     "metadata": {},
     "output_type": "execute_result"
    }
   ],
   "source": [
    "decision_tree = DecisionTreeClassifier()\n",
    "decision_tree.fit(X_train, Y_train)\n",
    "Y_pred = decision_tree.predict(X_test)\n",
    "acc_decision_tree = round(decision_tree.score(X_train, Y_train) * 100, 2)\n",
    "acc_decision_tree\n"
   ]
  },
  {
   "cell_type": "markdown",
   "metadata": {},
   "source": [
    "+ Random Forest"
   ]
  },
  {
   "cell_type": "code",
   "execution_count": 235,
   "metadata": {},
   "outputs": [
    {
     "data": {
      "text/plain": [
       "99.900000000000006"
      ]
     },
     "execution_count": 235,
     "metadata": {},
     "output_type": "execute_result"
    }
   ],
   "source": [
    "random_forest = RandomForestClassifier(n_estimators=100)\n",
    "random_forest.fit(X_train, Y_train)\n",
    "Y_pred = random_forest.predict(X_test)\n",
    "random_forest.score(X_train, Y_train)\n",
    "acc_random_forest = round(random_forest.score(X_train, Y_train) * 100, 2)\n",
    "acc_random_forest"
   ]
  },
  {
   "cell_type": "code",
   "execution_count": 236,
   "metadata": {},
   "outputs": [
    {
     "data": {
      "text/html": [
       "<div>\n",
       "<style>\n",
       "    .dataframe thead tr:only-child th {\n",
       "        text-align: right;\n",
       "    }\n",
       "\n",
       "    .dataframe thead th {\n",
       "        text-align: left;\n",
       "    }\n",
       "\n",
       "    .dataframe tbody tr th {\n",
       "        vertical-align: top;\n",
       "    }\n",
       "</style>\n",
       "<table border=\"1\" class=\"dataframe\">\n",
       "  <thead>\n",
       "    <tr style=\"text-align: right;\">\n",
       "      <th></th>\n",
       "      <th>pclass</th>\n",
       "      <th>survived</th>\n",
       "      <th>name</th>\n",
       "      <th>sex</th>\n",
       "      <th>age</th>\n",
       "      <th>sibsp</th>\n",
       "      <th>parch</th>\n",
       "      <th>ticket</th>\n",
       "      <th>fare</th>\n",
       "      <th>cabin</th>\n",
       "      <th>embarked</th>\n",
       "      <th>boat</th>\n",
       "      <th>body</th>\n",
       "      <th>home.dest</th>\n",
       "    </tr>\n",
       "  </thead>\n",
       "  <tbody>\n",
       "    <tr>\n",
       "      <th>0</th>\n",
       "      <td>3</td>\n",
       "      <td>NaN</td>\n",
       "      <td>McCormack, Mr. Thomas Joseph</td>\n",
       "      <td>male</td>\n",
       "      <td>NaN</td>\n",
       "      <td>0</td>\n",
       "      <td>0</td>\n",
       "      <td>367228</td>\n",
       "      <td>7.7500</td>\n",
       "      <td>NaN</td>\n",
       "      <td>Q</td>\n",
       "      <td>NaN</td>\n",
       "      <td>NaN</td>\n",
       "      <td>NaN</td>\n",
       "    </tr>\n",
       "    <tr>\n",
       "      <th>1</th>\n",
       "      <td>3</td>\n",
       "      <td>NaN</td>\n",
       "      <td>McCoy, Miss. Agnes</td>\n",
       "      <td>female</td>\n",
       "      <td>NaN</td>\n",
       "      <td>2</td>\n",
       "      <td>0</td>\n",
       "      <td>367226</td>\n",
       "      <td>23.2500</td>\n",
       "      <td>NaN</td>\n",
       "      <td>Q</td>\n",
       "      <td>16</td>\n",
       "      <td>NaN</td>\n",
       "      <td>NaN</td>\n",
       "    </tr>\n",
       "    <tr>\n",
       "      <th>2</th>\n",
       "      <td>3</td>\n",
       "      <td>NaN</td>\n",
       "      <td>McCoy, Miss. Alicia</td>\n",
       "      <td>female</td>\n",
       "      <td>NaN</td>\n",
       "      <td>2</td>\n",
       "      <td>0</td>\n",
       "      <td>367226</td>\n",
       "      <td>23.2500</td>\n",
       "      <td>NaN</td>\n",
       "      <td>Q</td>\n",
       "      <td>16</td>\n",
       "      <td>NaN</td>\n",
       "      <td>NaN</td>\n",
       "    </tr>\n",
       "    <tr>\n",
       "      <th>3</th>\n",
       "      <td>3</td>\n",
       "      <td>NaN</td>\n",
       "      <td>McCoy, Mr. Bernard</td>\n",
       "      <td>male</td>\n",
       "      <td>NaN</td>\n",
       "      <td>2</td>\n",
       "      <td>0</td>\n",
       "      <td>367226</td>\n",
       "      <td>23.2500</td>\n",
       "      <td>NaN</td>\n",
       "      <td>Q</td>\n",
       "      <td>16</td>\n",
       "      <td>NaN</td>\n",
       "      <td>NaN</td>\n",
       "    </tr>\n",
       "    <tr>\n",
       "      <th>4</th>\n",
       "      <td>3</td>\n",
       "      <td>NaN</td>\n",
       "      <td>McDermott, Miss. Brigdet Delia</td>\n",
       "      <td>female</td>\n",
       "      <td>NaN</td>\n",
       "      <td>0</td>\n",
       "      <td>0</td>\n",
       "      <td>330932</td>\n",
       "      <td>7.7875</td>\n",
       "      <td>NaN</td>\n",
       "      <td>Q</td>\n",
       "      <td>13</td>\n",
       "      <td>NaN</td>\n",
       "      <td>NaN</td>\n",
       "    </tr>\n",
       "  </tbody>\n",
       "</table>\n",
       "</div>"
      ],
      "text/plain": [
       "   pclass  survived                            name     sex  age  sibsp  \\\n",
       "0       3       NaN    McCormack, Mr. Thomas Joseph    male  NaN      0   \n",
       "1       3       NaN              McCoy, Miss. Agnes  female  NaN      2   \n",
       "2       3       NaN             McCoy, Miss. Alicia  female  NaN      2   \n",
       "3       3       NaN              McCoy, Mr. Bernard    male  NaN      2   \n",
       "4       3       NaN  McDermott, Miss. Brigdet Delia  female  NaN      0   \n",
       "\n",
       "   parch  ticket     fare cabin embarked boat  body home.dest  \n",
       "0      0  367228   7.7500   NaN        Q  NaN   NaN       NaN  \n",
       "1      0  367226  23.2500   NaN        Q   16   NaN       NaN  \n",
       "2      0  367226  23.2500   NaN        Q   16   NaN       NaN  \n",
       "3      0  367226  23.2500   NaN        Q   16   NaN       NaN  \n",
       "4      0  330932   7.7875   NaN        Q   13   NaN       NaN  "
      ]
     },
     "execution_count": 236,
     "metadata": {},
     "output_type": "execute_result"
    }
   ],
   "source": [
    "test.head()"
   ]
  },
  {
   "cell_type": "code",
   "execution_count": 237,
   "metadata": {
    "collapsed": true
   },
   "outputs": [],
   "source": [
    "submission = pd.DataFrame({\n",
    "        \"Name\": test[\"name\"],\n",
    "        \"Survived\": Y_pred\n",
    "    })"
   ]
  },
  {
   "cell_type": "code",
   "execution_count": 239,
   "metadata": {},
   "outputs": [
    {
     "data": {
      "text/html": [
       "<div>\n",
       "<style>\n",
       "    .dataframe thead tr:only-child th {\n",
       "        text-align: right;\n",
       "    }\n",
       "\n",
       "    .dataframe thead th {\n",
       "        text-align: left;\n",
       "    }\n",
       "\n",
       "    .dataframe tbody tr th {\n",
       "        vertical-align: top;\n",
       "    }\n",
       "</style>\n",
       "<table border=\"1\" class=\"dataframe\">\n",
       "  <thead>\n",
       "    <tr style=\"text-align: right;\">\n",
       "      <th></th>\n",
       "      <th>Name</th>\n",
       "      <th>Survived</th>\n",
       "    </tr>\n",
       "  </thead>\n",
       "  <tbody>\n",
       "    <tr>\n",
       "      <th>299</th>\n",
       "      <td>Yasbeck, Mr. Antoni</td>\n",
       "      <td>0.0</td>\n",
       "    </tr>\n",
       "    <tr>\n",
       "      <th>300</th>\n",
       "      <td>Yasbeck, Mrs. Antoni (Selini Alexander)</td>\n",
       "      <td>0.0</td>\n",
       "    </tr>\n",
       "    <tr>\n",
       "      <th>301</th>\n",
       "      <td>Youseff, Mr. Gerious</td>\n",
       "      <td>0.0</td>\n",
       "    </tr>\n",
       "    <tr>\n",
       "      <th>302</th>\n",
       "      <td>Yousif, Mr. Wazli</td>\n",
       "      <td>0.0</td>\n",
       "    </tr>\n",
       "    <tr>\n",
       "      <th>303</th>\n",
       "      <td>Yousseff, Mr. Gerious</td>\n",
       "      <td>0.0</td>\n",
       "    </tr>\n",
       "    <tr>\n",
       "      <th>304</th>\n",
       "      <td>Zabour, Miss. Hileni</td>\n",
       "      <td>0.0</td>\n",
       "    </tr>\n",
       "    <tr>\n",
       "      <th>305</th>\n",
       "      <td>Zabour, Miss. Thamine</td>\n",
       "      <td>0.0</td>\n",
       "    </tr>\n",
       "    <tr>\n",
       "      <th>306</th>\n",
       "      <td>Zakarian, Mr. Mapriededer</td>\n",
       "      <td>0.0</td>\n",
       "    </tr>\n",
       "    <tr>\n",
       "      <th>307</th>\n",
       "      <td>Zakarian, Mr. Ortin</td>\n",
       "      <td>0.0</td>\n",
       "    </tr>\n",
       "    <tr>\n",
       "      <th>308</th>\n",
       "      <td>Zimmerman, Mr. Leo</td>\n",
       "      <td>0.0</td>\n",
       "    </tr>\n",
       "  </tbody>\n",
       "</table>\n",
       "</div>"
      ],
      "text/plain": [
       "                                        Name  Survived\n",
       "299                      Yasbeck, Mr. Antoni       0.0\n",
       "300  Yasbeck, Mrs. Antoni (Selini Alexander)       0.0\n",
       "301                     Youseff, Mr. Gerious       0.0\n",
       "302                        Yousif, Mr. Wazli       0.0\n",
       "303                    Yousseff, Mr. Gerious       0.0\n",
       "304                     Zabour, Miss. Hileni       0.0\n",
       "305                    Zabour, Miss. Thamine       0.0\n",
       "306                Zakarian, Mr. Mapriededer       0.0\n",
       "307                      Zakarian, Mr. Ortin       0.0\n",
       "308                       Zimmerman, Mr. Leo       0.0"
      ]
     },
     "execution_count": 239,
     "metadata": {},
     "output_type": "execute_result"
    }
   ],
   "source": [
    "submission.tail(10)"
   ]
  },
  {
   "cell_type": "code",
   "execution_count": null,
   "metadata": {},
   "outputs": [],
   "source": [
    "test.head(100)"
   ]
  }
 ],
 "metadata": {
  "kernelspec": {
   "display_name": "Python 3",
   "language": "python",
   "name": "python3"
  },
  "language_info": {
   "codemirror_mode": {
    "name": "ipython",
    "version": 3
   },
   "file_extension": ".py",
   "mimetype": "text/x-python",
   "name": "python",
   "nbconvert_exporter": "python",
   "pygments_lexer": "ipython3",
   "version": "3.6.3"
  }
 },
 "nbformat": 4,
 "nbformat_minor": 2
}
