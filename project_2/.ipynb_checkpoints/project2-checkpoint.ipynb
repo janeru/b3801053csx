{
 "cells": [
  {
   "cell_type": "markdown",
   "metadata": {},
   "source": [
    "##  第一部分：資料分析"
   ]
  },
  {
   "cell_type": "markdown",
   "metadata": {},
   "source": [
    "### 載入模組"
   ]
  },
  {
   "cell_type": "code",
   "execution_count": 580,
   "metadata": {
    "collapsed": true
   },
   "outputs": [],
   "source": [
    "import pandas as pd\n",
    "import numpy as np\n",
    "from matplotlib import pyplot as plt\n",
    "import matplotlib\n",
    "%matplotlib inline\n",
    "matplotlib.style.use('ggplot')\n",
    "\n",
    "from sklearn import preprocessing \n",
    "from sklearn.model_selection import GridSearchCV \n",
    "from sklearn.ensemble import RandomForestClassifier \n",
    "from sklearn.ensemble import RandomForestRegressor\n",
    "\n",
    "import warnings\n",
    "import pandas as pd\n",
    "import numpy as np\n",
    "import matplotlib.pyplot as plt\n",
    "import seaborn as sns\n",
    "\n",
    "%matplotlib inline\n",
    "pd.options.mode.chained_assignment = None\n"
   ]
  },
  {
   "cell_type": "markdown",
   "metadata": {},
   "source": [
    "### 了解資料"
   ]
  },
  {
   "cell_type": "markdown",
   "metadata": {},
   "source": [
    "匯入資料"
   ]
  },
  {
   "cell_type": "code",
   "execution_count": 581,
   "metadata": {
    "collapsed": true
   },
   "outputs": [],
   "source": [
    "train = pd.read_csv(\"titanicTrain.csv\")\n",
    "test =  pd.read_csv (\"titanicQuestion.csv\")"
   ]
  },
  {
   "cell_type": "code",
   "execution_count": 582,
   "metadata": {},
   "outputs": [
    {
     "data": {
      "text/html": [
       "<div>\n",
       "<style>\n",
       "    .dataframe thead tr:only-child th {\n",
       "        text-align: right;\n",
       "    }\n",
       "\n",
       "    .dataframe thead th {\n",
       "        text-align: left;\n",
       "    }\n",
       "\n",
       "    .dataframe tbody tr th {\n",
       "        vertical-align: top;\n",
       "    }\n",
       "</style>\n",
       "<table border=\"1\" class=\"dataframe\">\n",
       "  <thead>\n",
       "    <tr style=\"text-align: right;\">\n",
       "      <th></th>\n",
       "      <th>pclass</th>\n",
       "      <th>survived</th>\n",
       "      <th>name</th>\n",
       "      <th>sex</th>\n",
       "      <th>age</th>\n",
       "      <th>sibsp</th>\n",
       "      <th>parch</th>\n",
       "      <th>ticket</th>\n",
       "      <th>fare</th>\n",
       "      <th>cabin</th>\n",
       "      <th>embarked</th>\n",
       "      <th>boat</th>\n",
       "      <th>body</th>\n",
       "      <th>home.dest</th>\n",
       "    </tr>\n",
       "  </thead>\n",
       "  <tbody>\n",
       "    <tr>\n",
       "      <th>0</th>\n",
       "      <td>3</td>\n",
       "      <td>NaN</td>\n",
       "      <td>McCormack, Mr. Thomas Joseph</td>\n",
       "      <td>male</td>\n",
       "      <td>NaN</td>\n",
       "      <td>0</td>\n",
       "      <td>0</td>\n",
       "      <td>367228</td>\n",
       "      <td>7.7500</td>\n",
       "      <td>NaN</td>\n",
       "      <td>Q</td>\n",
       "      <td>NaN</td>\n",
       "      <td>NaN</td>\n",
       "      <td>NaN</td>\n",
       "    </tr>\n",
       "    <tr>\n",
       "      <th>1</th>\n",
       "      <td>3</td>\n",
       "      <td>NaN</td>\n",
       "      <td>McCoy, Miss. Agnes</td>\n",
       "      <td>female</td>\n",
       "      <td>NaN</td>\n",
       "      <td>2</td>\n",
       "      <td>0</td>\n",
       "      <td>367226</td>\n",
       "      <td>23.2500</td>\n",
       "      <td>NaN</td>\n",
       "      <td>Q</td>\n",
       "      <td>16</td>\n",
       "      <td>NaN</td>\n",
       "      <td>NaN</td>\n",
       "    </tr>\n",
       "    <tr>\n",
       "      <th>2</th>\n",
       "      <td>3</td>\n",
       "      <td>NaN</td>\n",
       "      <td>McCoy, Miss. Alicia</td>\n",
       "      <td>female</td>\n",
       "      <td>NaN</td>\n",
       "      <td>2</td>\n",
       "      <td>0</td>\n",
       "      <td>367226</td>\n",
       "      <td>23.2500</td>\n",
       "      <td>NaN</td>\n",
       "      <td>Q</td>\n",
       "      <td>16</td>\n",
       "      <td>NaN</td>\n",
       "      <td>NaN</td>\n",
       "    </tr>\n",
       "    <tr>\n",
       "      <th>3</th>\n",
       "      <td>3</td>\n",
       "      <td>NaN</td>\n",
       "      <td>McCoy, Mr. Bernard</td>\n",
       "      <td>male</td>\n",
       "      <td>NaN</td>\n",
       "      <td>2</td>\n",
       "      <td>0</td>\n",
       "      <td>367226</td>\n",
       "      <td>23.2500</td>\n",
       "      <td>NaN</td>\n",
       "      <td>Q</td>\n",
       "      <td>16</td>\n",
       "      <td>NaN</td>\n",
       "      <td>NaN</td>\n",
       "    </tr>\n",
       "    <tr>\n",
       "      <th>4</th>\n",
       "      <td>3</td>\n",
       "      <td>NaN</td>\n",
       "      <td>McDermott, Miss. Brigdet Delia</td>\n",
       "      <td>female</td>\n",
       "      <td>NaN</td>\n",
       "      <td>0</td>\n",
       "      <td>0</td>\n",
       "      <td>330932</td>\n",
       "      <td>7.7875</td>\n",
       "      <td>NaN</td>\n",
       "      <td>Q</td>\n",
       "      <td>13</td>\n",
       "      <td>NaN</td>\n",
       "      <td>NaN</td>\n",
       "    </tr>\n",
       "  </tbody>\n",
       "</table>\n",
       "</div>"
      ],
      "text/plain": [
       "   pclass  survived                            name     sex  age  sibsp  \\\n",
       "0       3       NaN    McCormack, Mr. Thomas Joseph    male  NaN      0   \n",
       "1       3       NaN              McCoy, Miss. Agnes  female  NaN      2   \n",
       "2       3       NaN             McCoy, Miss. Alicia  female  NaN      2   \n",
       "3       3       NaN              McCoy, Mr. Bernard    male  NaN      2   \n",
       "4       3       NaN  McDermott, Miss. Brigdet Delia  female  NaN      0   \n",
       "\n",
       "   parch  ticket     fare cabin embarked boat  body home.dest  \n",
       "0      0  367228   7.7500   NaN        Q  NaN   NaN       NaN  \n",
       "1      0  367226  23.2500   NaN        Q   16   NaN       NaN  \n",
       "2      0  367226  23.2500   NaN        Q   16   NaN       NaN  \n",
       "3      0  367226  23.2500   NaN        Q   16   NaN       NaN  \n",
       "4      0  330932   7.7875   NaN        Q   13   NaN       NaN  "
      ]
     },
     "execution_count": 582,
     "metadata": {},
     "output_type": "execute_result"
    }
   ],
   "source": [
    "test.head()"
   ]
  },
  {
   "cell_type": "markdown",
   "metadata": {},
   "source": [
    "看看維度"
   ]
  },
  {
   "cell_type": "code",
   "execution_count": 583,
   "metadata": {},
   "outputs": [
    {
     "data": {
      "text/plain": [
       "(1000, 14)"
      ]
     },
     "execution_count": 583,
     "metadata": {},
     "output_type": "execute_result"
    }
   ],
   "source": [
    "train.shape"
   ]
  },
  {
   "cell_type": "code",
   "execution_count": 584,
   "metadata": {},
   "outputs": [
    {
     "data": {
      "text/html": [
       "<div>\n",
       "<style>\n",
       "    .dataframe thead tr:only-child th {\n",
       "        text-align: right;\n",
       "    }\n",
       "\n",
       "    .dataframe thead th {\n",
       "        text-align: left;\n",
       "    }\n",
       "\n",
       "    .dataframe tbody tr th {\n",
       "        vertical-align: top;\n",
       "    }\n",
       "</style>\n",
       "<table border=\"1\" class=\"dataframe\">\n",
       "  <thead>\n",
       "    <tr style=\"text-align: right;\">\n",
       "      <th></th>\n",
       "      <th>pclass</th>\n",
       "      <th>survived</th>\n",
       "      <th>name</th>\n",
       "      <th>sex</th>\n",
       "      <th>age</th>\n",
       "      <th>sibsp</th>\n",
       "      <th>parch</th>\n",
       "      <th>ticket</th>\n",
       "      <th>fare</th>\n",
       "      <th>cabin</th>\n",
       "      <th>embarked</th>\n",
       "      <th>boat</th>\n",
       "      <th>body</th>\n",
       "      <th>home.dest</th>\n",
       "    </tr>\n",
       "  </thead>\n",
       "  <tbody>\n",
       "    <tr>\n",
       "      <th>0</th>\n",
       "      <td>1</td>\n",
       "      <td>1</td>\n",
       "      <td>Allen, Miss. Elisabeth Walton</td>\n",
       "      <td>female</td>\n",
       "      <td>29.0000</td>\n",
       "      <td>0</td>\n",
       "      <td>0</td>\n",
       "      <td>24160</td>\n",
       "      <td>211.3375</td>\n",
       "      <td>B5</td>\n",
       "      <td>S</td>\n",
       "      <td>2</td>\n",
       "      <td>NaN</td>\n",
       "      <td>St Louis, MO</td>\n",
       "    </tr>\n",
       "    <tr>\n",
       "      <th>1</th>\n",
       "      <td>1</td>\n",
       "      <td>1</td>\n",
       "      <td>Allison, Master. Hudson Trevor</td>\n",
       "      <td>male</td>\n",
       "      <td>0.9167</td>\n",
       "      <td>1</td>\n",
       "      <td>2</td>\n",
       "      <td>113781</td>\n",
       "      <td>151.5500</td>\n",
       "      <td>C22 C26</td>\n",
       "      <td>S</td>\n",
       "      <td>11</td>\n",
       "      <td>NaN</td>\n",
       "      <td>Montreal, PQ / Chesterville, ON</td>\n",
       "    </tr>\n",
       "    <tr>\n",
       "      <th>2</th>\n",
       "      <td>1</td>\n",
       "      <td>0</td>\n",
       "      <td>Allison, Miss. Helen Loraine</td>\n",
       "      <td>female</td>\n",
       "      <td>2.0000</td>\n",
       "      <td>1</td>\n",
       "      <td>2</td>\n",
       "      <td>113781</td>\n",
       "      <td>151.5500</td>\n",
       "      <td>C22 C26</td>\n",
       "      <td>S</td>\n",
       "      <td>NaN</td>\n",
       "      <td>NaN</td>\n",
       "      <td>Montreal, PQ / Chesterville, ON</td>\n",
       "    </tr>\n",
       "  </tbody>\n",
       "</table>\n",
       "</div>"
      ],
      "text/plain": [
       "   pclass  survived                            name     sex      age  sibsp  \\\n",
       "0       1         1   Allen, Miss. Elisabeth Walton  female  29.0000      0   \n",
       "1       1         1  Allison, Master. Hudson Trevor    male   0.9167      1   \n",
       "2       1         0    Allison, Miss. Helen Loraine  female   2.0000      1   \n",
       "\n",
       "   parch  ticket      fare    cabin embarked boat  body  \\\n",
       "0      0   24160  211.3375       B5        S    2   NaN   \n",
       "1      2  113781  151.5500  C22 C26        S   11   NaN   \n",
       "2      2  113781  151.5500  C22 C26        S  NaN   NaN   \n",
       "\n",
       "                         home.dest  \n",
       "0                     St Louis, MO  \n",
       "1  Montreal, PQ / Chesterville, ON  \n",
       "2  Montreal, PQ / Chesterville, ON  "
      ]
     },
     "execution_count": 584,
     "metadata": {},
     "output_type": "execute_result"
    }
   ],
   "source": [
    "train.head(3)"
   ]
  },
  {
   "cell_type": "code",
   "execution_count": 585,
   "metadata": {},
   "outputs": [
    {
     "data": {
      "text/plain": [
       "(309, 14)"
      ]
     },
     "execution_count": 585,
     "metadata": {},
     "output_type": "execute_result"
    }
   ],
   "source": [
    "test.shape"
   ]
  },
  {
   "cell_type": "markdown",
   "metadata": {},
   "source": [
    "看看有哪些欄位有空值"
   ]
  },
  {
   "cell_type": "code",
   "execution_count": 586,
   "metadata": {},
   "outputs": [
    {
     "name": "stdout",
     "output_type": "stream",
     "text": [
      "<class 'pandas.core.frame.DataFrame'>\n",
      "RangeIndex: 1000 entries, 0 to 999\n",
      "Data columns (total 14 columns):\n",
      "pclass       1000 non-null int64\n",
      "survived     1000 non-null int64\n",
      "name         1000 non-null object\n",
      "sex          1000 non-null object\n",
      "age          861 non-null float64\n",
      "sibsp        1000 non-null int64\n",
      "parch        1000 non-null int64\n",
      "ticket       1000 non-null object\n",
      "fare         1000 non-null float64\n",
      "cabin        283 non-null object\n",
      "embarked     998 non-null object\n",
      "boat         417 non-null object\n",
      "body         95 non-null float64\n",
      "home.dest    742 non-null object\n",
      "dtypes: float64(3), int64(4), object(7)\n",
      "memory usage: 109.5+ KB\n"
     ]
    }
   ],
   "source": [
    "train.info()"
   ]
  },
  {
   "cell_type": "code",
   "execution_count": 587,
   "metadata": {},
   "outputs": [
    {
     "name": "stdout",
     "output_type": "stream",
     "text": [
      "<class 'pandas.core.frame.DataFrame'>\n",
      "RangeIndex: 309 entries, 0 to 308\n",
      "Data columns (total 14 columns):\n",
      "pclass       309 non-null int64\n",
      "survived     0 non-null float64\n",
      "name         309 non-null object\n",
      "sex          309 non-null object\n",
      "age          185 non-null float64\n",
      "sibsp        309 non-null int64\n",
      "parch        309 non-null int64\n",
      "ticket       309 non-null object\n",
      "fare         308 non-null float64\n",
      "cabin        12 non-null object\n",
      "embarked     309 non-null object\n",
      "boat         69 non-null object\n",
      "body         26 non-null float64\n",
      "home.dest    3 non-null object\n",
      "dtypes: float64(4), int64(3), object(7)\n",
      "memory usage: 33.9+ KB\n"
     ]
    }
   ],
   "source": [
    "test.info()"
   ]
  },
  {
   "cell_type": "markdown",
   "metadata": {},
   "source": [
    "將這兩個dataset放一起的原因是可一併分析處理，例如一些資料會有缺值情況需補值，以及不同資料分群時不用分開進行。不過最後在訓練學習之前，必須要記得將Test從Train dataset移出。"
   ]
  },
  {
   "cell_type": "code",
   "execution_count": 588,
   "metadata": {
    "collapsed": true
   },
   "outputs": [],
   "source": [
    "data = train.append(test)"
   ]
  },
  {
   "cell_type": "markdown",
   "metadata": {},
   "source": [
    "由於使用append合併之後會造成index重複問題，因此要將index重新設定"
   ]
  },
  {
   "cell_type": "code",
   "execution_count": 589,
   "metadata": {
    "collapsed": true
   },
   "outputs": [],
   "source": [
    "data.reset_index(inplace=True, drop=True)"
   ]
  },
  {
   "cell_type": "markdown",
   "metadata": {},
   "source": [
    "列出資料所有欄位名稱"
   ]
  },
  {
   "cell_type": "code",
   "execution_count": 590,
   "metadata": {},
   "outputs": [
    {
     "data": {
      "text/plain": [
       "(1309, 14)"
      ]
     },
     "execution_count": 590,
     "metadata": {},
     "output_type": "execute_result"
    }
   ],
   "source": [
    "data.shape"
   ]
  },
  {
   "cell_type": "code",
   "execution_count": 591,
   "metadata": {},
   "outputs": [
    {
     "name": "stdout",
     "output_type": "stream",
     "text": [
      "<class 'pandas.core.frame.DataFrame'>\n",
      "RangeIndex: 1309 entries, 0 to 1308\n",
      "Data columns (total 14 columns):\n",
      "pclass       1309 non-null int64\n",
      "survived     1000 non-null float64\n",
      "name         1309 non-null object\n",
      "sex          1309 non-null object\n",
      "age          1046 non-null float64\n",
      "sibsp        1309 non-null int64\n",
      "parch        1309 non-null int64\n",
      "ticket       1309 non-null object\n",
      "fare         1308 non-null float64\n",
      "cabin        295 non-null object\n",
      "embarked     1307 non-null object\n",
      "boat         486 non-null object\n",
      "body         121 non-null float64\n",
      "home.dest    745 non-null object\n",
      "dtypes: float64(4), int64(3), object(7)\n",
      "memory usage: 143.2+ KB\n"
     ]
    }
   ],
   "source": [
    "data.info()"
   ]
  },
  {
   "cell_type": "code",
   "execution_count": 592,
   "metadata": {},
   "outputs": [
    {
     "data": {
      "text/html": [
       "<div>\n",
       "<style>\n",
       "    .dataframe thead tr:only-child th {\n",
       "        text-align: right;\n",
       "    }\n",
       "\n",
       "    .dataframe thead th {\n",
       "        text-align: left;\n",
       "    }\n",
       "\n",
       "    .dataframe tbody tr th {\n",
       "        vertical-align: top;\n",
       "    }\n",
       "</style>\n",
       "<table border=\"1\" class=\"dataframe\">\n",
       "  <thead>\n",
       "    <tr style=\"text-align: right;\">\n",
       "      <th></th>\n",
       "      <th>pclass</th>\n",
       "      <th>survived</th>\n",
       "      <th>age</th>\n",
       "      <th>sibsp</th>\n",
       "      <th>parch</th>\n",
       "      <th>fare</th>\n",
       "      <th>body</th>\n",
       "    </tr>\n",
       "  </thead>\n",
       "  <tbody>\n",
       "    <tr>\n",
       "      <th>count</th>\n",
       "      <td>1309.000000</td>\n",
       "      <td>1000.000000</td>\n",
       "      <td>1046.000000</td>\n",
       "      <td>1309.000000</td>\n",
       "      <td>1309.000000</td>\n",
       "      <td>1308.000000</td>\n",
       "      <td>121.000000</td>\n",
       "    </tr>\n",
       "    <tr>\n",
       "      <th>mean</th>\n",
       "      <td>2.294882</td>\n",
       "      <td>0.423000</td>\n",
       "      <td>29.881135</td>\n",
       "      <td>0.498854</td>\n",
       "      <td>0.385027</td>\n",
       "      <td>33.295479</td>\n",
       "      <td>160.809917</td>\n",
       "    </tr>\n",
       "    <tr>\n",
       "      <th>std</th>\n",
       "      <td>0.837836</td>\n",
       "      <td>0.494283</td>\n",
       "      <td>14.413500</td>\n",
       "      <td>1.041658</td>\n",
       "      <td>0.865560</td>\n",
       "      <td>51.758668</td>\n",
       "      <td>97.696922</td>\n",
       "    </tr>\n",
       "    <tr>\n",
       "      <th>min</th>\n",
       "      <td>1.000000</td>\n",
       "      <td>0.000000</td>\n",
       "      <td>0.166700</td>\n",
       "      <td>0.000000</td>\n",
       "      <td>0.000000</td>\n",
       "      <td>0.000000</td>\n",
       "      <td>1.000000</td>\n",
       "    </tr>\n",
       "    <tr>\n",
       "      <th>25%</th>\n",
       "      <td>2.000000</td>\n",
       "      <td>0.000000</td>\n",
       "      <td>21.000000</td>\n",
       "      <td>0.000000</td>\n",
       "      <td>0.000000</td>\n",
       "      <td>7.895800</td>\n",
       "      <td>72.000000</td>\n",
       "    </tr>\n",
       "    <tr>\n",
       "      <th>50%</th>\n",
       "      <td>3.000000</td>\n",
       "      <td>0.000000</td>\n",
       "      <td>28.000000</td>\n",
       "      <td>0.000000</td>\n",
       "      <td>0.000000</td>\n",
       "      <td>14.454200</td>\n",
       "      <td>155.000000</td>\n",
       "    </tr>\n",
       "    <tr>\n",
       "      <th>75%</th>\n",
       "      <td>3.000000</td>\n",
       "      <td>1.000000</td>\n",
       "      <td>39.000000</td>\n",
       "      <td>1.000000</td>\n",
       "      <td>0.000000</td>\n",
       "      <td>31.275000</td>\n",
       "      <td>256.000000</td>\n",
       "    </tr>\n",
       "    <tr>\n",
       "      <th>max</th>\n",
       "      <td>3.000000</td>\n",
       "      <td>1.000000</td>\n",
       "      <td>80.000000</td>\n",
       "      <td>8.000000</td>\n",
       "      <td>9.000000</td>\n",
       "      <td>512.329200</td>\n",
       "      <td>328.000000</td>\n",
       "    </tr>\n",
       "  </tbody>\n",
       "</table>\n",
       "</div>"
      ],
      "text/plain": [
       "            pclass     survived          age        sibsp        parch  \\\n",
       "count  1309.000000  1000.000000  1046.000000  1309.000000  1309.000000   \n",
       "mean      2.294882     0.423000    29.881135     0.498854     0.385027   \n",
       "std       0.837836     0.494283    14.413500     1.041658     0.865560   \n",
       "min       1.000000     0.000000     0.166700     0.000000     0.000000   \n",
       "25%       2.000000     0.000000    21.000000     0.000000     0.000000   \n",
       "50%       3.000000     0.000000    28.000000     0.000000     0.000000   \n",
       "75%       3.000000     1.000000    39.000000     1.000000     0.000000   \n",
       "max       3.000000     1.000000    80.000000     8.000000     9.000000   \n",
       "\n",
       "              fare        body  \n",
       "count  1308.000000  121.000000  \n",
       "mean     33.295479  160.809917  \n",
       "std      51.758668   97.696922  \n",
       "min       0.000000    1.000000  \n",
       "25%       7.895800   72.000000  \n",
       "50%      14.454200  155.000000  \n",
       "75%      31.275000  256.000000  \n",
       "max     512.329200  328.000000  "
      ]
     },
     "execution_count": 592,
     "metadata": {},
     "output_type": "execute_result"
    }
   ],
   "source": [
    "data.describe()"
   ]
  },
  {
   "cell_type": "markdown",
   "metadata": {},
   "source": [
    "### 資料探索(尋找與survived相關的feature) Feature Engineering & visualization"
   ]
  },
  {
   "cell_type": "markdown",
   "metadata": {},
   "source": [
    "檢視非數值欄位"
   ]
  },
  {
   "cell_type": "code",
   "execution_count": 593,
   "metadata": {},
   "outputs": [
    {
     "data": {
      "text/html": [
       "<div>\n",
       "<style>\n",
       "    .dataframe thead tr:only-child th {\n",
       "        text-align: right;\n",
       "    }\n",
       "\n",
       "    .dataframe thead th {\n",
       "        text-align: left;\n",
       "    }\n",
       "\n",
       "    .dataframe tbody tr th {\n",
       "        vertical-align: top;\n",
       "    }\n",
       "</style>\n",
       "<table border=\"1\" class=\"dataframe\">\n",
       "  <thead>\n",
       "    <tr style=\"text-align: right;\">\n",
       "      <th></th>\n",
       "      <th>name</th>\n",
       "      <th>sex</th>\n",
       "      <th>ticket</th>\n",
       "      <th>cabin</th>\n",
       "      <th>embarked</th>\n",
       "      <th>boat</th>\n",
       "      <th>home.dest</th>\n",
       "    </tr>\n",
       "  </thead>\n",
       "  <tbody>\n",
       "    <tr>\n",
       "      <th>count</th>\n",
       "      <td>1309</td>\n",
       "      <td>1309</td>\n",
       "      <td>1309</td>\n",
       "      <td>295</td>\n",
       "      <td>1307</td>\n",
       "      <td>486</td>\n",
       "      <td>745</td>\n",
       "    </tr>\n",
       "    <tr>\n",
       "      <th>unique</th>\n",
       "      <td>1307</td>\n",
       "      <td>2</td>\n",
       "      <td>929</td>\n",
       "      <td>186</td>\n",
       "      <td>3</td>\n",
       "      <td>27</td>\n",
       "      <td>369</td>\n",
       "    </tr>\n",
       "    <tr>\n",
       "      <th>top</th>\n",
       "      <td>Kelly, Mr. James</td>\n",
       "      <td>male</td>\n",
       "      <td>CA. 2343</td>\n",
       "      <td>C23 C25 C27</td>\n",
       "      <td>S</td>\n",
       "      <td>13</td>\n",
       "      <td>New York, NY</td>\n",
       "    </tr>\n",
       "    <tr>\n",
       "      <th>freq</th>\n",
       "      <td>2</td>\n",
       "      <td>843</td>\n",
       "      <td>11</td>\n",
       "      <td>6</td>\n",
       "      <td>914</td>\n",
       "      <td>39</td>\n",
       "      <td>64</td>\n",
       "    </tr>\n",
       "  </tbody>\n",
       "</table>\n",
       "</div>"
      ],
      "text/plain": [
       "                    name   sex    ticket        cabin embarked boat  \\\n",
       "count               1309  1309      1309          295     1307  486   \n",
       "unique              1307     2       929          186        3   27   \n",
       "top     Kelly, Mr. James  male  CA. 2343  C23 C25 C27        S   13   \n",
       "freq                   2   843        11            6      914   39   \n",
       "\n",
       "           home.dest  \n",
       "count            745  \n",
       "unique           369  \n",
       "top     New York, NY  \n",
       "freq              64  "
      ]
     },
     "execution_count": 593,
     "metadata": {},
     "output_type": "execute_result"
    }
   ],
   "source": [
    "data.describe(include=['O'])"
   ]
  },
  {
   "cell_type": "markdown",
   "metadata": {},
   "source": [
    "include=[‘O’]參數可針對Object類型欄位進行統計。執行後發現count=1309，unique=1307，Name欄位有兩筆是重複的名字。Sex欄位只有兩種Male/Female，其中以Male最多有843位。"
   ]
  },
  {
   "cell_type": "markdown",
   "metadata": {},
   "source": [
    "視覺化"
   ]
  },
  {
   "cell_type": "markdown",
   "metadata": {},
   "source": [
    "1.Sex Feature性別"
   ]
  },
  {
   "cell_type": "code",
   "execution_count": 594,
   "metadata": {},
   "outputs": [
    {
     "name": "stdout",
     "output_type": "stream",
     "text": [
      "Percentage of females who survived:78.17\n",
      "Percentage of males who survived:21.14\n"
     ]
    },
    {
     "data": {
      "image/png": "[encoded data removed]",
      "text/plain": [
       "<matplotlib.figure.Figure at 0x1a21a139b0>"
      ]
     },
     "metadata": {},
     "output_type": "display_data"
    }
   ],
   "source": [
    "sns.barplot(x=\"sex\",y=\"survived\",data=data,palette='Set1')\n",
    "print(\"Percentage of females who survived:%.2f\"%(data[\"survived\"][data[\"sex\"]=='female'].value_counts(normalize=True)[1]*100))\n",
    "print(\"Percentage of males who survived:%.2f\"%(data[\"survived\"][data[\"sex\"]=='male'].value_counts(normalize=True)[1]*100))"
   ]
  },
  {
   "cell_type": "code",
   "execution_count": 595,
   "metadata": {},
   "outputs": [
    {
     "data": {
      "text/html": [
       "<div>\n",
       "<style>\n",
       "    .dataframe thead tr:only-child th {\n",
       "        text-align: right;\n",
       "    }\n",
       "\n",
       "    .dataframe thead th {\n",
       "        text-align: left;\n",
       "    }\n",
       "\n",
       "    .dataframe tbody tr th {\n",
       "        vertical-align: top;\n",
       "    }\n",
       "</style>\n",
       "<table border=\"1\" class=\"dataframe\">\n",
       "  <thead>\n",
       "    <tr style=\"text-align: right;\">\n",
       "      <th></th>\n",
       "      <th>sex</th>\n",
       "      <th>survived</th>\n",
       "    </tr>\n",
       "  </thead>\n",
       "  <tbody>\n",
       "    <tr>\n",
       "      <th>0</th>\n",
       "      <td>female</td>\n",
       "      <td>0.781671</td>\n",
       "    </tr>\n",
       "    <tr>\n",
       "      <th>1</th>\n",
       "      <td>male</td>\n",
       "      <td>0.211447</td>\n",
       "    </tr>\n",
       "  </tbody>\n",
       "</table>\n",
       "</div>"
      ],
      "text/plain": [
       "      sex  survived\n",
       "0  female  0.781671\n",
       "1    male  0.211447"
      ]
     },
     "execution_count": 595,
     "metadata": {},
     "output_type": "execute_result"
    }
   ],
   "source": [
    "data[['sex', 'survived']].groupby(['sex'], as_index=False).mean().sort_values(by='survived', ascending=False)"
   ]
  },
  {
   "cell_type": "markdown",
   "metadata": {},
   "source": [
    "2.Pclass Feature(社會階級)"
   ]
  },
  {
   "cell_type": "markdown",
   "metadata": {},
   "source": [
    "女性存活率>男性"
   ]
  },
  {
   "cell_type": "code",
   "execution_count": 596,
   "metadata": {},
   "outputs": [
    {
     "data": {
      "text/plain": [
       "array(['pclass', 'survived', 'name', 'sex', 'age', 'sibsp', 'parch',\n",
       "       'ticket', 'fare', 'cabin', 'embarked', 'boat', 'body', 'home.dest'],\n",
       "      dtype=object)"
      ]
     },
     "execution_count": 596,
     "metadata": {},
     "output_type": "execute_result"
    }
   ],
   "source": [
    "data.columns.values"
   ]
  },
  {
   "cell_type": "code",
   "execution_count": 597,
   "metadata": {},
   "outputs": [
    {
     "name": "stdout",
     "output_type": "stream",
     "text": [
      "Percentage of Pclass = 1 who survived:61.92\n",
      "Percentage of Pclass = 2 who survived:42.96\n",
      "Percentage of Pclass = 3 who survived:26.00\n"
     ]
    },
    {
     "data": {
      "image/png": "[encoded data removed]",
      "text/plain": [
       "<matplotlib.figure.Figure at 0x1a218bcf28>"
      ]
     },
     "metadata": {},
     "output_type": "display_data"
    }
   ],
   "source": [
    "sns.barplot(x=\"pclass\",y=\"survived\",data=data,palette='Set1')\n",
    "print(\"Percentage of Pclass = 1 who survived:%.2f\"%(data[\"survived\"][data[\"pclass\"]==1].value_counts(normalize=True)[1]*100))\n",
    "print(\"Percentage of Pclass = 2 who survived:%.2f\"%(data[\"survived\"][data[\"pclass\"]==2].value_counts(normalize=True)[1]*100))\n",
    "print(\"Percentage of Pclass = 3 who survived:%.2f\"%(data[\"survived\"][data[\"pclass\"]==3].value_counts(normalize=True)[1]*100))"
   ]
  },
  {
   "cell_type": "markdown",
   "metadata": {},
   "source": [
    "乘客社會階級越高 存活率越大"
   ]
  },
  {
   "cell_type": "markdown",
   "metadata": {},
   "source": [
    "3.SibSp Feature and Parch Featrue(親屬間的關係)\n"
   ]
  },
  {
   "cell_type": "code",
   "execution_count": 598,
   "metadata": {},
   "outputs": [
    {
     "data": {
      "text/plain": [
       "<matplotlib.axes._subplots.AxesSubplot at 0x1a21665710>"
      ]
     },
     "execution_count": 598,
     "metadata": {},
     "output_type": "execute_result"
    },
    {
     "data": {
      "image/png": "[encoded data removed]",
      "text/plain": [
       "<matplotlib.figure.Figure at 0x1a2220b358>"
      ]
     },
     "metadata": {},
     "output_type": "display_data"
    }
   ],
   "source": [
    "sns.barplot(x=\"parch\",y=\"survived\",data=data,palette='Set1')"
   ]
  },
  {
   "cell_type": "code",
   "execution_count": 599,
   "metadata": {},
   "outputs": [
    {
     "data": {
      "text/plain": [
       "<matplotlib.axes._subplots.AxesSubplot at 0x1a21052e10>"
      ]
     },
     "execution_count": 599,
     "metadata": {},
     "output_type": "execute_result"
    },
    {
     "data": {
      "image/png": "[encoded data removed]",
      "text/plain": [
       "<matplotlib.figure.Figure at 0x1a22415080>"
      ]
     },
     "metadata": {},
     "output_type": "display_data"
    }
   ],
   "source": [
    "sns.barplot(x=\"sibsp\",y=\"survived\",data=data,palette='Set1')"
   ]
  },
  {
   "cell_type": "markdown",
   "metadata": {},
   "source": [
    "將sibsp(配偶及兄弟姐妹數)與parch(父母與子女數)兩個變項合併成新的變項family_size(親屬)"
   ]
  },
  {
   "cell_type": "code",
   "execution_count": 600,
   "metadata": {
    "collapsed": true
   },
   "outputs": [],
   "source": [
    "data['family_size'] = data['parch'] + data['sibsp']"
   ]
  },
  {
   "cell_type": "code",
   "execution_count": 601,
   "metadata": {},
   "outputs": [
    {
     "data": {
      "text/plain": [
       "<matplotlib.axes._subplots.AxesSubplot at 0x1a216c7c18>"
      ]
     },
     "execution_count": 601,
     "metadata": {},
     "output_type": "execute_result"
    },
    {
     "data": {
      "image/png": "[encoded data removed]",
      "text/plain": [
       "<matplotlib.figure.Figure at 0x1a22011e80>"
      ]
     },
     "metadata": {},
     "output_type": "display_data"
    }
   ],
   "source": [
    "sns.barplot(x=\"family_size\",y=\"survived\",data=data,palette='Set1')"
   ]
  },
  {
   "cell_type": "markdown",
   "metadata": {},
   "source": [
    "親屬數1~3人，存活率較高"
   ]
  },
  {
   "cell_type": "markdown",
   "metadata": {},
   "source": [
    "4.Age Feature(年齡)"
   ]
  },
  {
   "cell_type": "code",
   "execution_count": 602,
   "metadata": {},
   "outputs": [
    {
     "data": {
      "text/plain": [
       "<seaborn.axisgrid.FacetGrid at 0x1a216cd780>"
      ]
     },
     "execution_count": 602,
     "metadata": {},
     "output_type": "execute_result"
    },
    {
     "data": {
      "image/png": "[encoded data removed]",
      "text/plain": [
       "<matplotlib.figure.Figure at 0x1a22919cc0>"
      ]
     },
     "metadata": {},
     "output_type": "display_data"
    }
   ],
   "source": [
    "g = sns.FacetGrid(data, col='survived')\n",
    "g.map(sns.distplot, 'age', kde=False)"
   ]
  },
  {
   "cell_type": "markdown",
   "metadata": {},
   "source": [
    "年紀在0~20歲的存活率高於死亡率"
   ]
  },
  {
   "cell_type": "markdown",
   "metadata": {},
   "source": [
    "5.Fare Feature(票價)"
   ]
  },
  {
   "cell_type": "code",
   "execution_count": 603,
   "metadata": {},
   "outputs": [
    {
     "data": {
      "text/plain": [
       "<bound method Grid.add_legend of <seaborn.axisgrid.FacetGrid object at 0x1a220c9978>>"
      ]
     },
     "execution_count": 603,
     "metadata": {},
     "output_type": "execute_result"
    },
    {
     "data": {
      "image/png": "[encoded data removed]",
      "text/plain": [
       "<matplotlib.figure.Figure at 0x1a220c9a58>"
      ]
     },
     "metadata": {},
     "output_type": "display_data"
    }
   ],
   "source": [
    "facet=sns.FacetGrid(data,hue=\"survived\",aspect=2)\n",
    "facet.map(sns.kdeplot,'fare',shade=True)\n",
    "facet.set(xlim=(0,200))\n",
    "facet.add_legend"
   ]
  },
  {
   "cell_type": "markdown",
   "metadata": {},
   "source": [
    "購買越高的票價，存活率越高"
   ]
  },
  {
   "cell_type": "markdown",
   "metadata": {},
   "source": [
    "6.Title Feature(將姓名的稱謂抓出來)"
   ]
  },
  {
   "cell_type": "code",
   "execution_count": 604,
   "metadata": {
    "collapsed": true
   },
   "outputs": [],
   "source": [
    "data['title1'] = data['name'].str.split(\", \", expand=True)[1]"
   ]
  },
  {
   "cell_type": "code",
   "execution_count": 605,
   "metadata": {},
   "outputs": [
    {
     "data": {
      "text/html": [
       "<div>\n",
       "<style>\n",
       "    .dataframe thead tr:only-child th {\n",
       "        text-align: right;\n",
       "    }\n",
       "\n",
       "    .dataframe thead th {\n",
       "        text-align: left;\n",
       "    }\n",
       "\n",
       "    .dataframe tbody tr th {\n",
       "        vertical-align: top;\n",
       "    }\n",
       "</style>\n",
       "<table border=\"1\" class=\"dataframe\">\n",
       "  <thead>\n",
       "    <tr style=\"text-align: right;\">\n",
       "      <th></th>\n",
       "      <th>0</th>\n",
       "      <th>1</th>\n",
       "    </tr>\n",
       "  </thead>\n",
       "  <tbody>\n",
       "    <tr>\n",
       "      <th>0</th>\n",
       "      <td>Allen</td>\n",
       "      <td>Miss. Elisabeth Walton</td>\n",
       "    </tr>\n",
       "    <tr>\n",
       "      <th>1</th>\n",
       "      <td>Allison</td>\n",
       "      <td>Master. Hudson Trevor</td>\n",
       "    </tr>\n",
       "    <tr>\n",
       "      <th>2</th>\n",
       "      <td>Allison</td>\n",
       "      <td>Miss. Helen Loraine</td>\n",
       "    </tr>\n",
       "  </tbody>\n",
       "</table>\n",
       "</div>"
      ],
      "text/plain": [
       "         0                       1\n",
       "0    Allen  Miss. Elisabeth Walton\n",
       "1  Allison   Master. Hudson Trevor\n",
       "2  Allison     Miss. Helen Loraine"
      ]
     },
     "execution_count": 605,
     "metadata": {},
     "output_type": "execute_result"
    }
   ],
   "source": [
    "data['name'].str.split(\", \", expand=True).head(3)"
   ]
  },
  {
   "cell_type": "code",
   "execution_count": 606,
   "metadata": {
    "collapsed": true
   },
   "outputs": [],
   "source": [
    "data['title1'] = data['title1'].str.split(\".\", expand=True)[0]"
   ]
  },
  {
   "cell_type": "code",
   "execution_count": 607,
   "metadata": {},
   "outputs": [
    {
     "data": {
      "text/plain": [
       "array(['Miss', 'Master', 'Mr', 'Mrs', 'Col', 'Mme', 'Dr', 'Major', 'Capt',\n",
       "       'Lady', 'Sir', 'Mlle', 'Dona', 'Jonkheer', 'the Countess', 'Don',\n",
       "       'Rev', 'Ms'], dtype=object)"
      ]
     },
     "execution_count": 607,
     "metadata": {},
     "output_type": "execute_result"
    }
   ],
   "source": [
    "data['title1'].unique()"
   ]
  },
  {
   "cell_type": "code",
   "execution_count": 608,
   "metadata": {},
   "outputs": [
    {
     "data": {
      "text/html": [
       "<style  type=\"text/css\" >\n",
       "    #T_1d1e8506_4e06_11e8_b3ea_c869cdace964row0_col0 {\n",
       "            background-color:  #ffff66;\n",
       "        }    #T_1d1e8506_4e06_11e8_b3ea_c869cdace964row0_col1 {\n",
       "            background-color:  #ffff66;\n",
       "        }    #T_1d1e8506_4e06_11e8_b3ea_c869cdace964row0_col2 {\n",
       "            background-color:  #ffff66;\n",
       "        }    #T_1d1e8506_4e06_11e8_b3ea_c869cdace964row0_col3 {\n",
       "            background-color:  #008066;\n",
       "        }    #T_1d1e8506_4e06_11e8_b3ea_c869cdace964row0_col4 {\n",
       "            background-color:  #ffff66;\n",
       "        }    #T_1d1e8506_4e06_11e8_b3ea_c869cdace964row0_col5 {\n",
       "            background-color:  #ffff66;\n",
       "        }    #T_1d1e8506_4e06_11e8_b3ea_c869cdace964row0_col6 {\n",
       "            background-color:  #008066;\n",
       "        }    #T_1d1e8506_4e06_11e8_b3ea_c869cdace964row0_col7 {\n",
       "            background-color:  #ffff66;\n",
       "        }    #T_1d1e8506_4e06_11e8_b3ea_c869cdace964row0_col8 {\n",
       "            background-color:  #ffff66;\n",
       "        }    #T_1d1e8506_4e06_11e8_b3ea_c869cdace964row0_col9 {\n",
       "            background-color:  #008066;\n",
       "        }    #T_1d1e8506_4e06_11e8_b3ea_c869cdace964row0_col10 {\n",
       "            background-color:  #008066;\n",
       "        }    #T_1d1e8506_4e06_11e8_b3ea_c869cdace964row0_col11 {\n",
       "            background-color:  #008066;\n",
       "        }    #T_1d1e8506_4e06_11e8_b3ea_c869cdace964row0_col12 {\n",
       "            background-color:  #ffff66;\n",
       "        }    #T_1d1e8506_4e06_11e8_b3ea_c869cdace964row0_col13 {\n",
       "            background-color:  #008066;\n",
       "        }    #T_1d1e8506_4e06_11e8_b3ea_c869cdace964row0_col14 {\n",
       "            background-color:  #008066;\n",
       "        }    #T_1d1e8506_4e06_11e8_b3ea_c869cdace964row0_col15 {\n",
       "            background-color:  #ffff66;\n",
       "        }    #T_1d1e8506_4e06_11e8_b3ea_c869cdace964row0_col16 {\n",
       "            background-color:  #ffff66;\n",
       "        }    #T_1d1e8506_4e06_11e8_b3ea_c869cdace964row0_col17 {\n",
       "            background-color:  #008066;\n",
       "        }    #T_1d1e8506_4e06_11e8_b3ea_c869cdace964row1_col0 {\n",
       "            background-color:  #008066;\n",
       "        }    #T_1d1e8506_4e06_11e8_b3ea_c869cdace964row1_col1 {\n",
       "            background-color:  #008066;\n",
       "        }    #T_1d1e8506_4e06_11e8_b3ea_c869cdace964row1_col2 {\n",
       "            background-color:  #008066;\n",
       "        }    #T_1d1e8506_4e06_11e8_b3ea_c869cdace964row1_col3 {\n",
       "            background-color:  #ffff66;\n",
       "        }    #T_1d1e8506_4e06_11e8_b3ea_c869cdace964row1_col4 {\n",
       "            background-color:  #008066;\n",
       "        }    #T_1d1e8506_4e06_11e8_b3ea_c869cdace964row1_col5 {\n",
       "            background-color:  #008066;\n",
       "        }    #T_1d1e8506_4e06_11e8_b3ea_c869cdace964row1_col6 {\n",
       "            background-color:  #ffff66;\n",
       "        }    #T_1d1e8506_4e06_11e8_b3ea_c869cdace964row1_col7 {\n",
       "            background-color:  #008066;\n",
       "        }    #T_1d1e8506_4e06_11e8_b3ea_c869cdace964row1_col8 {\n",
       "            background-color:  #008066;\n",
       "        }    #T_1d1e8506_4e06_11e8_b3ea_c869cdace964row1_col9 {\n",
       "            background-color:  #ffff66;\n",
       "        }    #T_1d1e8506_4e06_11e8_b3ea_c869cdace964row1_col10 {\n",
       "            background-color:  #ffff66;\n",
       "        }    #T_1d1e8506_4e06_11e8_b3ea_c869cdace964row1_col11 {\n",
       "            background-color:  #ffff66;\n",
       "        }    #T_1d1e8506_4e06_11e8_b3ea_c869cdace964row1_col12 {\n",
       "            background-color:  #008066;\n",
       "        }    #T_1d1e8506_4e06_11e8_b3ea_c869cdace964row1_col13 {\n",
       "            background-color:  #ffff66;\n",
       "        }    #T_1d1e8506_4e06_11e8_b3ea_c869cdace964row1_col14 {\n",
       "            background-color:  #ffff66;\n",
       "        }    #T_1d1e8506_4e06_11e8_b3ea_c869cdace964row1_col15 {\n",
       "            background-color:  #008066;\n",
       "        }    #T_1d1e8506_4e06_11e8_b3ea_c869cdace964row1_col16 {\n",
       "            background-color:  #008066;\n",
       "        }    #T_1d1e8506_4e06_11e8_b3ea_c869cdace964row1_col17 {\n",
       "            background-color:  #ffff66;\n",
       "        }</style>  \n",
       "<table id=\"T_1d1e8506_4e06_11e8_b3ea_c869cdace964\" > \n",
       "<thead>    <tr> \n",
       "        <th class=\"index_name level0\" >title1</th> \n",
       "        <th class=\"col_heading level0 col0\" >Capt</th> \n",
       "        <th class=\"col_heading level0 col1\" >Col</th> \n",
       "        <th class=\"col_heading level0 col2\" >Don</th> \n",
       "        <th class=\"col_heading level0 col3\" >Dona</th> \n",
       "        <th class=\"col_heading level0 col4\" >Dr</th> \n",
       "        <th class=\"col_heading level0 col5\" >Jonkheer</th> \n",
       "        <th class=\"col_heading level0 col6\" >Lady</th> \n",
       "        <th class=\"col_heading level0 col7\" >Major</th> \n",
       "        <th class=\"col_heading level0 col8\" >Master</th> \n",
       "        <th class=\"col_heading level0 col9\" >Miss</th> \n",
       "        <th class=\"col_heading level0 col10\" >Mlle</th> \n",
       "        <th class=\"col_heading level0 col11\" >Mme</th> \n",
       "        <th class=\"col_heading level0 col12\" >Mr</th> \n",
       "        <th class=\"col_heading level0 col13\" >Mrs</th> \n",
       "        <th class=\"col_heading level0 col14\" >Ms</th> \n",
       "        <th class=\"col_heading level0 col15\" >Rev</th> \n",
       "        <th class=\"col_heading level0 col16\" >Sir</th> \n",
       "        <th class=\"col_heading level0 col17\" >the Countess</th> \n",
       "    </tr>    <tr> \n",
       "        <th class=\"index_name level0\" >sex</th> \n",
       "        <th class=\"blank\" ></th> \n",
       "        <th class=\"blank\" ></th> \n",
       "        <th class=\"blank\" ></th> \n",
       "        <th class=\"blank\" ></th> \n",
       "        <th class=\"blank\" ></th> \n",
       "        <th class=\"blank\" ></th> \n",
       "        <th class=\"blank\" ></th> \n",
       "        <th class=\"blank\" ></th> \n",
       "        <th class=\"blank\" ></th> \n",
       "        <th class=\"blank\" ></th> \n",
       "        <th class=\"blank\" ></th> \n",
       "        <th class=\"blank\" ></th> \n",
       "        <th class=\"blank\" ></th> \n",
       "        <th class=\"blank\" ></th> \n",
       "        <th class=\"blank\" ></th> \n",
       "        <th class=\"blank\" ></th> \n",
       "        <th class=\"blank\" ></th> \n",
       "        <th class=\"blank\" ></th> \n",
       "    </tr></thead> \n",
       "<tbody>    <tr> \n",
       "        <th id=\"T_1d1e8506_4e06_11e8_b3ea_c869cdace964level0_row0\" class=\"row_heading level0 row0\" >female</th> \n",
       "        <td id=\"T_1d1e8506_4e06_11e8_b3ea_c869cdace964row0_col0\" class=\"data row0 col0\" >0</td> \n",
       "        <td id=\"T_1d1e8506_4e06_11e8_b3ea_c869cdace964row0_col1\" class=\"data row0 col1\" >0</td> \n",
       "        <td id=\"T_1d1e8506_4e06_11e8_b3ea_c869cdace964row0_col2\" class=\"data row0 col2\" >0</td> \n",
       "        <td id=\"T_1d1e8506_4e06_11e8_b3ea_c869cdace964row0_col3\" class=\"data row0 col3\" >1</td> \n",
       "        <td id=\"T_1d1e8506_4e06_11e8_b3ea_c869cdace964row0_col4\" class=\"data row0 col4\" >1</td> \n",
       "        <td id=\"T_1d1e8506_4e06_11e8_b3ea_c869cdace964row0_col5\" class=\"data row0 col5\" >0</td> \n",
       "        <td id=\"T_1d1e8506_4e06_11e8_b3ea_c869cdace964row0_col6\" class=\"data row0 col6\" >1</td> \n",
       "        <td id=\"T_1d1e8506_4e06_11e8_b3ea_c869cdace964row0_col7\" class=\"data row0 col7\" >0</td> \n",
       "        <td id=\"T_1d1e8506_4e06_11e8_b3ea_c869cdace964row0_col8\" class=\"data row0 col8\" >0</td> \n",
       "        <td id=\"T_1d1e8506_4e06_11e8_b3ea_c869cdace964row0_col9\" class=\"data row0 col9\" >260</td> \n",
       "        <td id=\"T_1d1e8506_4e06_11e8_b3ea_c869cdace964row0_col10\" class=\"data row0 col10\" >2</td> \n",
       "        <td id=\"T_1d1e8506_4e06_11e8_b3ea_c869cdace964row0_col11\" class=\"data row0 col11\" >1</td> \n",
       "        <td id=\"T_1d1e8506_4e06_11e8_b3ea_c869cdace964row0_col12\" class=\"data row0 col12\" >0</td> \n",
       "        <td id=\"T_1d1e8506_4e06_11e8_b3ea_c869cdace964row0_col13\" class=\"data row0 col13\" >197</td> \n",
       "        <td id=\"T_1d1e8506_4e06_11e8_b3ea_c869cdace964row0_col14\" class=\"data row0 col14\" >2</td> \n",
       "        <td id=\"T_1d1e8506_4e06_11e8_b3ea_c869cdace964row0_col15\" class=\"data row0 col15\" >0</td> \n",
       "        <td id=\"T_1d1e8506_4e06_11e8_b3ea_c869cdace964row0_col16\" class=\"data row0 col16\" >0</td> \n",
       "        <td id=\"T_1d1e8506_4e06_11e8_b3ea_c869cdace964row0_col17\" class=\"data row0 col17\" >1</td> \n",
       "    </tr>    <tr> \n",
       "        <th id=\"T_1d1e8506_4e06_11e8_b3ea_c869cdace964level0_row1\" class=\"row_heading level0 row1\" >male</th> \n",
       "        <td id=\"T_1d1e8506_4e06_11e8_b3ea_c869cdace964row1_col0\" class=\"data row1 col0\" >1</td> \n",
       "        <td id=\"T_1d1e8506_4e06_11e8_b3ea_c869cdace964row1_col1\" class=\"data row1 col1\" >4</td> \n",
       "        <td id=\"T_1d1e8506_4e06_11e8_b3ea_c869cdace964row1_col2\" class=\"data row1 col2\" >1</td> \n",
       "        <td id=\"T_1d1e8506_4e06_11e8_b3ea_c869cdace964row1_col3\" class=\"data row1 col3\" >0</td> \n",
       "        <td id=\"T_1d1e8506_4e06_11e8_b3ea_c869cdace964row1_col4\" class=\"data row1 col4\" >7</td> \n",
       "        <td id=\"T_1d1e8506_4e06_11e8_b3ea_c869cdace964row1_col5\" class=\"data row1 col5\" >1</td> \n",
       "        <td id=\"T_1d1e8506_4e06_11e8_b3ea_c869cdace964row1_col6\" class=\"data row1 col6\" >0</td> \n",
       "        <td id=\"T_1d1e8506_4e06_11e8_b3ea_c869cdace964row1_col7\" class=\"data row1 col7\" >2</td> \n",
       "        <td id=\"T_1d1e8506_4e06_11e8_b3ea_c869cdace964row1_col8\" class=\"data row1 col8\" >61</td> \n",
       "        <td id=\"T_1d1e8506_4e06_11e8_b3ea_c869cdace964row1_col9\" class=\"data row1 col9\" >0</td> \n",
       "        <td id=\"T_1d1e8506_4e06_11e8_b3ea_c869cdace964row1_col10\" class=\"data row1 col10\" >0</td> \n",
       "        <td id=\"T_1d1e8506_4e06_11e8_b3ea_c869cdace964row1_col11\" class=\"data row1 col11\" >0</td> \n",
       "        <td id=\"T_1d1e8506_4e06_11e8_b3ea_c869cdace964row1_col12\" class=\"data row1 col12\" >757</td> \n",
       "        <td id=\"T_1d1e8506_4e06_11e8_b3ea_c869cdace964row1_col13\" class=\"data row1 col13\" >0</td> \n",
       "        <td id=\"T_1d1e8506_4e06_11e8_b3ea_c869cdace964row1_col14\" class=\"data row1 col14\" >0</td> \n",
       "        <td id=\"T_1d1e8506_4e06_11e8_b3ea_c869cdace964row1_col15\" class=\"data row1 col15\" >8</td> \n",
       "        <td id=\"T_1d1e8506_4e06_11e8_b3ea_c869cdace964row1_col16\" class=\"data row1 col16\" >1</td> \n",
       "        <td id=\"T_1d1e8506_4e06_11e8_b3ea_c869cdace964row1_col17\" class=\"data row1 col17\" >0</td> \n",
       "    </tr></tbody> \n",
       "</table> "
      ],
      "text/plain": [
       "<pandas.io.formats.style.Styler at 0x1a22004e80>"
      ]
     },
     "execution_count": 608,
     "metadata": {},
     "output_type": "execute_result"
    }
   ],
   "source": [
    "pd.crosstab(data['title1'],data['sex']).T.style.background_gradient(cmap='summer_r')"
   ]
  },
  {
   "cell_type": "code",
   "execution_count": 609,
   "metadata": {},
   "outputs": [
    {
     "data": {
      "text/html": [
       "<style  type=\"text/css\" >\n",
       "    #T_1d4f33e2_4e06_11e8_be05_c869cdace964row0_col0 {\n",
       "            background-color:  #008066;\n",
       "        }    #T_1d4f33e2_4e06_11e8_be05_c869cdace964row0_col1 {\n",
       "            background-color:  #ffff66;\n",
       "        }    #T_1d4f33e2_4e06_11e8_be05_c869cdace964row0_col2 {\n",
       "            background-color:  #008066;\n",
       "        }    #T_1d4f33e2_4e06_11e8_be05_c869cdace964row0_col3 {\n",
       "            background-color:  #ffff66;\n",
       "        }    #T_1d4f33e2_4e06_11e8_be05_c869cdace964row0_col4 {\n",
       "            background-color:  #ffff66;\n",
       "        }    #T_1d4f33e2_4e06_11e8_be05_c869cdace964row0_col5 {\n",
       "            background-color:  #008066;\n",
       "        }    #T_1d4f33e2_4e06_11e8_be05_c869cdace964row0_col6 {\n",
       "            background-color:  #ffff66;\n",
       "        }    #T_1d4f33e2_4e06_11e8_be05_c869cdace964row0_col7 {\n",
       "            background-color:  #ffff66;\n",
       "        }    #T_1d4f33e2_4e06_11e8_be05_c869cdace964row0_col8 {\n",
       "            background-color:  #ffff66;\n",
       "        }    #T_1d4f33e2_4e06_11e8_be05_c869cdace964row0_col9 {\n",
       "            background-color:  #ffff66;\n",
       "        }    #T_1d4f33e2_4e06_11e8_be05_c869cdace964row0_col10 {\n",
       "            background-color:  #ffff66;\n",
       "        }    #T_1d4f33e2_4e06_11e8_be05_c869cdace964row0_col11 {\n",
       "            background-color:  #ffff66;\n",
       "        }    #T_1d4f33e2_4e06_11e8_be05_c869cdace964row0_col12 {\n",
       "            background-color:  #008066;\n",
       "        }    #T_1d4f33e2_4e06_11e8_be05_c869cdace964row0_col13 {\n",
       "            background-color:  #ffff66;\n",
       "        }    #T_1d4f33e2_4e06_11e8_be05_c869cdace964row0_col14 {\n",
       "            background-color:  #ffff66;\n",
       "        }    #T_1d4f33e2_4e06_11e8_be05_c869cdace964row0_col15 {\n",
       "            background-color:  #008066;\n",
       "        }    #T_1d4f33e2_4e06_11e8_be05_c869cdace964row0_col16 {\n",
       "            background-color:  #ffff66;\n",
       "        }    #T_1d4f33e2_4e06_11e8_be05_c869cdace964row0_col17 {\n",
       "            background-color:  #ffff66;\n",
       "        }    #T_1d4f33e2_4e06_11e8_be05_c869cdace964row1_col0 {\n",
       "            background-color:  #ffff66;\n",
       "        }    #T_1d4f33e2_4e06_11e8_be05_c869cdace964row1_col1 {\n",
       "            background-color:  #ffff66;\n",
       "        }    #T_1d4f33e2_4e06_11e8_be05_c869cdace964row1_col2 {\n",
       "            background-color:  #ffff66;\n",
       "        }    #T_1d4f33e2_4e06_11e8_be05_c869cdace964row1_col3 {\n",
       "            background-color:  #008066;\n",
       "        }    #T_1d4f33e2_4e06_11e8_be05_c869cdace964row1_col4 {\n",
       "            background-color:  #ffff66;\n",
       "        }    #T_1d4f33e2_4e06_11e8_be05_c869cdace964row1_col5 {\n",
       "            background-color:  #ffff66;\n",
       "        }    #T_1d4f33e2_4e06_11e8_be05_c869cdace964row1_col6 {\n",
       "            background-color:  #008066;\n",
       "        }    #T_1d4f33e2_4e06_11e8_be05_c869cdace964row1_col7 {\n",
       "            background-color:  #ffff66;\n",
       "        }    #T_1d4f33e2_4e06_11e8_be05_c869cdace964row1_col8 {\n",
       "            background-color:  #008066;\n",
       "        }    #T_1d4f33e2_4e06_11e8_be05_c869cdace964row1_col9 {\n",
       "            background-color:  #008066;\n",
       "        }    #T_1d4f33e2_4e06_11e8_be05_c869cdace964row1_col10 {\n",
       "            background-color:  #008066;\n",
       "        }    #T_1d4f33e2_4e06_11e8_be05_c869cdace964row1_col11 {\n",
       "            background-color:  #008066;\n",
       "        }    #T_1d4f33e2_4e06_11e8_be05_c869cdace964row1_col12 {\n",
       "            background-color:  #ffff66;\n",
       "        }    #T_1d4f33e2_4e06_11e8_be05_c869cdace964row1_col13 {\n",
       "            background-color:  #008066;\n",
       "        }    #T_1d4f33e2_4e06_11e8_be05_c869cdace964row1_col14 {\n",
       "            background-color:  #008066;\n",
       "        }    #T_1d4f33e2_4e06_11e8_be05_c869cdace964row1_col15 {\n",
       "            background-color:  #ffff66;\n",
       "        }    #T_1d4f33e2_4e06_11e8_be05_c869cdace964row1_col16 {\n",
       "            background-color:  #008066;\n",
       "        }    #T_1d4f33e2_4e06_11e8_be05_c869cdace964row1_col17 {\n",
       "            background-color:  #008066;\n",
       "        }</style>  \n",
       "<table id=\"T_1d4f33e2_4e06_11e8_be05_c869cdace964\" > \n",
       "<thead>    <tr> \n",
       "        <th class=\"index_name level0\" >title1</th> \n",
       "        <th class=\"col_heading level0 col0\" >Capt</th> \n",
       "        <th class=\"col_heading level0 col1\" >Col</th> \n",
       "        <th class=\"col_heading level0 col2\" >Don</th> \n",
       "        <th class=\"col_heading level0 col3\" >Dona</th> \n",
       "        <th class=\"col_heading level0 col4\" >Dr</th> \n",
       "        <th class=\"col_heading level0 col5\" >Jonkheer</th> \n",
       "        <th class=\"col_heading level0 col6\" >Lady</th> \n",
       "        <th class=\"col_heading level0 col7\" >Major</th> \n",
       "        <th class=\"col_heading level0 col8\" >Master</th> \n",
       "        <th class=\"col_heading level0 col9\" >Miss</th> \n",
       "        <th class=\"col_heading level0 col10\" >Mlle</th> \n",
       "        <th class=\"col_heading level0 col11\" >Mme</th> \n",
       "        <th class=\"col_heading level0 col12\" >Mr</th> \n",
       "        <th class=\"col_heading level0 col13\" >Mrs</th> \n",
       "        <th class=\"col_heading level0 col14\" >Ms</th> \n",
       "        <th class=\"col_heading level0 col15\" >Rev</th> \n",
       "        <th class=\"col_heading level0 col16\" >Sir</th> \n",
       "        <th class=\"col_heading level0 col17\" >the Countess</th> \n",
       "    </tr>    <tr> \n",
       "        <th class=\"index_name level0\" >survived</th> \n",
       "        <th class=\"blank\" ></th> \n",
       "        <th class=\"blank\" ></th> \n",
       "        <th class=\"blank\" ></th> \n",
       "        <th class=\"blank\" ></th> \n",
       "        <th class=\"blank\" ></th> \n",
       "        <th class=\"blank\" ></th> \n",
       "        <th class=\"blank\" ></th> \n",
       "        <th class=\"blank\" ></th> \n",
       "        <th class=\"blank\" ></th> \n",
       "        <th class=\"blank\" ></th> \n",
       "        <th class=\"blank\" ></th> \n",
       "        <th class=\"blank\" ></th> \n",
       "        <th class=\"blank\" ></th> \n",
       "        <th class=\"blank\" ></th> \n",
       "        <th class=\"blank\" ></th> \n",
       "        <th class=\"blank\" ></th> \n",
       "        <th class=\"blank\" ></th> \n",
       "        <th class=\"blank\" ></th> \n",
       "    </tr></thead> \n",
       "<tbody>    <tr> \n",
       "        <th id=\"T_1d4f33e2_4e06_11e8_be05_c869cdace964level0_row0\" class=\"row_heading level0 row0\" >0.0</th> \n",
       "        <td id=\"T_1d4f33e2_4e06_11e8_be05_c869cdace964row0_col0\" class=\"data row0 col0\" >1</td> \n",
       "        <td id=\"T_1d4f33e2_4e06_11e8_be05_c869cdace964row0_col1\" class=\"data row0 col1\" >2</td> \n",
       "        <td id=\"T_1d4f33e2_4e06_11e8_be05_c869cdace964row0_col2\" class=\"data row0 col2\" >1</td> \n",
       "        <td id=\"T_1d4f33e2_4e06_11e8_be05_c869cdace964row0_col3\" class=\"data row0 col3\" >0</td> \n",
       "        <td id=\"T_1d4f33e2_4e06_11e8_be05_c869cdace964row0_col4\" class=\"data row0 col4\" >4</td> \n",
       "        <td id=\"T_1d4f33e2_4e06_11e8_be05_c869cdace964row0_col5\" class=\"data row0 col5\" >1</td> \n",
       "        <td id=\"T_1d4f33e2_4e06_11e8_be05_c869cdace964row0_col6\" class=\"data row0 col6\" >0</td> \n",
       "        <td id=\"T_1d4f33e2_4e06_11e8_be05_c869cdace964row0_col7\" class=\"data row0 col7\" >1</td> \n",
       "        <td id=\"T_1d4f33e2_4e06_11e8_be05_c869cdace964row0_col8\" class=\"data row0 col8\" >13</td> \n",
       "        <td id=\"T_1d4f33e2_4e06_11e8_be05_c869cdace964row0_col9\" class=\"data row0 col9\" >54</td> \n",
       "        <td id=\"T_1d4f33e2_4e06_11e8_be05_c869cdace964row0_col10\" class=\"data row0 col10\" >0</td> \n",
       "        <td id=\"T_1d4f33e2_4e06_11e8_be05_c869cdace964row0_col11\" class=\"data row0 col11\" >0</td> \n",
       "        <td id=\"T_1d4f33e2_4e06_11e8_be05_c869cdace964row0_col12\" class=\"data row0 col12\" >465</td> \n",
       "        <td id=\"T_1d4f33e2_4e06_11e8_be05_c869cdace964row0_col13\" class=\"data row0 col13\" >27</td> \n",
       "        <td id=\"T_1d4f33e2_4e06_11e8_be05_c869cdace964row0_col14\" class=\"data row0 col14\" >0</td> \n",
       "        <td id=\"T_1d4f33e2_4e06_11e8_be05_c869cdace964row0_col15\" class=\"data row0 col15\" >8</td> \n",
       "        <td id=\"T_1d4f33e2_4e06_11e8_be05_c869cdace964row0_col16\" class=\"data row0 col16\" >0</td> \n",
       "        <td id=\"T_1d4f33e2_4e06_11e8_be05_c869cdace964row0_col17\" class=\"data row0 col17\" >0</td> \n",
       "    </tr>    <tr> \n",
       "        <th id=\"T_1d4f33e2_4e06_11e8_be05_c869cdace964level0_row1\" class=\"row_heading level0 row1\" >1.0</th> \n",
       "        <td id=\"T_1d4f33e2_4e06_11e8_be05_c869cdace964row1_col0\" class=\"data row1 col0\" >0</td> \n",
       "        <td id=\"T_1d4f33e2_4e06_11e8_be05_c869cdace964row1_col1\" class=\"data row1 col1\" >2</td> \n",
       "        <td id=\"T_1d4f33e2_4e06_11e8_be05_c869cdace964row1_col2\" class=\"data row1 col2\" >0</td> \n",
       "        <td id=\"T_1d4f33e2_4e06_11e8_be05_c869cdace964row1_col3\" class=\"data row1 col3\" >1</td> \n",
       "        <td id=\"T_1d4f33e2_4e06_11e8_be05_c869cdace964row1_col4\" class=\"data row1 col4\" >4</td> \n",
       "        <td id=\"T_1d4f33e2_4e06_11e8_be05_c869cdace964row1_col5\" class=\"data row1 col5\" >0</td> \n",
       "        <td id=\"T_1d4f33e2_4e06_11e8_be05_c869cdace964row1_col6\" class=\"data row1 col6\" >1</td> \n",
       "        <td id=\"T_1d4f33e2_4e06_11e8_be05_c869cdace964row1_col7\" class=\"data row1 col7\" >1</td> \n",
       "        <td id=\"T_1d4f33e2_4e06_11e8_be05_c869cdace964row1_col8\" class=\"data row1 col8\" >23</td> \n",
       "        <td id=\"T_1d4f33e2_4e06_11e8_be05_c869cdace964row1_col9\" class=\"data row1 col9\" >142</td> \n",
       "        <td id=\"T_1d4f33e2_4e06_11e8_be05_c869cdace964row1_col10\" class=\"data row1 col10\" >2</td> \n",
       "        <td id=\"T_1d4f33e2_4e06_11e8_be05_c869cdace964row1_col11\" class=\"data row1 col11\" >1</td> \n",
       "        <td id=\"T_1d4f33e2_4e06_11e8_be05_c869cdace964row1_col12\" class=\"data row1 col12\" >103</td> \n",
       "        <td id=\"T_1d4f33e2_4e06_11e8_be05_c869cdace964row1_col13\" class=\"data row1 col13\" >140</td> \n",
       "        <td id=\"T_1d4f33e2_4e06_11e8_be05_c869cdace964row1_col14\" class=\"data row1 col14\" >1</td> \n",
       "        <td id=\"T_1d4f33e2_4e06_11e8_be05_c869cdace964row1_col15\" class=\"data row1 col15\" >0</td> \n",
       "        <td id=\"T_1d4f33e2_4e06_11e8_be05_c869cdace964row1_col16\" class=\"data row1 col16\" >1</td> \n",
       "        <td id=\"T_1d4f33e2_4e06_11e8_be05_c869cdace964row1_col17\" class=\"data row1 col17\" >1</td> \n",
       "    </tr></tbody> \n",
       "</table> "
      ],
      "text/plain": [
       "<pandas.io.formats.style.Styler at 0x1a229034a8>"
      ]
     },
     "execution_count": 609,
     "metadata": {},
     "output_type": "execute_result"
    }
   ],
   "source": [
    "pd.crosstab(data['title1'],data['survived']).T.style.background_gradient(cmap='summer_r')"
   ]
  },
  {
   "cell_type": "code",
   "execution_count": 610,
   "metadata": {},
   "outputs": [
    {
     "data": {
      "text/plain": [
       "title1\n",
       "Capt            70.000000\n",
       "Col             54.000000\n",
       "Don             40.000000\n",
       "Dona            39.000000\n",
       "Dr              43.571429\n",
       "Jonkheer        38.000000\n",
       "Lady            48.000000\n",
       "Major           48.500000\n",
       "Master           5.482704\n",
       "Miss            21.774207\n",
       "Mlle            24.000000\n",
       "Mme             24.000000\n",
       "Mr              32.252151\n",
       "Mrs             36.994118\n",
       "Ms              28.000000\n",
       "Rev             41.250000\n",
       "Sir             49.000000\n",
       "the Countess    33.000000\n",
       "Name: age, dtype: float64"
      ]
     },
     "execution_count": 610,
     "metadata": {},
     "output_type": "execute_result"
    }
   ],
   "source": [
    "data.groupby(['title1'])['age'].mean()"
   ]
  },
  {
   "cell_type": "markdown",
   "metadata": {},
   "source": [
    "發現master的平均年齡小，且多是男性"
   ]
  },
  {
   "cell_type": "code",
   "execution_count": 611,
   "metadata": {},
   "outputs": [
    {
     "data": {
      "text/html": [
       "<div>\n",
       "<style>\n",
       "    .dataframe thead tr:only-child th {\n",
       "        text-align: right;\n",
       "    }\n",
       "\n",
       "    .dataframe thead th {\n",
       "        text-align: left;\n",
       "    }\n",
       "\n",
       "    .dataframe tbody tr th {\n",
       "        vertical-align: top;\n",
       "    }\n",
       "</style>\n",
       "<table border=\"1\" class=\"dataframe\">\n",
       "  <thead>\n",
       "    <tr style=\"text-align: right;\">\n",
       "      <th></th>\n",
       "      <th>pclass</th>\n",
       "      <th>survived</th>\n",
       "      <th>name</th>\n",
       "      <th>sex</th>\n",
       "      <th>age</th>\n",
       "      <th>sibsp</th>\n",
       "      <th>parch</th>\n",
       "      <th>ticket</th>\n",
       "      <th>fare</th>\n",
       "      <th>cabin</th>\n",
       "      <th>embarked</th>\n",
       "      <th>boat</th>\n",
       "      <th>body</th>\n",
       "      <th>home.dest</th>\n",
       "      <th>family_size</th>\n",
       "      <th>title1</th>\n",
       "    </tr>\n",
       "  </thead>\n",
       "  <tbody>\n",
       "    <tr>\n",
       "      <th>0</th>\n",
       "      <td>1</td>\n",
       "      <td>1.0</td>\n",
       "      <td>Allen, Miss. Elisabeth Walton</td>\n",
       "      <td>female</td>\n",
       "      <td>29.0000</td>\n",
       "      <td>0</td>\n",
       "      <td>0</td>\n",
       "      <td>24160</td>\n",
       "      <td>211.3375</td>\n",
       "      <td>B5</td>\n",
       "      <td>S</td>\n",
       "      <td>2</td>\n",
       "      <td>NaN</td>\n",
       "      <td>St Louis, MO</td>\n",
       "      <td>0</td>\n",
       "      <td>Miss</td>\n",
       "    </tr>\n",
       "    <tr>\n",
       "      <th>1</th>\n",
       "      <td>1</td>\n",
       "      <td>1.0</td>\n",
       "      <td>Allison, Master. Hudson Trevor</td>\n",
       "      <td>male</td>\n",
       "      <td>0.9167</td>\n",
       "      <td>1</td>\n",
       "      <td>2</td>\n",
       "      <td>113781</td>\n",
       "      <td>151.5500</td>\n",
       "      <td>C22 C26</td>\n",
       "      <td>S</td>\n",
       "      <td>11</td>\n",
       "      <td>NaN</td>\n",
       "      <td>Montreal, PQ / Chesterville, ON</td>\n",
       "      <td>3</td>\n",
       "      <td>Master</td>\n",
       "    </tr>\n",
       "    <tr>\n",
       "      <th>2</th>\n",
       "      <td>1</td>\n",
       "      <td>0.0</td>\n",
       "      <td>Allison, Miss. Helen Loraine</td>\n",
       "      <td>female</td>\n",
       "      <td>2.0000</td>\n",
       "      <td>1</td>\n",
       "      <td>2</td>\n",
       "      <td>113781</td>\n",
       "      <td>151.5500</td>\n",
       "      <td>C22 C26</td>\n",
       "      <td>S</td>\n",
       "      <td>NaN</td>\n",
       "      <td>NaN</td>\n",
       "      <td>Montreal, PQ / Chesterville, ON</td>\n",
       "      <td>3</td>\n",
       "      <td>Miss</td>\n",
       "    </tr>\n",
       "    <tr>\n",
       "      <th>3</th>\n",
       "      <td>1</td>\n",
       "      <td>0.0</td>\n",
       "      <td>Allison, Mr. Hudson Joshua Creighton</td>\n",
       "      <td>male</td>\n",
       "      <td>30.0000</td>\n",
       "      <td>1</td>\n",
       "      <td>2</td>\n",
       "      <td>113781</td>\n",
       "      <td>151.5500</td>\n",
       "      <td>C22 C26</td>\n",
       "      <td>S</td>\n",
       "      <td>NaN</td>\n",
       "      <td>135.0</td>\n",
       "      <td>Montreal, PQ / Chesterville, ON</td>\n",
       "      <td>3</td>\n",
       "      <td>Mr</td>\n",
       "    </tr>\n",
       "    <tr>\n",
       "      <th>4</th>\n",
       "      <td>1</td>\n",
       "      <td>0.0</td>\n",
       "      <td>Allison, Mrs. Hudson J C (Bessie Waldo Daniels)</td>\n",
       "      <td>female</td>\n",
       "      <td>25.0000</td>\n",
       "      <td>1</td>\n",
       "      <td>2</td>\n",
       "      <td>113781</td>\n",
       "      <td>151.5500</td>\n",
       "      <td>C22 C26</td>\n",
       "      <td>S</td>\n",
       "      <td>NaN</td>\n",
       "      <td>NaN</td>\n",
       "      <td>Montreal, PQ / Chesterville, ON</td>\n",
       "      <td>3</td>\n",
       "      <td>Mrs</td>\n",
       "    </tr>\n",
       "  </tbody>\n",
       "</table>\n",
       "</div>"
      ],
      "text/plain": [
       "   pclass  survived                                             name     sex  \\\n",
       "0       1       1.0                    Allen, Miss. Elisabeth Walton  female   \n",
       "1       1       1.0                   Allison, Master. Hudson Trevor    male   \n",
       "2       1       0.0                     Allison, Miss. Helen Loraine  female   \n",
       "3       1       0.0             Allison, Mr. Hudson Joshua Creighton    male   \n",
       "4       1       0.0  Allison, Mrs. Hudson J C (Bessie Waldo Daniels)  female   \n",
       "\n",
       "       age  sibsp  parch  ticket      fare    cabin embarked boat   body  \\\n",
       "0  29.0000      0      0   24160  211.3375       B5        S    2    NaN   \n",
       "1   0.9167      1      2  113781  151.5500  C22 C26        S   11    NaN   \n",
       "2   2.0000      1      2  113781  151.5500  C22 C26        S  NaN    NaN   \n",
       "3  30.0000      1      2  113781  151.5500  C22 C26        S  NaN  135.0   \n",
       "4  25.0000      1      2  113781  151.5500  C22 C26        S  NaN    NaN   \n",
       "\n",
       "                         home.dest  family_size  title1  \n",
       "0                     St Louis, MO            0    Miss  \n",
       "1  Montreal, PQ / Chesterville, ON            3  Master  \n",
       "2  Montreal, PQ / Chesterville, ON            3    Miss  \n",
       "3  Montreal, PQ / Chesterville, ON            3      Mr  \n",
       "4  Montreal, PQ / Chesterville, ON            3     Mrs  "
      ]
     },
     "execution_count": 611,
     "metadata": {},
     "output_type": "execute_result"
    }
   ],
   "source": [
    "data.head()"
   ]
  },
  {
   "cell_type": "markdown",
   "metadata": {},
   "source": [
    "## 數據清洗"
   ]
  },
  {
   "cell_type": "markdown",
   "metadata": {},
   "source": [
    "1.Age欄位"
   ]
  },
  {
   "cell_type": "markdown",
   "metadata": {},
   "source": [
    "根據不同開頭名稱來填補age的缺失值"
   ]
  },
  {
   "cell_type": "code",
   "execution_count": 612,
   "metadata": {},
   "outputs": [
    {
     "name": "stdout",
     "output_type": "stream",
     "text": [
      "Mr\\. –> 568 males, Age average is 33.0, median is 30.0,  103 survived, 465 died. 18.1% survived\n",
      "Sir\\. –> 1 males, Age average is 49.0, median is 49.0,  1 survived, 0 died. 100.0% survived\n",
      "Dr\\. –> 8 males, Age average is 43.6, median is 49.0,  4 survived, 4 died. 50.0% survived\n",
      "Major\\. –> 2 males, Age average is 48.5, median is 48.5,  1 survived, 1 died. 50.0% survived\n",
      "Master\\. –> 36 males, Age average is 5.0, median is 4.0,  23 survived, 13 died. 63.9% survived\n"
     ]
    }
   ],
   "source": [
    "for title in [\"Mr\\.\", \"Sir\\.\", \"Dr\\.\", \"Major\\.\", \"Master\\.\"]:\n",
    "\n",
    "    num = train[(train['name'].str.contains(title))]['name'].count()\n",
    "\n",
    "    age_mean = round(train[(train['name'].str.contains(title))]['age'].mean(),1)\n",
    "\n",
    "    age_median = train[(train['name'].str.contains(title))]['age'].median()\n",
    "\n",
    "    num_survived = train[(train['survived']==1) & (train['name'].str.contains(title))]['name'].count()\n",
    "\n",
    "    num_died = train[(train['survived']==0) & (train['name'].str.contains(title))]['name'].count()\n",
    "\n",
    "    num_total = num_survived+num_died\n",
    "\n",
    "    print(\"{} –> {} males, Age average is {}, median is {},  {} survived, {} died. {}% survived\"\n",
    "\n",
    "          .format(title, num, age_mean, age_median, num_survived, num_died, round(num_survived*100/num_total, 1)))"
   ]
  },
  {
   "cell_type": "code",
   "execution_count": 613,
   "metadata": {},
   "outputs": [
    {
     "name": "stdout",
     "output_type": "stream",
     "text": [
      "Ms\\. –> 1 females, Age average is 28.0, median is 28.0,  1 survived, 0 died. 100.0% survived\n",
      "Miss\\. –> 196 females, Age average is 23.0, median is 22.0,  142 survived, 54 died. 72.4% survived\n",
      "Mrs\\. –> 167 females, Age average is 37.6, median is 36.0,  140 survived, 27 died. 83.8% survived\n",
      "Lady\\. –> 1 females, Age average is 48.0, median is 48.0,  1 survived, 0 died. 100.0% survived\n"
     ]
    }
   ],
   "source": [
    "for title in [\"Ms\\.\", \"Miss\\.\", \"Mrs\\.\", \"Lady\\.\"]:\n",
    "\n",
    "    num = train[(train['name'].str.contains(title))][\"name\"].count()\n",
    "\n",
    "    age_mean = round(train[(train['name'].str.contains(title))]['age'].mean(), 1)\n",
    "\n",
    "    age_median = train[(train['name'].str.contains(title))]['age'].median()\n",
    "\n",
    "    num_survived = train[(train['survived']==1) & (train['name'].str.contains(title))]['name'].count()\n",
    "\n",
    "    num_died = train[(train['survived']==0) & (train['name'].str.contains(title))]['name'].count()\n",
    "\n",
    "    num_total = num_survived+num_died\n",
    "    print(\"{} –> {} females, Age average is {}, median is {},  {} survived, {} died. {}% survived\"\n",
    "\n",
    "          .format(title, num, age_mean, age_median, num_survived, num_died, round(num_survived*100/num_total, 1)))"
   ]
  },
  {
   "cell_type": "markdown",
   "metadata": {},
   "source": [
    "將缺age資料的Miss.、Ms.、Mrs.，以中位數取代。"
   ]
  },
  {
   "cell_type": "code",
   "execution_count": 614,
   "metadata": {},
   "outputs": [],
   "source": [
    "mask =  (data[\"age\"].isnull()) & ( (data['name'].str.contains(\"Ms.\")) | (data['name'].str.contains(\"Miss.\")) )\n",
    "\n",
    "mask2 = ( (data['name'].str.contains(\"Ms.\")) | (data['name'].str.contains(\"Miss.\")) )\n",
    "\n",
    "data.loc[mask,'age'] = data.loc[mask,'age'].fillna(data.loc[mask2,'age'].median())"
   ]
  },
  {
   "cell_type": "markdown",
   "metadata": {},
   "source": [
    "再將缺age資料的Mr.、Major、Sir，以中位數取代"
   ]
  },
  {
   "cell_type": "code",
   "execution_count": 615,
   "metadata": {},
   "outputs": [],
   "source": [
    "mask =  (data[\"age\"].isnull()) & ( (data['name'].str.contains(\"Mr.\")) | (data['name'].str.contains(\"Sir.\")) | (data['name'].str.contains(\"Major\")) )\n",
    "\n",
    "mask2 =  ( (data['name'].str.contains(\"Mr.\")) | (data['name'].str.contains(\"Sir.\")) | (data['name'].str.contains(\"Major\")) )\n",
    "\n",
    "data.loc[mask,'age'] = data.loc[mask,'age'].fillna(data.loc[mask2,'age'].median())"
   ]
  },
  {
   "cell_type": "markdown",
   "metadata": {},
   "source": [
    "再看看還有哪些年齡有缺失值"
   ]
  },
  {
   "cell_type": "code",
   "execution_count": 616,
   "metadata": {},
   "outputs": [
    {
     "data": {
      "text/html": [
       "<div>\n",
       "<style>\n",
       "    .dataframe thead tr:only-child th {\n",
       "        text-align: right;\n",
       "    }\n",
       "\n",
       "    .dataframe thead th {\n",
       "        text-align: left;\n",
       "    }\n",
       "\n",
       "    .dataframe tbody tr th {\n",
       "        vertical-align: top;\n",
       "    }\n",
       "</style>\n",
       "<table border=\"1\" class=\"dataframe\">\n",
       "  <thead>\n",
       "    <tr style=\"text-align: right;\">\n",
       "      <th></th>\n",
       "      <th>pclass</th>\n",
       "      <th>survived</th>\n",
       "      <th>name</th>\n",
       "      <th>sex</th>\n",
       "      <th>age</th>\n",
       "      <th>sibsp</th>\n",
       "      <th>parch</th>\n",
       "      <th>ticket</th>\n",
       "      <th>fare</th>\n",
       "      <th>cabin</th>\n",
       "      <th>embarked</th>\n",
       "      <th>boat</th>\n",
       "      <th>body</th>\n",
       "      <th>home.dest</th>\n",
       "      <th>family_size</th>\n",
       "      <th>title1</th>\n",
       "    </tr>\n",
       "  </thead>\n",
       "  <tbody>\n",
       "    <tr>\n",
       "      <th>40</th>\n",
       "      <td>1</td>\n",
       "      <td>0.0</td>\n",
       "      <td>Brewe, Dr. Arthur Jackson</td>\n",
       "      <td>male</td>\n",
       "      <td>NaN</td>\n",
       "      <td>0</td>\n",
       "      <td>0</td>\n",
       "      <td>112379</td>\n",
       "      <td>39.6000</td>\n",
       "      <td>NaN</td>\n",
       "      <td>C</td>\n",
       "      <td>NaN</td>\n",
       "      <td>NaN</td>\n",
       "      <td>Philadelphia, PA</td>\n",
       "      <td>0</td>\n",
       "      <td>Dr</td>\n",
       "    </tr>\n",
       "    <tr>\n",
       "      <th>672</th>\n",
       "      <td>3</td>\n",
       "      <td>0.0</td>\n",
       "      <td>Betros, Master. Seman</td>\n",
       "      <td>male</td>\n",
       "      <td>NaN</td>\n",
       "      <td>0</td>\n",
       "      <td>0</td>\n",
       "      <td>2622</td>\n",
       "      <td>7.2292</td>\n",
       "      <td>NaN</td>\n",
       "      <td>C</td>\n",
       "      <td>NaN</td>\n",
       "      <td>NaN</td>\n",
       "      <td>NaN</td>\n",
       "      <td>0</td>\n",
       "      <td>Master</td>\n",
       "    </tr>\n",
       "    <tr>\n",
       "      <th>900</th>\n",
       "      <td>3</td>\n",
       "      <td>0.0</td>\n",
       "      <td>Johnston, Master. William Arthur \"Willie\"</td>\n",
       "      <td>male</td>\n",
       "      <td>NaN</td>\n",
       "      <td>1</td>\n",
       "      <td>2</td>\n",
       "      <td>W./C. 6607</td>\n",
       "      <td>23.4500</td>\n",
       "      <td>NaN</td>\n",
       "      <td>S</td>\n",
       "      <td>NaN</td>\n",
       "      <td>NaN</td>\n",
       "      <td>NaN</td>\n",
       "      <td>3</td>\n",
       "      <td>Master</td>\n",
       "    </tr>\n",
       "    <tr>\n",
       "      <th>954</th>\n",
       "      <td>3</td>\n",
       "      <td>0.0</td>\n",
       "      <td>Lefebre, Master. Henry Forbes</td>\n",
       "      <td>male</td>\n",
       "      <td>NaN</td>\n",
       "      <td>3</td>\n",
       "      <td>1</td>\n",
       "      <td>4133</td>\n",
       "      <td>25.4667</td>\n",
       "      <td>NaN</td>\n",
       "      <td>S</td>\n",
       "      <td>NaN</td>\n",
       "      <td>NaN</td>\n",
       "      <td>NaN</td>\n",
       "      <td>4</td>\n",
       "      <td>Master</td>\n",
       "    </tr>\n",
       "    <tr>\n",
       "      <th>1034</th>\n",
       "      <td>3</td>\n",
       "      <td>NaN</td>\n",
       "      <td>Moubarek, Master. Gerios</td>\n",
       "      <td>male</td>\n",
       "      <td>NaN</td>\n",
       "      <td>1</td>\n",
       "      <td>1</td>\n",
       "      <td>2661</td>\n",
       "      <td>15.2458</td>\n",
       "      <td>NaN</td>\n",
       "      <td>C</td>\n",
       "      <td>C</td>\n",
       "      <td>NaN</td>\n",
       "      <td>NaN</td>\n",
       "      <td>2</td>\n",
       "      <td>Master</td>\n",
       "    </tr>\n",
       "    <tr>\n",
       "      <th>1035</th>\n",
       "      <td>3</td>\n",
       "      <td>NaN</td>\n",
       "      <td>Moubarek, Master. Halim Gonios (\"William George\")</td>\n",
       "      <td>male</td>\n",
       "      <td>NaN</td>\n",
       "      <td>1</td>\n",
       "      <td>1</td>\n",
       "      <td>2661</td>\n",
       "      <td>15.2458</td>\n",
       "      <td>NaN</td>\n",
       "      <td>C</td>\n",
       "      <td>C</td>\n",
       "      <td>NaN</td>\n",
       "      <td>NaN</td>\n",
       "      <td>2</td>\n",
       "      <td>Master</td>\n",
       "    </tr>\n",
       "    <tr>\n",
       "      <th>1121</th>\n",
       "      <td>3</td>\n",
       "      <td>NaN</td>\n",
       "      <td>Peter, Master. Michael J</td>\n",
       "      <td>male</td>\n",
       "      <td>NaN</td>\n",
       "      <td>1</td>\n",
       "      <td>1</td>\n",
       "      <td>2668</td>\n",
       "      <td>22.3583</td>\n",
       "      <td>NaN</td>\n",
       "      <td>C</td>\n",
       "      <td>C</td>\n",
       "      <td>NaN</td>\n",
       "      <td>NaN</td>\n",
       "      <td>2</td>\n",
       "      <td>Master</td>\n",
       "    </tr>\n",
       "    <tr>\n",
       "      <th>1170</th>\n",
       "      <td>3</td>\n",
       "      <td>NaN</td>\n",
       "      <td>Sage, Master. Thomas Henry</td>\n",
       "      <td>male</td>\n",
       "      <td>NaN</td>\n",
       "      <td>8</td>\n",
       "      <td>2</td>\n",
       "      <td>CA. 2343</td>\n",
       "      <td>69.5500</td>\n",
       "      <td>NaN</td>\n",
       "      <td>S</td>\n",
       "      <td>NaN</td>\n",
       "      <td>NaN</td>\n",
       "      <td>NaN</td>\n",
       "      <td>10</td>\n",
       "      <td>Master</td>\n",
       "    </tr>\n",
       "    <tr>\n",
       "      <th>1262</th>\n",
       "      <td>3</td>\n",
       "      <td>NaN</td>\n",
       "      <td>van Billiard, Master. James William</td>\n",
       "      <td>male</td>\n",
       "      <td>NaN</td>\n",
       "      <td>1</td>\n",
       "      <td>1</td>\n",
       "      <td>A/5. 851</td>\n",
       "      <td>14.5000</td>\n",
       "      <td>NaN</td>\n",
       "      <td>S</td>\n",
       "      <td>NaN</td>\n",
       "      <td>NaN</td>\n",
       "      <td>NaN</td>\n",
       "      <td>2</td>\n",
       "      <td>Master</td>\n",
       "    </tr>\n",
       "  </tbody>\n",
       "</table>\n",
       "</div>"
      ],
      "text/plain": [
       "      pclass  survived                                               name  \\\n",
       "40         1       0.0                          Brewe, Dr. Arthur Jackson   \n",
       "672        3       0.0                              Betros, Master. Seman   \n",
       "900        3       0.0          Johnston, Master. William Arthur \"Willie\"   \n",
       "954        3       0.0                      Lefebre, Master. Henry Forbes   \n",
       "1034       3       NaN                           Moubarek, Master. Gerios   \n",
       "1035       3       NaN  Moubarek, Master. Halim Gonios (\"William George\")   \n",
       "1121       3       NaN                           Peter, Master. Michael J   \n",
       "1170       3       NaN                         Sage, Master. Thomas Henry   \n",
       "1262       3       NaN                van Billiard, Master. James William   \n",
       "\n",
       "       sex  age  sibsp  parch      ticket     fare cabin embarked boat  body  \\\n",
       "40    male  NaN      0      0      112379  39.6000   NaN        C  NaN   NaN   \n",
       "672   male  NaN      0      0        2622   7.2292   NaN        C  NaN   NaN   \n",
       "900   male  NaN      1      2  W./C. 6607  23.4500   NaN        S  NaN   NaN   \n",
       "954   male  NaN      3      1        4133  25.4667   NaN        S  NaN   NaN   \n",
       "1034  male  NaN      1      1        2661  15.2458   NaN        C    C   NaN   \n",
       "1035  male  NaN      1      1        2661  15.2458   NaN        C    C   NaN   \n",
       "1121  male  NaN      1      1        2668  22.3583   NaN        C    C   NaN   \n",
       "1170  male  NaN      8      2    CA. 2343  69.5500   NaN        S  NaN   NaN   \n",
       "1262  male  NaN      1      1    A/5. 851  14.5000   NaN        S  NaN   NaN   \n",
       "\n",
       "             home.dest  family_size  title1  \n",
       "40    Philadelphia, PA            0      Dr  \n",
       "672                NaN            0  Master  \n",
       "900                NaN            3  Master  \n",
       "954                NaN            4  Master  \n",
       "1034               NaN            2  Master  \n",
       "1035               NaN            2  Master  \n",
       "1121               NaN            2  Master  \n",
       "1170               NaN           10  Master  \n",
       "1262               NaN            2  Master  "
      ]
     },
     "execution_count": 616,
     "metadata": {},
     "output_type": "execute_result"
    }
   ],
   "source": [
    "data[data['age'].isnull()]"
   ]
  },
  {
   "cell_type": "markdown",
   "metadata": {},
   "source": [
    "最後只剩下9位乘客還缺age，他們大多姓名是有master的，再以中位數取代age"
   ]
  },
  {
   "cell_type": "code",
   "execution_count": 617,
   "metadata": {
    "collapsed": true
   },
   "outputs": [],
   "source": [
    "mask =  (data[\"age\"].isnull()) & ( data['name'].str.contains(\"Master.\") )\n",
    "\n",
    "data.loc[mask,'age'] = data.loc[mask,'age'].fillna(data[data['name'].str.contains(\"Master.\")][\"age\"].median())"
   ]
  },
  {
   "cell_type": "code",
   "execution_count": 618,
   "metadata": {},
   "outputs": [
    {
     "data": {
      "text/html": [
       "<div>\n",
       "<style>\n",
       "    .dataframe thead tr:only-child th {\n",
       "        text-align: right;\n",
       "    }\n",
       "\n",
       "    .dataframe thead th {\n",
       "        text-align: left;\n",
       "    }\n",
       "\n",
       "    .dataframe tbody tr th {\n",
       "        vertical-align: top;\n",
       "    }\n",
       "</style>\n",
       "<table border=\"1\" class=\"dataframe\">\n",
       "  <thead>\n",
       "    <tr style=\"text-align: right;\">\n",
       "      <th></th>\n",
       "      <th>pclass</th>\n",
       "      <th>survived</th>\n",
       "      <th>name</th>\n",
       "      <th>sex</th>\n",
       "      <th>age</th>\n",
       "      <th>sibsp</th>\n",
       "      <th>parch</th>\n",
       "      <th>ticket</th>\n",
       "      <th>fare</th>\n",
       "      <th>cabin</th>\n",
       "      <th>embarked</th>\n",
       "      <th>boat</th>\n",
       "      <th>body</th>\n",
       "      <th>home.dest</th>\n",
       "      <th>family_size</th>\n",
       "      <th>title1</th>\n",
       "    </tr>\n",
       "  </thead>\n",
       "  <tbody>\n",
       "    <tr>\n",
       "      <th>40</th>\n",
       "      <td>1</td>\n",
       "      <td>0.0</td>\n",
       "      <td>Brewe, Dr. Arthur Jackson</td>\n",
       "      <td>male</td>\n",
       "      <td>NaN</td>\n",
       "      <td>0</td>\n",
       "      <td>0</td>\n",
       "      <td>112379</td>\n",
       "      <td>39.6</td>\n",
       "      <td>NaN</td>\n",
       "      <td>C</td>\n",
       "      <td>NaN</td>\n",
       "      <td>NaN</td>\n",
       "      <td>Philadelphia, PA</td>\n",
       "      <td>0</td>\n",
       "      <td>Dr</td>\n",
       "    </tr>\n",
       "  </tbody>\n",
       "</table>\n",
       "</div>"
      ],
      "text/plain": [
       "    pclass  survived                       name   sex  age  sibsp  parch  \\\n",
       "40       1       0.0  Brewe, Dr. Arthur Jackson  male  NaN      0      0   \n",
       "\n",
       "    ticket  fare cabin embarked boat  body         home.dest  family_size  \\\n",
       "40  112379  39.6   NaN        C  NaN   NaN  Philadelphia, PA            0   \n",
       "\n",
       "   title1  \n",
       "40     Dr  "
      ]
     },
     "execution_count": 618,
     "metadata": {},
     "output_type": "execute_result"
    }
   ],
   "source": [
    "data[data['age'].isnull()]"
   ]
  },
  {
   "cell_type": "markdown",
   "metadata": {},
   "source": [
    "最後一筆data，他的名字有Dr.，以中位數取代"
   ]
  },
  {
   "cell_type": "code",
   "execution_count": 619,
   "metadata": {
    "collapsed": true
   },
   "outputs": [],
   "source": [
    "mask =  (data[\"age\"].isnull()) & ( data['name'].str.contains(\"Dr\\.\") )\n",
    "\n",
    "data.loc[mask,'age'] = data.loc[mask,'age'].fillna(data[data['name'].str.contains(\"Dr\\.\")][\"age\"].median())\n",
    "\n"
   ]
  },
  {
   "cell_type": "code",
   "execution_count": 620,
   "metadata": {},
   "outputs": [
    {
     "data": {
      "text/html": [
       "<div>\n",
       "<style>\n",
       "    .dataframe thead tr:only-child th {\n",
       "        text-align: right;\n",
       "    }\n",
       "\n",
       "    .dataframe thead th {\n",
       "        text-align: left;\n",
       "    }\n",
       "\n",
       "    .dataframe tbody tr th {\n",
       "        vertical-align: top;\n",
       "    }\n",
       "</style>\n",
       "<table border=\"1\" class=\"dataframe\">\n",
       "  <thead>\n",
       "    <tr style=\"text-align: right;\">\n",
       "      <th></th>\n",
       "      <th>pclass</th>\n",
       "      <th>survived</th>\n",
       "      <th>name</th>\n",
       "      <th>sex</th>\n",
       "      <th>age</th>\n",
       "      <th>sibsp</th>\n",
       "      <th>parch</th>\n",
       "      <th>ticket</th>\n",
       "      <th>fare</th>\n",
       "      <th>cabin</th>\n",
       "      <th>embarked</th>\n",
       "      <th>boat</th>\n",
       "      <th>body</th>\n",
       "      <th>home.dest</th>\n",
       "      <th>family_size</th>\n",
       "      <th>title1</th>\n",
       "    </tr>\n",
       "  </thead>\n",
       "  <tbody>\n",
       "  </tbody>\n",
       "</table>\n",
       "</div>"
      ],
      "text/plain": [
       "Empty DataFrame\n",
       "Columns: [pclass, survived, name, sex, age, sibsp, parch, ticket, fare, cabin, embarked, boat, body, home.dest, family_size, title1]\n",
       "Index: []"
      ]
     },
     "execution_count": 620,
     "metadata": {},
     "output_type": "execute_result"
    }
   ],
   "source": [
    "data[data['age'].isnull()]"
   ]
  },
  {
   "cell_type": "code",
   "execution_count": 621,
   "metadata": {},
   "outputs": [
    {
     "name": "stdout",
     "output_type": "stream",
     "text": [
      "<class 'pandas.core.frame.DataFrame'>\n",
      "RangeIndex: 1309 entries, 0 to 1308\n",
      "Data columns (total 16 columns):\n",
      "pclass         1309 non-null int64\n",
      "survived       1000 non-null float64\n",
      "name           1309 non-null object\n",
      "sex            1309 non-null object\n",
      "age            1309 non-null float64\n",
      "sibsp          1309 non-null int64\n",
      "parch          1309 non-null int64\n",
      "ticket         1309 non-null object\n",
      "fare           1308 non-null float64\n",
      "cabin          295 non-null object\n",
      "embarked       1307 non-null object\n",
      "boat           486 non-null object\n",
      "body           121 non-null float64\n",
      "home.dest      745 non-null object\n",
      "family_size    1309 non-null int64\n",
      "title1         1309 non-null object\n",
      "dtypes: float64(4), int64(4), object(8)\n",
      "memory usage: 163.7+ KB\n"
     ]
    }
   ],
   "source": [
    "data.info()"
   ]
  },
  {
   "cell_type": "markdown",
   "metadata": {},
   "source": [
    "age就沒有缺失值了"
   ]
  },
  {
   "cell_type": "markdown",
   "metadata": {},
   "source": [
    "2.embarked欄位"
   ]
  },
  {
   "cell_type": "markdown",
   "metadata": {},
   "source": [
    "embarked與survived的關係"
   ]
  },
  {
   "cell_type": "code",
   "execution_count": 622,
   "metadata": {},
   "outputs": [
    {
     "data": {
      "text/html": [
       "<div>\n",
       "<style>\n",
       "    .dataframe thead tr:only-child th {\n",
       "        text-align: right;\n",
       "    }\n",
       "\n",
       "    .dataframe thead th {\n",
       "        text-align: left;\n",
       "    }\n",
       "\n",
       "    .dataframe tbody tr th {\n",
       "        vertical-align: top;\n",
       "    }\n",
       "</style>\n",
       "<table border=\"1\" class=\"dataframe\">\n",
       "  <thead>\n",
       "    <tr style=\"text-align: right;\">\n",
       "      <th></th>\n",
       "      <th>embarked</th>\n",
       "      <th>survived</th>\n",
       "    </tr>\n",
       "  </thead>\n",
       "  <tbody>\n",
       "    <tr>\n",
       "      <th>0</th>\n",
       "      <td>C</td>\n",
       "      <td>0.575893</td>\n",
       "    </tr>\n",
       "    <tr>\n",
       "      <th>2</th>\n",
       "      <td>S</td>\n",
       "      <td>0.385491</td>\n",
       "    </tr>\n",
       "    <tr>\n",
       "      <th>1</th>\n",
       "      <td>Q</td>\n",
       "      <td>0.295775</td>\n",
       "    </tr>\n",
       "  </tbody>\n",
       "</table>\n",
       "</div>"
      ],
      "text/plain": [
       "  embarked  survived\n",
       "0        C  0.575893\n",
       "2        S  0.385491\n",
       "1        Q  0.295775"
      ]
     },
     "execution_count": 622,
     "metadata": {},
     "output_type": "execute_result"
    }
   ],
   "source": [
    "data[['embarked', 'survived']].groupby(['embarked'], as_index=False).mean().sort_values(by='survived', ascending=False)"
   ]
  },
  {
   "cell_type": "code",
   "execution_count": 623,
   "metadata": {},
   "outputs": [
    {
     "data": {
      "text/plain": [
       "<matplotlib.axes._subplots.AxesSubplot at 0x1a22c17b70>"
      ]
     },
     "execution_count": 623,
     "metadata": {},
     "output_type": "execute_result"
    },
    {
     "data": {
      "image/png": "[encoded data removed]",
      "text/plain": [
       "<matplotlib.figure.Figure at 0x1a22c00438>"
      ]
     },
     "metadata": {},
     "output_type": "display_data"
    }
   ],
   "source": [
    "total_Embarked_S = data[data['embarked']=='S']['survived'].count()\n",
    "\n",
    "total_Embarked_C = data[data['embarked']=='C']['survived'].count()\n",
    "\n",
    "total_Embarked_Q = data[data['embarked']=='Q']['survived'].count()\n",
    "\n",
    "Embarked_S = data[data['embarked']=='S']['survived'].value_counts() / total_Embarked_S\n",
    "\n",
    "Embarked_C = data[data['embarked']=='C']['survived'].value_counts() / total_Embarked_C\n",
    "\n",
    "Embarked_Q = data[data['embarked']=='Q']['survived'].value_counts() / total_Embarked_Q  \n",
    "\n",
    "             \n",
    "\n",
    "df = pd.DataFrame([Embarked_S,Embarked_C,Embarked_Q])\n",
    "\n",
    "df.index = ['Southampton','Cherbourg','Queenstown']\n",
    "\n",
    "df.plot(kind='bar',stacked=False, figsize=(15,8))\n",
    "\n"
   ]
  },
  {
   "cell_type": "markdown",
   "metadata": {},
   "source": [
    "embarked與fare的關係"
   ]
  },
  {
   "cell_type": "code",
   "execution_count": 624,
   "metadata": {},
   "outputs": [
    {
     "data": {
      "text/plain": [
       "<matplotlib.axes._subplots.AxesSubplot at 0x1a22c64cc0>"
      ]
     },
     "execution_count": 624,
     "metadata": {},
     "output_type": "execute_result"
    },
    {
     "data": {
      "image/png": "[encoded data removed]",
      "text/plain": [
       "<matplotlib.figure.Figure at 0x1a22c6d358>"
      ]
     },
     "metadata": {},
     "output_type": "display_data"
    }
   ],
   "source": [
    "total_Pclass_S = data[data['embarked']=='S']['pclass'].count()\n",
    "\n",
    "total_Pclass_C = data[data['embarked']=='C']['pclass'].count()\n",
    "\n",
    "total_Pclass_Q= data[data['embarked']=='Q']['pclass'].count()\n",
    "\n",
    "Embarked_S = data[data['embarked']=='S']['pclass'].value_counts() / total_Pclass_S\n",
    "\n",
    "Embarked_C = data[data['embarked']=='C']['pclass'].value_counts() / total_Pclass_C\n",
    "\n",
    "Embarked_Q = data[data['embarked']=='Q']['pclass'].value_counts() / total_Pclass_Q \n",
    "\n",
    "             \n",
    "\n",
    "df = pd.DataFrame([Embarked_S,Embarked_C,Embarked_Q])\n",
    "\n",
    "df.index = ['Southampton','Cherbourg','Queenstown']\n",
    "\n",
    "df.plot(kind='bar',stacked=False, figsize=(15,8))\n"
   ]
  },
  {
   "cell_type": "markdown",
   "metadata": {},
   "source": [
    "embarked有兩筆是缺失值，看看是哪兩筆"
   ]
  },
  {
   "cell_type": "code",
   "execution_count": 625,
   "metadata": {},
   "outputs": [
    {
     "data": {
      "text/html": [
       "<div>\n",
       "<style>\n",
       "    .dataframe thead tr:only-child th {\n",
       "        text-align: right;\n",
       "    }\n",
       "\n",
       "    .dataframe thead th {\n",
       "        text-align: left;\n",
       "    }\n",
       "\n",
       "    .dataframe tbody tr th {\n",
       "        vertical-align: top;\n",
       "    }\n",
       "</style>\n",
       "<table border=\"1\" class=\"dataframe\">\n",
       "  <thead>\n",
       "    <tr style=\"text-align: right;\">\n",
       "      <th></th>\n",
       "      <th>pclass</th>\n",
       "      <th>survived</th>\n",
       "      <th>name</th>\n",
       "      <th>sex</th>\n",
       "      <th>age</th>\n",
       "      <th>sibsp</th>\n",
       "      <th>parch</th>\n",
       "      <th>ticket</th>\n",
       "      <th>fare</th>\n",
       "      <th>cabin</th>\n",
       "      <th>embarked</th>\n",
       "      <th>boat</th>\n",
       "      <th>body</th>\n",
       "      <th>home.dest</th>\n",
       "      <th>family_size</th>\n",
       "      <th>title1</th>\n",
       "    </tr>\n",
       "  </thead>\n",
       "  <tbody>\n",
       "    <tr>\n",
       "      <th>168</th>\n",
       "      <td>1</td>\n",
       "      <td>1.0</td>\n",
       "      <td>Icard, Miss. Amelie</td>\n",
       "      <td>female</td>\n",
       "      <td>38.0</td>\n",
       "      <td>0</td>\n",
       "      <td>0</td>\n",
       "      <td>113572</td>\n",
       "      <td>80.0</td>\n",
       "      <td>B28</td>\n",
       "      <td>NaN</td>\n",
       "      <td>6</td>\n",
       "      <td>NaN</td>\n",
       "      <td>NaN</td>\n",
       "      <td>0</td>\n",
       "      <td>Miss</td>\n",
       "    </tr>\n",
       "    <tr>\n",
       "      <th>284</th>\n",
       "      <td>1</td>\n",
       "      <td>1.0</td>\n",
       "      <td>Stone, Mrs. George Nelson (Martha Evelyn)</td>\n",
       "      <td>female</td>\n",
       "      <td>62.0</td>\n",
       "      <td>0</td>\n",
       "      <td>0</td>\n",
       "      <td>113572</td>\n",
       "      <td>80.0</td>\n",
       "      <td>B28</td>\n",
       "      <td>NaN</td>\n",
       "      <td>6</td>\n",
       "      <td>NaN</td>\n",
       "      <td>Cincinatti, OH</td>\n",
       "      <td>0</td>\n",
       "      <td>Mrs</td>\n",
       "    </tr>\n",
       "  </tbody>\n",
       "</table>\n",
       "</div>"
      ],
      "text/plain": [
       "     pclass  survived                                       name     sex  \\\n",
       "168       1       1.0                        Icard, Miss. Amelie  female   \n",
       "284       1       1.0  Stone, Mrs. George Nelson (Martha Evelyn)  female   \n",
       "\n",
       "      age  sibsp  parch  ticket  fare cabin embarked boat  body  \\\n",
       "168  38.0      0      0  113572  80.0   B28      NaN    6   NaN   \n",
       "284  62.0      0      0  113572  80.0   B28      NaN    6   NaN   \n",
       "\n",
       "          home.dest  family_size title1  \n",
       "168             NaN            0   Miss  \n",
       "284  Cincinatti, OH            0    Mrs  "
      ]
     },
     "execution_count": 625,
     "metadata": {},
     "output_type": "execute_result"
    }
   ],
   "source": [
    "data.loc[(data.embarked.isnull())] "
   ]
  },
  {
   "cell_type": "code",
   "execution_count": 626,
   "metadata": {},
   "outputs": [
    {
     "data": {
      "text/plain": [
       "<matplotlib.axes._subplots.AxesSubplot at 0x1a22c95cf8>"
      ]
     },
     "execution_count": 626,
     "metadata": {},
     "output_type": "execute_result"
    },
    {
     "data": {
      "image/png": "[encoded data removed]",
      "text/plain": [
       "<matplotlib.figure.Figure at 0x1a22c2f080>"
      ]
     },
     "metadata": {},
     "output_type": "display_data"
    }
   ],
   "source": [
    "sns.boxplot(x=\"embarked\",y=\"fare\",hue=\"pclass\",data=data,palette=\"Set1\")"
   ]
  },
  {
   "cell_type": "markdown",
   "metadata": {},
   "source": [
    "從Cherbourg港上岸的，有較大的比例為P1等級的船票，剛好缺失embarked的這兩位乘客的船票等級（Pclass）都是1，所以我們就直接假設她們的上岸港口為Cherbourg。"
   ]
  },
  {
   "cell_type": "code",
   "execution_count": 627,
   "metadata": {
    "collapsed": true
   },
   "outputs": [],
   "source": [
    "def fill_Embarked():\n",
    "    data['embarked'].fillna(\"C\", inplace=True)"
   ]
  },
  {
   "cell_type": "code",
   "execution_count": 628,
   "metadata": {
    "collapsed": true
   },
   "outputs": [],
   "source": [
    "fill_Embarked()"
   ]
  },
  {
   "cell_type": "markdown",
   "metadata": {},
   "source": [
    "3.fare欄位"
   ]
  },
  {
   "cell_type": "markdown",
   "metadata": {},
   "source": [
    "fare有缺失值，看看是哪一筆"
   ]
  },
  {
   "cell_type": "code",
   "execution_count": 629,
   "metadata": {},
   "outputs": [
    {
     "data": {
      "text/html": [
       "<div>\n",
       "<style>\n",
       "    .dataframe thead tr:only-child th {\n",
       "        text-align: right;\n",
       "    }\n",
       "\n",
       "    .dataframe thead th {\n",
       "        text-align: left;\n",
       "    }\n",
       "\n",
       "    .dataframe tbody tr th {\n",
       "        vertical-align: top;\n",
       "    }\n",
       "</style>\n",
       "<table border=\"1\" class=\"dataframe\">\n",
       "  <thead>\n",
       "    <tr style=\"text-align: right;\">\n",
       "      <th></th>\n",
       "      <th>pclass</th>\n",
       "      <th>survived</th>\n",
       "      <th>name</th>\n",
       "      <th>sex</th>\n",
       "      <th>age</th>\n",
       "      <th>sibsp</th>\n",
       "      <th>parch</th>\n",
       "      <th>ticket</th>\n",
       "      <th>fare</th>\n",
       "      <th>cabin</th>\n",
       "      <th>embarked</th>\n",
       "      <th>boat</th>\n",
       "      <th>body</th>\n",
       "      <th>home.dest</th>\n",
       "      <th>family_size</th>\n",
       "      <th>title1</th>\n",
       "    </tr>\n",
       "  </thead>\n",
       "  <tbody>\n",
       "    <tr>\n",
       "      <th>1225</th>\n",
       "      <td>3</td>\n",
       "      <td>NaN</td>\n",
       "      <td>Storey, Mr. Thomas</td>\n",
       "      <td>male</td>\n",
       "      <td>60.5</td>\n",
       "      <td>0</td>\n",
       "      <td>0</td>\n",
       "      <td>3701</td>\n",
       "      <td>NaN</td>\n",
       "      <td>NaN</td>\n",
       "      <td>S</td>\n",
       "      <td>NaN</td>\n",
       "      <td>261.0</td>\n",
       "      <td>NaN</td>\n",
       "      <td>0</td>\n",
       "      <td>Mr</td>\n",
       "    </tr>\n",
       "  </tbody>\n",
       "</table>\n",
       "</div>"
      ],
      "text/plain": [
       "      pclass  survived                name   sex   age  sibsp  parch ticket  \\\n",
       "1225       3       NaN  Storey, Mr. Thomas  male  60.5      0      0   3701   \n",
       "\n",
       "      fare cabin embarked boat   body home.dest  family_size title1  \n",
       "1225   NaN   NaN        S  NaN  261.0       NaN            0     Mr  "
      ]
     },
     "execution_count": 629,
     "metadata": {},
     "output_type": "execute_result"
    }
   ],
   "source": [
    "data.loc[(data.fare.isnull())] "
   ]
  },
  {
   "cell_type": "markdown",
   "metadata": {},
   "source": [
    "我們直接用中位數來填入，因為從前面的分析中，很難確定Fare與何種欄位相關。"
   ]
  },
  {
   "cell_type": "code",
   "execution_count": 630,
   "metadata": {
    "collapsed": true
   },
   "outputs": [],
   "source": [
    "def fill_Fare():\n",
    "      data['fare'].fillna(data['fare'].median(), inplace=True)\n",
    "fill_Fare()"
   ]
  },
  {
   "cell_type": "markdown",
   "metadata": {},
   "source": [
    "回顧非數值的欄位"
   ]
  },
  {
   "cell_type": "code",
   "execution_count": 631,
   "metadata": {},
   "outputs": [
    {
     "data": {
      "text/html": [
       "<div>\n",
       "<style>\n",
       "    .dataframe thead tr:only-child th {\n",
       "        text-align: right;\n",
       "    }\n",
       "\n",
       "    .dataframe thead th {\n",
       "        text-align: left;\n",
       "    }\n",
       "\n",
       "    .dataframe tbody tr th {\n",
       "        vertical-align: top;\n",
       "    }\n",
       "</style>\n",
       "<table border=\"1\" class=\"dataframe\">\n",
       "  <thead>\n",
       "    <tr style=\"text-align: right;\">\n",
       "      <th></th>\n",
       "      <th>name</th>\n",
       "      <th>sex</th>\n",
       "      <th>ticket</th>\n",
       "      <th>cabin</th>\n",
       "      <th>embarked</th>\n",
       "      <th>boat</th>\n",
       "      <th>home.dest</th>\n",
       "      <th>title1</th>\n",
       "    </tr>\n",
       "  </thead>\n",
       "  <tbody>\n",
       "    <tr>\n",
       "      <th>count</th>\n",
       "      <td>1309</td>\n",
       "      <td>1309</td>\n",
       "      <td>1309</td>\n",
       "      <td>295</td>\n",
       "      <td>1309</td>\n",
       "      <td>486</td>\n",
       "      <td>745</td>\n",
       "      <td>1309</td>\n",
       "    </tr>\n",
       "    <tr>\n",
       "      <th>unique</th>\n",
       "      <td>1307</td>\n",
       "      <td>2</td>\n",
       "      <td>929</td>\n",
       "      <td>186</td>\n",
       "      <td>3</td>\n",
       "      <td>27</td>\n",
       "      <td>369</td>\n",
       "      <td>18</td>\n",
       "    </tr>\n",
       "    <tr>\n",
       "      <th>top</th>\n",
       "      <td>Kelly, Mr. James</td>\n",
       "      <td>male</td>\n",
       "      <td>CA. 2343</td>\n",
       "      <td>C23 C25 C27</td>\n",
       "      <td>S</td>\n",
       "      <td>13</td>\n",
       "      <td>New York, NY</td>\n",
       "      <td>Mr</td>\n",
       "    </tr>\n",
       "    <tr>\n",
       "      <th>freq</th>\n",
       "      <td>2</td>\n",
       "      <td>843</td>\n",
       "      <td>11</td>\n",
       "      <td>6</td>\n",
       "      <td>914</td>\n",
       "      <td>39</td>\n",
       "      <td>64</td>\n",
       "      <td>757</td>\n",
       "    </tr>\n",
       "  </tbody>\n",
       "</table>\n",
       "</div>"
      ],
      "text/plain": [
       "                    name   sex    ticket        cabin embarked boat  \\\n",
       "count               1309  1309      1309          295     1309  486   \n",
       "unique              1307     2       929          186        3   27   \n",
       "top     Kelly, Mr. James  male  CA. 2343  C23 C25 C27        S   13   \n",
       "freq                   2   843        11            6      914   39   \n",
       "\n",
       "           home.dest title1  \n",
       "count            745   1309  \n",
       "unique           369     18  \n",
       "top     New York, NY     Mr  \n",
       "freq              64    757  "
      ]
     },
     "execution_count": 631,
     "metadata": {},
     "output_type": "execute_result"
    }
   ],
   "source": [
    "data.describe(include=['O'])"
   ]
  },
  {
   "cell_type": "code",
   "execution_count": 632,
   "metadata": {
    "collapsed": true
   },
   "outputs": [],
   "source": [
    "def fill_Ticket():\n",
    "\n",
    "    global data\n",
    "\n",
    "    data['ticket'] = data['ticket'].str.extract('([a-zA-Z]*)', expand=False).str.upper()\n",
    "\n",
    "fill_Ticket()\n"
   ]
  },
  {
   "cell_type": "code",
   "execution_count": 633,
   "metadata": {},
   "outputs": [
    {
     "data": {
      "text/html": [
       "<div>\n",
       "<style>\n",
       "    .dataframe thead tr:only-child th {\n",
       "        text-align: right;\n",
       "    }\n",
       "\n",
       "    .dataframe thead th {\n",
       "        text-align: left;\n",
       "    }\n",
       "\n",
       "    .dataframe tbody tr th {\n",
       "        vertical-align: top;\n",
       "    }\n",
       "</style>\n",
       "<table border=\"1\" class=\"dataframe\">\n",
       "  <thead>\n",
       "    <tr style=\"text-align: right;\">\n",
       "      <th></th>\n",
       "      <th>name</th>\n",
       "      <th>sex</th>\n",
       "      <th>ticket</th>\n",
       "      <th>cabin</th>\n",
       "      <th>embarked</th>\n",
       "      <th>boat</th>\n",
       "      <th>home.dest</th>\n",
       "      <th>title1</th>\n",
       "    </tr>\n",
       "  </thead>\n",
       "  <tbody>\n",
       "    <tr>\n",
       "      <th>count</th>\n",
       "      <td>1309</td>\n",
       "      <td>1309</td>\n",
       "      <td>1309</td>\n",
       "      <td>295</td>\n",
       "      <td>1309</td>\n",
       "      <td>486</td>\n",
       "      <td>745</td>\n",
       "      <td>1309</td>\n",
       "    </tr>\n",
       "    <tr>\n",
       "      <th>unique</th>\n",
       "      <td>1307</td>\n",
       "      <td>2</td>\n",
       "      <td>21</td>\n",
       "      <td>186</td>\n",
       "      <td>3</td>\n",
       "      <td>27</td>\n",
       "      <td>369</td>\n",
       "      <td>18</td>\n",
       "    </tr>\n",
       "    <tr>\n",
       "      <th>top</th>\n",
       "      <td>Kelly, Mr. James</td>\n",
       "      <td>male</td>\n",
       "      <td></td>\n",
       "      <td>C23 C25 C27</td>\n",
       "      <td>S</td>\n",
       "      <td>13</td>\n",
       "      <td>New York, NY</td>\n",
       "      <td>Mr</td>\n",
       "    </tr>\n",
       "    <tr>\n",
       "      <th>freq</th>\n",
       "      <td>2</td>\n",
       "      <td>843</td>\n",
       "      <td>957</td>\n",
       "      <td>6</td>\n",
       "      <td>914</td>\n",
       "      <td>39</td>\n",
       "      <td>64</td>\n",
       "      <td>757</td>\n",
       "    </tr>\n",
       "  </tbody>\n",
       "</table>\n",
       "</div>"
      ],
      "text/plain": [
       "                    name   sex ticket        cabin embarked boat  \\\n",
       "count               1309  1309   1309          295     1309  486   \n",
       "unique              1307     2     21          186        3   27   \n",
       "top     Kelly, Mr. James  male         C23 C25 C27        S   13   \n",
       "freq                   2   843    957            6      914   39   \n",
       "\n",
       "           home.dest title1  \n",
       "count            745   1309  \n",
       "unique           369     18  \n",
       "top     New York, NY     Mr  \n",
       "freq              64    757  "
      ]
     },
     "execution_count": 633,
     "metadata": {},
     "output_type": "execute_result"
    }
   ],
   "source": [
    "data.describe(include=['O'])"
   ]
  },
  {
   "cell_type": "markdown",
   "metadata": {},
   "source": [
    "4.處理name，並新增到title2"
   ]
  },
  {
   "cell_type": "code",
   "execution_count": 634,
   "metadata": {},
   "outputs": [],
   "source": [
    "data['title2'] = data['title1'].replace(['Mlle','Mme','Ms','Dr','Major','Lady','the Countess','Jonkheer','Col','Rev','Capt','Sir','Don','Dona'],\n",
    "         ['Miss','Mrs','Miss','Mr','Mr','Mrs','Mrs','Mr','Mr','Mr','Mr','Mr','Mr','Mrs'])"
   ]
  },
  {
   "cell_type": "code",
   "execution_count": 635,
   "metadata": {},
   "outputs": [
    {
     "data": {
      "text/plain": [
       "array(['Miss', 'Master', 'Mr', 'Mrs'], dtype=object)"
      ]
     },
     "execution_count": 635,
     "metadata": {},
     "output_type": "execute_result"
    }
   ],
   "source": [
    "data['title2'].unique()"
   ]
  },
  {
   "cell_type": "markdown",
   "metadata": {},
   "source": [
    "One-Hot Encoding："
   ]
  },
  {
   "cell_type": "markdown",
   "metadata": {},
   "source": [
    "最後須將所有即非數值Categories型態欄位進行One-Hot Encoding，才能送給機器進行學習。\n",
    "這些屬於類別型態的欄位有：Sex、Pclass、Ticket、Embarked、Title2。\n",
    "\n"
   ]
  },
  {
   "cell_type": "code",
   "execution_count": 636,
   "metadata": {},
   "outputs": [],
   "source": [
    "def oneHotEncode():\n",
    "\n",
    "    global data\n",
    "    data['sex'] = data['sex'].astype('category').cat.codes\n",
    "    data['embarked'] = data['embarked'].astype('category').cat.codes\n",
    "    data['pclass'] = data['pclass'].astype('category').cat.codes\n",
    "    data['ticket'] = data['ticket'].astype('category').cat.codes\n",
    "    data['title2'] = data['title2'].astype('category').cat.codes\n",
    "oneHotEncode()"
   ]
  },
  {
   "cell_type": "code",
   "execution_count": 637,
   "metadata": {},
   "outputs": [
    {
     "data": {
      "text/html": [
       "<div>\n",
       "<style>\n",
       "    .dataframe thead tr:only-child th {\n",
       "        text-align: right;\n",
       "    }\n",
       "\n",
       "    .dataframe thead th {\n",
       "        text-align: left;\n",
       "    }\n",
       "\n",
       "    .dataframe tbody tr th {\n",
       "        vertical-align: top;\n",
       "    }\n",
       "</style>\n",
       "<table border=\"1\" class=\"dataframe\">\n",
       "  <thead>\n",
       "    <tr style=\"text-align: right;\">\n",
       "      <th></th>\n",
       "      <th>pclass</th>\n",
       "      <th>survived</th>\n",
       "      <th>name</th>\n",
       "      <th>sex</th>\n",
       "      <th>age</th>\n",
       "      <th>sibsp</th>\n",
       "      <th>parch</th>\n",
       "      <th>ticket</th>\n",
       "      <th>fare</th>\n",
       "      <th>cabin</th>\n",
       "      <th>embarked</th>\n",
       "      <th>boat</th>\n",
       "      <th>body</th>\n",
       "      <th>home.dest</th>\n",
       "      <th>family_size</th>\n",
       "      <th>title1</th>\n",
       "      <th>title2</th>\n",
       "    </tr>\n",
       "  </thead>\n",
       "  <tbody>\n",
       "    <tr>\n",
       "      <th>0</th>\n",
       "      <td>0</td>\n",
       "      <td>1.0</td>\n",
       "      <td>Allen, Miss. Elisabeth Walton</td>\n",
       "      <td>0</td>\n",
       "      <td>29.0000</td>\n",
       "      <td>0</td>\n",
       "      <td>0</td>\n",
       "      <td>0</td>\n",
       "      <td>211.3375</td>\n",
       "      <td>B5</td>\n",
       "      <td>2</td>\n",
       "      <td>2</td>\n",
       "      <td>NaN</td>\n",
       "      <td>St Louis, MO</td>\n",
       "      <td>0</td>\n",
       "      <td>Miss</td>\n",
       "      <td>1</td>\n",
       "    </tr>\n",
       "    <tr>\n",
       "      <th>1</th>\n",
       "      <td>0</td>\n",
       "      <td>1.0</td>\n",
       "      <td>Allison, Master. Hudson Trevor</td>\n",
       "      <td>1</td>\n",
       "      <td>0.9167</td>\n",
       "      <td>1</td>\n",
       "      <td>2</td>\n",
       "      <td>0</td>\n",
       "      <td>151.5500</td>\n",
       "      <td>C22 C26</td>\n",
       "      <td>2</td>\n",
       "      <td>11</td>\n",
       "      <td>NaN</td>\n",
       "      <td>Montreal, PQ / Chesterville, ON</td>\n",
       "      <td>3</td>\n",
       "      <td>Master</td>\n",
       "      <td>0</td>\n",
       "    </tr>\n",
       "    <tr>\n",
       "      <th>2</th>\n",
       "      <td>0</td>\n",
       "      <td>0.0</td>\n",
       "      <td>Allison, Miss. Helen Loraine</td>\n",
       "      <td>0</td>\n",
       "      <td>2.0000</td>\n",
       "      <td>1</td>\n",
       "      <td>2</td>\n",
       "      <td>0</td>\n",
       "      <td>151.5500</td>\n",
       "      <td>C22 C26</td>\n",
       "      <td>2</td>\n",
       "      <td>NaN</td>\n",
       "      <td>NaN</td>\n",
       "      <td>Montreal, PQ / Chesterville, ON</td>\n",
       "      <td>3</td>\n",
       "      <td>Miss</td>\n",
       "      <td>1</td>\n",
       "    </tr>\n",
       "    <tr>\n",
       "      <th>3</th>\n",
       "      <td>0</td>\n",
       "      <td>0.0</td>\n",
       "      <td>Allison, Mr. Hudson Joshua Creighton</td>\n",
       "      <td>1</td>\n",
       "      <td>30.0000</td>\n",
       "      <td>1</td>\n",
       "      <td>2</td>\n",
       "      <td>0</td>\n",
       "      <td>151.5500</td>\n",
       "      <td>C22 C26</td>\n",
       "      <td>2</td>\n",
       "      <td>NaN</td>\n",
       "      <td>135.0</td>\n",
       "      <td>Montreal, PQ / Chesterville, ON</td>\n",
       "      <td>3</td>\n",
       "      <td>Mr</td>\n",
       "      <td>2</td>\n",
       "    </tr>\n",
       "    <tr>\n",
       "      <th>4</th>\n",
       "      <td>0</td>\n",
       "      <td>0.0</td>\n",
       "      <td>Allison, Mrs. Hudson J C (Bessie Waldo Daniels)</td>\n",
       "      <td>0</td>\n",
       "      <td>25.0000</td>\n",
       "      <td>1</td>\n",
       "      <td>2</td>\n",
       "      <td>0</td>\n",
       "      <td>151.5500</td>\n",
       "      <td>C22 C26</td>\n",
       "      <td>2</td>\n",
       "      <td>NaN</td>\n",
       "      <td>NaN</td>\n",
       "      <td>Montreal, PQ / Chesterville, ON</td>\n",
       "      <td>3</td>\n",
       "      <td>Mrs</td>\n",
       "      <td>3</td>\n",
       "    </tr>\n",
       "  </tbody>\n",
       "</table>\n",
       "</div>"
      ],
      "text/plain": [
       "   pclass  survived                                             name  sex  \\\n",
       "0       0       1.0                    Allen, Miss. Elisabeth Walton    0   \n",
       "1       0       1.0                   Allison, Master. Hudson Trevor    1   \n",
       "2       0       0.0                     Allison, Miss. Helen Loraine    0   \n",
       "3       0       0.0             Allison, Mr. Hudson Joshua Creighton    1   \n",
       "4       0       0.0  Allison, Mrs. Hudson J C (Bessie Waldo Daniels)    0   \n",
       "\n",
       "       age  sibsp  parch  ticket      fare    cabin  embarked boat   body  \\\n",
       "0  29.0000      0      0       0  211.3375       B5         2    2    NaN   \n",
       "1   0.9167      1      2       0  151.5500  C22 C26         2   11    NaN   \n",
       "2   2.0000      1      2       0  151.5500  C22 C26         2  NaN    NaN   \n",
       "3  30.0000      1      2       0  151.5500  C22 C26         2  NaN  135.0   \n",
       "4  25.0000      1      2       0  151.5500  C22 C26         2  NaN    NaN   \n",
       "\n",
       "                         home.dest  family_size  title1  title2  \n",
       "0                     St Louis, MO            0    Miss       1  \n",
       "1  Montreal, PQ / Chesterville, ON            3  Master       0  \n",
       "2  Montreal, PQ / Chesterville, ON            3    Miss       1  \n",
       "3  Montreal, PQ / Chesterville, ON            3      Mr       2  \n",
       "4  Montreal, PQ / Chesterville, ON            3     Mrs       3  "
      ]
     },
     "execution_count": 637,
     "metadata": {},
     "output_type": "execute_result"
    }
   ],
   "source": [
    "data.head()"
   ]
  },
  {
   "cell_type": "markdown",
   "metadata": {},
   "source": [
    "##  建立模型與訓練"
   ]
  },
  {
   "cell_type": "markdown",
   "metadata": {},
   "source": [
    "在開始訓練之前，記得將被合併到Train dataset的Test dataset再搬出來。"
   ]
  },
  {
   "cell_type": "code",
   "execution_count": 638,
   "metadata": {},
   "outputs": [
    {
     "data": {
      "text/plain": [
       "((1000, 10), (1000,), (309, 10))"
      ]
     },
     "execution_count": 638,
     "metadata": {},
     "output_type": "execute_result"
    }
   ],
   "source": [
    "data = data.drop(\"name\", axis=1)\n",
    "data = data.drop(\"body\", axis=1)\n",
    "data = data.drop(\"home.dest\", axis=1)\n",
    "data = data.drop(\"boat\", axis=1)\n",
    "data = data.drop(\"title1\", axis=1)\n",
    "data = data.drop(\"cabin\", axis=1)\n",
    "\n",
    "\n",
    "X_train = data.iloc[:1000].drop(\"survived\", axis=1)\n",
    "Y_train = data.iloc[:1000][\"survived\"]\n",
    "X_test  = data.iloc[1000:]\n",
    "X_test = X_test.drop(\"survived\",axis=1)\n",
    "\n",
    "X_train.shape, Y_train.shape, X_test.shape\n",
    "\n",
    "\n",
    "# X_train = X_train.drop(“Survived\", axis=1)\n",
    "\n",
    "# X_test = X_train.iloc[891:]\n",
    "\n",
    "# X_train = X_train.head(891)\n",
    "\n",
    "# X_train.shape, Y_train.shape, X_test.shape\n",
    "\n",
    "\n"
   ]
  },
  {
   "cell_type": "markdown",
   "metadata": {},
   "source": [
    "載入scikit-learn相關模組"
   ]
  },
  {
   "cell_type": "code",
   "execution_count": 639,
   "metadata": {},
   "outputs": [],
   "source": [
    "# machine learning\n",
    "\n",
    "from sklearn.linear_model import LogisticRegression\n",
    "\n",
    "from sklearn.svm import SVC, LinearSVC\n",
    "\n",
    "from sklearn.ensemble import RandomForestClassifier\n",
    "\n",
    "from sklearn.neighbors import KNeighborsClassifier\n",
    "\n",
    "from sklearn.naive_bayes import GaussianNB\n",
    "\n",
    "from sklearn.linear_model import Perceptron\n",
    "\n",
    "from sklearn.linear_model import SGDClassifier\n",
    "\n",
    "from sklearn.tree import DecisionTreeClassifier\n",
    "\n",
    "from sklearn import metrics, cross_validation\n",
    "\n"
   ]
  },
  {
   "cell_type": "markdown",
   "metadata": {},
   "source": [
    "Logistic Regression"
   ]
  },
  {
   "cell_type": "code",
   "execution_count": 640,
   "metadata": {},
   "outputs": [
    {
     "data": {
      "text/plain": [
       "79.0"
      ]
     },
     "execution_count": 640,
     "metadata": {},
     "output_type": "execute_result"
    }
   ],
   "source": [
    "logreg = LogisticRegression()\n",
    "logreg.fit(X_train, Y_train)\n",
    "Y_pred = logreg.predict(X_test)\n",
    "acc_log = round(logreg.score(X_train, Y_train) * 100, 2)\n",
    "acc_log\n",
    "\n"
   ]
  },
  {
   "cell_type": "markdown",
   "metadata": {},
   "source": [
    "Support Vector Machines"
   ]
  },
  {
   "cell_type": "code",
   "execution_count": 641,
   "metadata": {},
   "outputs": [
    {
     "data": {
      "text/plain": [
       "90.3"
      ]
     },
     "execution_count": 641,
     "metadata": {},
     "output_type": "execute_result"
    }
   ],
   "source": [
    "svc = SVC()\n",
    "svc.fit(X_train, Y_train)\n",
    "Y_pred = svc.predict(X_test)\n",
    "acc_svc = round(svc.score(X_train, Y_train) * 100, 2)\n",
    "acc_svc"
   ]
  },
  {
   "cell_type": "markdown",
   "metadata": {},
   "source": [
    "KNN"
   ]
  },
  {
   "cell_type": "code",
   "execution_count": 642,
   "metadata": {},
   "outputs": [
    {
     "data": {
      "text/plain": [
       "81.9"
      ]
     },
     "execution_count": 642,
     "metadata": {},
     "output_type": "execute_result"
    }
   ],
   "source": [
    "knn = KNeighborsClassifier(n_neighbors = 3)\n",
    "knn.fit(X_train, Y_train)\n",
    "Y_pred = knn.predict(X_test)\n",
    "acc_knn = round(knn.score(X_train, Y_train) * 100, 2)\n",
    "acc_knn"
   ]
  },
  {
   "cell_type": "markdown",
   "metadata": {},
   "source": [
    "Decision Tree"
   ]
  },
  {
   "cell_type": "code",
   "execution_count": 643,
   "metadata": {},
   "outputs": [
    {
     "data": {
      "text/plain": [
       "98.4"
      ]
     },
     "execution_count": 643,
     "metadata": {},
     "output_type": "execute_result"
    }
   ],
   "source": [
    "decision_tree = DecisionTreeClassifier()\n",
    "decision_tree.fit(X_train, Y_train)\n",
    "Y_pred = decision_tree.predict(X_test)\n",
    "acc_decision_tree = round(decision_tree.score(X_train, Y_train) * 100, 2)\n",
    "acc_decision_tree\n"
   ]
  },
  {
   "cell_type": "markdown",
   "metadata": {},
   "source": [
    "Random Forest"
   ]
  },
  {
   "cell_type": "code",
   "execution_count": 644,
   "metadata": {},
   "outputs": [
    {
     "data": {
      "text/plain": [
       "98.4"
      ]
     },
     "execution_count": 644,
     "metadata": {},
     "output_type": "execute_result"
    }
   ],
   "source": [
    "random_forest = RandomForestClassifier(n_estimators=100)\n",
    "random_forest.fit(X_train, Y_train)\n",
    "Y_pred = random_forest.predict(X_test)\n",
    "random_forest.score(X_train, Y_train)\n",
    "acc_random_forest = round(random_forest.score(X_train, Y_train) * 100, 2)\n",
    "acc_random_forest"
   ]
  },
  {
   "cell_type": "code",
   "execution_count": 645,
   "metadata": {},
   "outputs": [
    {
     "data": {
      "text/html": [
       "<div>\n",
       "<style>\n",
       "    .dataframe thead tr:only-child th {\n",
       "        text-align: right;\n",
       "    }\n",
       "\n",
       "    .dataframe thead th {\n",
       "        text-align: left;\n",
       "    }\n",
       "\n",
       "    .dataframe tbody tr th {\n",
       "        vertical-align: top;\n",
       "    }\n",
       "</style>\n",
       "<table border=\"1\" class=\"dataframe\">\n",
       "  <thead>\n",
       "    <tr style=\"text-align: right;\">\n",
       "      <th></th>\n",
       "      <th>pclass</th>\n",
       "      <th>survived</th>\n",
       "      <th>name</th>\n",
       "      <th>sex</th>\n",
       "      <th>age</th>\n",
       "      <th>sibsp</th>\n",
       "      <th>parch</th>\n",
       "      <th>ticket</th>\n",
       "      <th>fare</th>\n",
       "      <th>cabin</th>\n",
       "      <th>embarked</th>\n",
       "      <th>boat</th>\n",
       "      <th>body</th>\n",
       "      <th>home.dest</th>\n",
       "    </tr>\n",
       "  </thead>\n",
       "  <tbody>\n",
       "    <tr>\n",
       "      <th>0</th>\n",
       "      <td>3</td>\n",
       "      <td>NaN</td>\n",
       "      <td>McCormack, Mr. Thomas Joseph</td>\n",
       "      <td>male</td>\n",
       "      <td>NaN</td>\n",
       "      <td>0</td>\n",
       "      <td>0</td>\n",
       "      <td>367228</td>\n",
       "      <td>7.7500</td>\n",
       "      <td>NaN</td>\n",
       "      <td>Q</td>\n",
       "      <td>NaN</td>\n",
       "      <td>NaN</td>\n",
       "      <td>NaN</td>\n",
       "    </tr>\n",
       "    <tr>\n",
       "      <th>1</th>\n",
       "      <td>3</td>\n",
       "      <td>NaN</td>\n",
       "      <td>McCoy, Miss. Agnes</td>\n",
       "      <td>female</td>\n",
       "      <td>NaN</td>\n",
       "      <td>2</td>\n",
       "      <td>0</td>\n",
       "      <td>367226</td>\n",
       "      <td>23.2500</td>\n",
       "      <td>NaN</td>\n",
       "      <td>Q</td>\n",
       "      <td>16</td>\n",
       "      <td>NaN</td>\n",
       "      <td>NaN</td>\n",
       "    </tr>\n",
       "    <tr>\n",
       "      <th>2</th>\n",
       "      <td>3</td>\n",
       "      <td>NaN</td>\n",
       "      <td>McCoy, Miss. Alicia</td>\n",
       "      <td>female</td>\n",
       "      <td>NaN</td>\n",
       "      <td>2</td>\n",
       "      <td>0</td>\n",
       "      <td>367226</td>\n",
       "      <td>23.2500</td>\n",
       "      <td>NaN</td>\n",
       "      <td>Q</td>\n",
       "      <td>16</td>\n",
       "      <td>NaN</td>\n",
       "      <td>NaN</td>\n",
       "    </tr>\n",
       "    <tr>\n",
       "      <th>3</th>\n",
       "      <td>3</td>\n",
       "      <td>NaN</td>\n",
       "      <td>McCoy, Mr. Bernard</td>\n",
       "      <td>male</td>\n",
       "      <td>NaN</td>\n",
       "      <td>2</td>\n",
       "      <td>0</td>\n",
       "      <td>367226</td>\n",
       "      <td>23.2500</td>\n",
       "      <td>NaN</td>\n",
       "      <td>Q</td>\n",
       "      <td>16</td>\n",
       "      <td>NaN</td>\n",
       "      <td>NaN</td>\n",
       "    </tr>\n",
       "    <tr>\n",
       "      <th>4</th>\n",
       "      <td>3</td>\n",
       "      <td>NaN</td>\n",
       "      <td>McDermott, Miss. Brigdet Delia</td>\n",
       "      <td>female</td>\n",
       "      <td>NaN</td>\n",
       "      <td>0</td>\n",
       "      <td>0</td>\n",
       "      <td>330932</td>\n",
       "      <td>7.7875</td>\n",
       "      <td>NaN</td>\n",
       "      <td>Q</td>\n",
       "      <td>13</td>\n",
       "      <td>NaN</td>\n",
       "      <td>NaN</td>\n",
       "    </tr>\n",
       "  </tbody>\n",
       "</table>\n",
       "</div>"
      ],
      "text/plain": [
       "   pclass  survived                            name     sex  age  sibsp  \\\n",
       "0       3       NaN    McCormack, Mr. Thomas Joseph    male  NaN      0   \n",
       "1       3       NaN              McCoy, Miss. Agnes  female  NaN      2   \n",
       "2       3       NaN             McCoy, Miss. Alicia  female  NaN      2   \n",
       "3       3       NaN              McCoy, Mr. Bernard    male  NaN      2   \n",
       "4       3       NaN  McDermott, Miss. Brigdet Delia  female  NaN      0   \n",
       "\n",
       "   parch  ticket     fare cabin embarked boat  body home.dest  \n",
       "0      0  367228   7.7500   NaN        Q  NaN   NaN       NaN  \n",
       "1      0  367226  23.2500   NaN        Q   16   NaN       NaN  \n",
       "2      0  367226  23.2500   NaN        Q   16   NaN       NaN  \n",
       "3      0  367226  23.2500   NaN        Q   16   NaN       NaN  \n",
       "4      0  330932   7.7875   NaN        Q   13   NaN       NaN  "
      ]
     },
     "execution_count": 645,
     "metadata": {},
     "output_type": "execute_result"
    }
   ],
   "source": [
    "test.head()"
   ]
  },
  {
   "cell_type": "code",
   "execution_count": 646,
   "metadata": {
    "collapsed": true
   },
   "outputs": [],
   "source": [
    "submission = pd.DataFrame({\n",
    "        \"Name\": test[\"name\"],\n",
    "        \"Survived\": Y_pred\n",
    "    })"
   ]
  },
  {
   "cell_type": "code",
   "execution_count": 647,
   "metadata": {},
   "outputs": [
    {
     "data": {
      "text/html": [
       "<div>\n",
       "<style>\n",
       "    .dataframe thead tr:only-child th {\n",
       "        text-align: right;\n",
       "    }\n",
       "\n",
       "    .dataframe thead th {\n",
       "        text-align: left;\n",
       "    }\n",
       "\n",
       "    .dataframe tbody tr th {\n",
       "        vertical-align: top;\n",
       "    }\n",
       "</style>\n",
       "<table border=\"1\" class=\"dataframe\">\n",
       "  <thead>\n",
       "    <tr style=\"text-align: right;\">\n",
       "      <th></th>\n",
       "      <th>Name</th>\n",
       "      <th>Survived</th>\n",
       "    </tr>\n",
       "  </thead>\n",
       "  <tbody>\n",
       "    <tr>\n",
       "      <th>0</th>\n",
       "      <td>McCormack, Mr. Thomas Joseph</td>\n",
       "      <td>0.0</td>\n",
       "    </tr>\n",
       "    <tr>\n",
       "      <th>1</th>\n",
       "      <td>McCoy, Miss. Agnes</td>\n",
       "      <td>0.0</td>\n",
       "    </tr>\n",
       "    <tr>\n",
       "      <th>2</th>\n",
       "      <td>McCoy, Miss. Alicia</td>\n",
       "      <td>0.0</td>\n",
       "    </tr>\n",
       "    <tr>\n",
       "      <th>3</th>\n",
       "      <td>McCoy, Mr. Bernard</td>\n",
       "      <td>0.0</td>\n",
       "    </tr>\n",
       "    <tr>\n",
       "      <th>4</th>\n",
       "      <td>McDermott, Miss. Brigdet Delia</td>\n",
       "      <td>1.0</td>\n",
       "    </tr>\n",
       "    <tr>\n",
       "      <th>5</th>\n",
       "      <td>McEvoy, Mr. Michael</td>\n",
       "      <td>0.0</td>\n",
       "    </tr>\n",
       "    <tr>\n",
       "      <th>6</th>\n",
       "      <td>McGovern, Miss. Mary</td>\n",
       "      <td>0.0</td>\n",
       "    </tr>\n",
       "    <tr>\n",
       "      <th>7</th>\n",
       "      <td>McGowan, Miss. Anna \"Annie\"</td>\n",
       "      <td>1.0</td>\n",
       "    </tr>\n",
       "    <tr>\n",
       "      <th>8</th>\n",
       "      <td>McGowan, Miss. Katherine</td>\n",
       "      <td>0.0</td>\n",
       "    </tr>\n",
       "    <tr>\n",
       "      <th>9</th>\n",
       "      <td>McMahon, Mr. Martin</td>\n",
       "      <td>0.0</td>\n",
       "    </tr>\n",
       "    <tr>\n",
       "      <th>10</th>\n",
       "      <td>McNamee, Mr. Neal</td>\n",
       "      <td>0.0</td>\n",
       "    </tr>\n",
       "    <tr>\n",
       "      <th>11</th>\n",
       "      <td>McNamee, Mrs. Neal (Eileen O'Leary)</td>\n",
       "      <td>1.0</td>\n",
       "    </tr>\n",
       "    <tr>\n",
       "      <th>12</th>\n",
       "      <td>McNeill, Miss. Bridget</td>\n",
       "      <td>1.0</td>\n",
       "    </tr>\n",
       "    <tr>\n",
       "      <th>13</th>\n",
       "      <td>Meanwell, Miss. (Marion Ogden)</td>\n",
       "      <td>1.0</td>\n",
       "    </tr>\n",
       "    <tr>\n",
       "      <th>14</th>\n",
       "      <td>Meek, Mrs. Thomas (Annie Louise Rowley)</td>\n",
       "      <td>1.0</td>\n",
       "    </tr>\n",
       "    <tr>\n",
       "      <th>15</th>\n",
       "      <td>Meo, Mr. Alfonzo</td>\n",
       "      <td>0.0</td>\n",
       "    </tr>\n",
       "    <tr>\n",
       "      <th>16</th>\n",
       "      <td>Mernagh, Mr. Robert</td>\n",
       "      <td>0.0</td>\n",
       "    </tr>\n",
       "    <tr>\n",
       "      <th>17</th>\n",
       "      <td>Midtsjo, Mr. Karl Albert</td>\n",
       "      <td>0.0</td>\n",
       "    </tr>\n",
       "    <tr>\n",
       "      <th>18</th>\n",
       "      <td>Miles, Mr. Frank</td>\n",
       "      <td>0.0</td>\n",
       "    </tr>\n",
       "    <tr>\n",
       "      <th>19</th>\n",
       "      <td>Mineff, Mr. Ivan</td>\n",
       "      <td>0.0</td>\n",
       "    </tr>\n",
       "    <tr>\n",
       "      <th>20</th>\n",
       "      <td>Minkoff, Mr. Lazar</td>\n",
       "      <td>0.0</td>\n",
       "    </tr>\n",
       "    <tr>\n",
       "      <th>21</th>\n",
       "      <td>Mionoff, Mr. Stoytcho</td>\n",
       "      <td>0.0</td>\n",
       "    </tr>\n",
       "    <tr>\n",
       "      <th>22</th>\n",
       "      <td>Mitkoff, Mr. Mito</td>\n",
       "      <td>0.0</td>\n",
       "    </tr>\n",
       "    <tr>\n",
       "      <th>23</th>\n",
       "      <td>Mockler, Miss. Helen Mary \"Ellie\"</td>\n",
       "      <td>0.0</td>\n",
       "    </tr>\n",
       "    <tr>\n",
       "      <th>24</th>\n",
       "      <td>Moen, Mr. Sigurd Hansen</td>\n",
       "      <td>1.0</td>\n",
       "    </tr>\n",
       "    <tr>\n",
       "      <th>25</th>\n",
       "      <td>Moor, Master. Meier</td>\n",
       "      <td>1.0</td>\n",
       "    </tr>\n",
       "    <tr>\n",
       "      <th>26</th>\n",
       "      <td>Moor, Mrs. (Beila)</td>\n",
       "      <td>1.0</td>\n",
       "    </tr>\n",
       "    <tr>\n",
       "      <th>27</th>\n",
       "      <td>Moore, Mr. Leonard Charles</td>\n",
       "      <td>0.0</td>\n",
       "    </tr>\n",
       "    <tr>\n",
       "      <th>28</th>\n",
       "      <td>Moran, Miss. Bertha</td>\n",
       "      <td>0.0</td>\n",
       "    </tr>\n",
       "    <tr>\n",
       "      <th>29</th>\n",
       "      <td>Moran, Mr. Daniel J</td>\n",
       "      <td>0.0</td>\n",
       "    </tr>\n",
       "    <tr>\n",
       "      <th>...</th>\n",
       "      <td>...</td>\n",
       "      <td>...</td>\n",
       "    </tr>\n",
       "    <tr>\n",
       "      <th>70</th>\n",
       "      <td>O'Brien, Mr. Timothy</td>\n",
       "      <td>0.0</td>\n",
       "    </tr>\n",
       "    <tr>\n",
       "      <th>71</th>\n",
       "      <td>O'Brien, Mrs. Thomas (Johanna \"Hannah\" Godfrey)</td>\n",
       "      <td>0.0</td>\n",
       "    </tr>\n",
       "    <tr>\n",
       "      <th>72</th>\n",
       "      <td>O'Connell, Mr. Patrick D</td>\n",
       "      <td>0.0</td>\n",
       "    </tr>\n",
       "    <tr>\n",
       "      <th>73</th>\n",
       "      <td>O'Connor, Mr. Maurice</td>\n",
       "      <td>0.0</td>\n",
       "    </tr>\n",
       "    <tr>\n",
       "      <th>74</th>\n",
       "      <td>O'Connor, Mr. Patrick</td>\n",
       "      <td>0.0</td>\n",
       "    </tr>\n",
       "    <tr>\n",
       "      <th>75</th>\n",
       "      <td>Odahl, Mr. Nils Martin</td>\n",
       "      <td>0.0</td>\n",
       "    </tr>\n",
       "    <tr>\n",
       "      <th>76</th>\n",
       "      <td>O'Donoghue, Ms. Bridget</td>\n",
       "      <td>1.0</td>\n",
       "    </tr>\n",
       "    <tr>\n",
       "      <th>77</th>\n",
       "      <td>O'Driscoll, Miss. Bridget</td>\n",
       "      <td>1.0</td>\n",
       "    </tr>\n",
       "    <tr>\n",
       "      <th>78</th>\n",
       "      <td>O'Dwyer, Miss. Ellen \"Nellie\"</td>\n",
       "      <td>0.0</td>\n",
       "    </tr>\n",
       "    <tr>\n",
       "      <th>79</th>\n",
       "      <td>Ohman, Miss. Velin</td>\n",
       "      <td>1.0</td>\n",
       "    </tr>\n",
       "    <tr>\n",
       "      <th>80</th>\n",
       "      <td>O'Keefe, Mr. Patrick</td>\n",
       "      <td>0.0</td>\n",
       "    </tr>\n",
       "    <tr>\n",
       "      <th>81</th>\n",
       "      <td>O'Leary, Miss. Hanora \"Norah\"</td>\n",
       "      <td>0.0</td>\n",
       "    </tr>\n",
       "    <tr>\n",
       "      <th>82</th>\n",
       "      <td>Olsen, Master. Artur Karl</td>\n",
       "      <td>1.0</td>\n",
       "    </tr>\n",
       "    <tr>\n",
       "      <th>83</th>\n",
       "      <td>Olsen, Mr. Henry Margido</td>\n",
       "      <td>0.0</td>\n",
       "    </tr>\n",
       "    <tr>\n",
       "      <th>84</th>\n",
       "      <td>Olsen, Mr. Karl Siegwart Andreas</td>\n",
       "      <td>0.0</td>\n",
       "    </tr>\n",
       "    <tr>\n",
       "      <th>85</th>\n",
       "      <td>Olsen, Mr. Ole Martin</td>\n",
       "      <td>0.0</td>\n",
       "    </tr>\n",
       "    <tr>\n",
       "      <th>86</th>\n",
       "      <td>Olsson, Miss. Elina</td>\n",
       "      <td>0.0</td>\n",
       "    </tr>\n",
       "    <tr>\n",
       "      <th>87</th>\n",
       "      <td>Olsson, Mr. Nils Johan Goransson</td>\n",
       "      <td>0.0</td>\n",
       "    </tr>\n",
       "    <tr>\n",
       "      <th>88</th>\n",
       "      <td>Olsson, Mr. Oscar Wilhelm</td>\n",
       "      <td>0.0</td>\n",
       "    </tr>\n",
       "    <tr>\n",
       "      <th>89</th>\n",
       "      <td>Olsvigen, Mr. Thor Anderson</td>\n",
       "      <td>0.0</td>\n",
       "    </tr>\n",
       "    <tr>\n",
       "      <th>90</th>\n",
       "      <td>Oreskovic, Miss. Jelka</td>\n",
       "      <td>0.0</td>\n",
       "    </tr>\n",
       "    <tr>\n",
       "      <th>91</th>\n",
       "      <td>Oreskovic, Miss. Marija</td>\n",
       "      <td>0.0</td>\n",
       "    </tr>\n",
       "    <tr>\n",
       "      <th>92</th>\n",
       "      <td>Oreskovic, Mr. Luka</td>\n",
       "      <td>0.0</td>\n",
       "    </tr>\n",
       "    <tr>\n",
       "      <th>93</th>\n",
       "      <td>Osen, Mr. Olaf Elon</td>\n",
       "      <td>0.0</td>\n",
       "    </tr>\n",
       "    <tr>\n",
       "      <th>94</th>\n",
       "      <td>Osman, Mrs. Mara</td>\n",
       "      <td>1.0</td>\n",
       "    </tr>\n",
       "    <tr>\n",
       "      <th>95</th>\n",
       "      <td>O'Sullivan, Miss. Bridget Mary</td>\n",
       "      <td>1.0</td>\n",
       "    </tr>\n",
       "    <tr>\n",
       "      <th>96</th>\n",
       "      <td>Palsson, Master. Gosta Leonard</td>\n",
       "      <td>1.0</td>\n",
       "    </tr>\n",
       "    <tr>\n",
       "      <th>97</th>\n",
       "      <td>Palsson, Master. Paul Folke</td>\n",
       "      <td>0.0</td>\n",
       "    </tr>\n",
       "    <tr>\n",
       "      <th>98</th>\n",
       "      <td>Palsson, Miss. Stina Viola</td>\n",
       "      <td>0.0</td>\n",
       "    </tr>\n",
       "    <tr>\n",
       "      <th>99</th>\n",
       "      <td>Palsson, Miss. Torborg Danira</td>\n",
       "      <td>0.0</td>\n",
       "    </tr>\n",
       "  </tbody>\n",
       "</table>\n",
       "<p>100 rows × 2 columns</p>\n",
       "</div>"
      ],
      "text/plain": [
       "                                               Name  Survived\n",
       "0                      McCormack, Mr. Thomas Joseph       0.0\n",
       "1                                McCoy, Miss. Agnes       0.0\n",
       "2                               McCoy, Miss. Alicia       0.0\n",
       "3                                McCoy, Mr. Bernard       0.0\n",
       "4                    McDermott, Miss. Brigdet Delia       1.0\n",
       "5                               McEvoy, Mr. Michael       0.0\n",
       "6                              McGovern, Miss. Mary       0.0\n",
       "7                       McGowan, Miss. Anna \"Annie\"       1.0\n",
       "8                          McGowan, Miss. Katherine       0.0\n",
       "9                               McMahon, Mr. Martin       0.0\n",
       "10                                McNamee, Mr. Neal       0.0\n",
       "11              McNamee, Mrs. Neal (Eileen O'Leary)       1.0\n",
       "12                           McNeill, Miss. Bridget       1.0\n",
       "13                   Meanwell, Miss. (Marion Ogden)       1.0\n",
       "14          Meek, Mrs. Thomas (Annie Louise Rowley)       1.0\n",
       "15                                 Meo, Mr. Alfonzo       0.0\n",
       "16                              Mernagh, Mr. Robert       0.0\n",
       "17                         Midtsjo, Mr. Karl Albert       0.0\n",
       "18                                 Miles, Mr. Frank       0.0\n",
       "19                                 Mineff, Mr. Ivan       0.0\n",
       "20                               Minkoff, Mr. Lazar       0.0\n",
       "21                            Mionoff, Mr. Stoytcho       0.0\n",
       "22                                Mitkoff, Mr. Mito       0.0\n",
       "23                Mockler, Miss. Helen Mary \"Ellie\"       0.0\n",
       "24                          Moen, Mr. Sigurd Hansen       1.0\n",
       "25                              Moor, Master. Meier       1.0\n",
       "26                               Moor, Mrs. (Beila)       1.0\n",
       "27                       Moore, Mr. Leonard Charles       0.0\n",
       "28                              Moran, Miss. Bertha       0.0\n",
       "29                              Moran, Mr. Daniel J       0.0\n",
       "..                                              ...       ...\n",
       "70                             O'Brien, Mr. Timothy       0.0\n",
       "71  O'Brien, Mrs. Thomas (Johanna \"Hannah\" Godfrey)       0.0\n",
       "72                         O'Connell, Mr. Patrick D       0.0\n",
       "73                            O'Connor, Mr. Maurice       0.0\n",
       "74                            O'Connor, Mr. Patrick       0.0\n",
       "75                           Odahl, Mr. Nils Martin       0.0\n",
       "76                          O'Donoghue, Ms. Bridget       1.0\n",
       "77                        O'Driscoll, Miss. Bridget       1.0\n",
       "78                    O'Dwyer, Miss. Ellen \"Nellie\"       0.0\n",
       "79                               Ohman, Miss. Velin       1.0\n",
       "80                             O'Keefe, Mr. Patrick       0.0\n",
       "81                    O'Leary, Miss. Hanora \"Norah\"       0.0\n",
       "82                        Olsen, Master. Artur Karl       1.0\n",
       "83                         Olsen, Mr. Henry Margido       0.0\n",
       "84                 Olsen, Mr. Karl Siegwart Andreas       0.0\n",
       "85                            Olsen, Mr. Ole Martin       0.0\n",
       "86                              Olsson, Miss. Elina       0.0\n",
       "87                 Olsson, Mr. Nils Johan Goransson       0.0\n",
       "88                        Olsson, Mr. Oscar Wilhelm       0.0\n",
       "89                      Olsvigen, Mr. Thor Anderson       0.0\n",
       "90                           Oreskovic, Miss. Jelka       0.0\n",
       "91                          Oreskovic, Miss. Marija       0.0\n",
       "92                              Oreskovic, Mr. Luka       0.0\n",
       "93                              Osen, Mr. Olaf Elon       0.0\n",
       "94                                 Osman, Mrs. Mara       1.0\n",
       "95                   O'Sullivan, Miss. Bridget Mary       1.0\n",
       "96                   Palsson, Master. Gosta Leonard       1.0\n",
       "97                      Palsson, Master. Paul Folke       0.0\n",
       "98                       Palsson, Miss. Stina Viola       0.0\n",
       "99                    Palsson, Miss. Torborg Danira       0.0\n",
       "\n",
       "[100 rows x 2 columns]"
      ]
     },
     "execution_count": 647,
     "metadata": {},
     "output_type": "execute_result"
    }
   ],
   "source": [
    "submission.head(100)"
   ]
  },
  {
   "cell_type": "code",
   "execution_count": null,
   "metadata": {
    "collapsed": true
   },
   "outputs": [],
   "source": []
  },
  {
   "cell_type": "code",
   "execution_count": null,
   "metadata": {
    "collapsed": true
   },
   "outputs": [],
   "source": []
  }
 ],
 "metadata": {
  "kernelspec": {
   "display_name": "Python 3",
   "language": "python",
   "name": "python3"
  },
  "language_info": {
   "codemirror_mode": {
    "name": "ipython",
    "version": 3
   },
   "file_extension": ".py",
   "mimetype": "text/x-python",
   "name": "python",
   "nbconvert_exporter": "python",
   "pygments_lexer": "ipython3",
   "version": "3.6.3"
  }
 },
 "nbformat": 4,
 "nbformat_minor": 2
}
