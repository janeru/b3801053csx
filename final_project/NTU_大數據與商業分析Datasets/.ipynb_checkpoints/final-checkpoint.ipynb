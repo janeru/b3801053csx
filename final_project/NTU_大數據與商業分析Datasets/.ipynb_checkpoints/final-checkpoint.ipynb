{
 "cells": [
  {
   "cell_type": "markdown",
   "metadata": {},
   "source": [
    "# Final Project\n",
    "### 目的："
   ]
  },
  {
   "cell_type": "code",
   "execution_count": 116,
   "metadata": {
    "collapsed": true
   },
   "outputs": [],
   "source": [
    "import matplotlib.pyplot as plt\n",
    "import pandas as pd\n",
    "import numpy as np\n",
    "%matplotlib inline\n",
    "import seaborn as sns"
   ]
  },
  {
   "cell_type": "markdown",
   "metadata": {},
   "source": [
    "### 需要用到的data，Orders.csv、PromotionOrders.csv"
   ]
  },
  {
   "cell_type": "code",
   "execution_count": 31,
   "metadata": {
    "scrolled": false
   },
   "outputs": [
    {
     "name": "stderr",
     "output_type": "stream",
     "text": [
      "/Users/liuqieru/anaconda3/lib/python3.6/site-packages/IPython/core/interactiveshell.py:2698: DtypeWarning: Columns (23) have mixed types. Specify dtype option on import or set low_memory=False.\n",
      "  interactivity=interactivity, compiler=compiler, result=result)\n"
     ]
    }
   ],
   "source": [
    "df_orders = pd.read_csv('Orders.csv')\n",
    "df_promo = pd.read_csv('PromotionOrders.csv')"
   ]
  },
  {
   "cell_type": "code",
   "execution_count": 32,
   "metadata": {},
   "outputs": [
    {
     "name": "stdout",
     "output_type": "stream",
     "text": [
      "Index(['DateId', 'MemberId', 'OrderGroupCode', 'TrackSourceTypeDef',\n",
      "       'TrackDeviceTypeDef', 'PayProfileTypeDef', 'SalesOrderSlaveId',\n",
      "       'SalePageId', 'IsMajor', 'IsGift', 'IsSalePageGift', 'Quantity',\n",
      "       'UnitPrice', 'PromotionDiscount', 'ECouponId', 'ECouponDiscount',\n",
      "       'SalesOrderSlaveTotalPayment', 'SalesOrderSlaveDateTime',\n",
      "       'SalesOrderReceiverId', 'City', 'District', 'ZipCode', 'StoreName',\n",
      "       'StoreId', 'DeliverTypeDef', 'StatusDef', 'ReturnGoodsDateId',\n",
      "       'CauseDef'],\n",
      "      dtype='object')\n",
      "\n",
      "\n",
      "Index(['SalesOrderSlaveId', 'PromotionId', 'SalesOrderSlavePromotionDiscount',\n",
      "       'SalesOrderSlavePromotionDiscountAllocated',\n",
      "       'SalesOrderSlavePromotionDiscountAllocatedQty',\n",
      "       'SalesOrderSlavePromotionDiscountRate', 'DiscountType',\n",
      "       'PromotionCondition_DiscountPrice', 'PromotionCondition_DiscountRate',\n",
      "       'PromotionCondition_TotalPrice', 'PromotionCondition_TotalQty',\n",
      "       'PromotionStartDateTime', 'PromotionEndDateTime'],\n",
      "      dtype='object')\n"
     ]
    }
   ],
   "source": [
    "print(df_orders.columns)\n",
    "print(\"\\n\")\n",
    "print(df_promo.columns)"
   ]
  },
  {
   "cell_type": "markdown",
   "metadata": {},
   "source": [
    "## 折扣類型"
   ]
  },
  {
   "cell_type": "code",
   "execution_count": 33,
   "metadata": {},
   "outputs": [
    {
     "data": {
      "text/plain": [
       "array(['滿額折現', '滿件打折', '任選優惠價', '滿額贈', '會員滿額打折', '滿件折現', '滿額打折'],\n",
       "      dtype=object)"
      ]
     },
     "execution_count": 33,
     "metadata": {},
     "output_type": "execute_result"
    }
   ],
   "source": [
    "df_promo['DiscountType'].unique()"
   ]
  },
  {
   "attachments": {},
   "cell_type": "markdown",
   "metadata": {},
   "source": [
    "## 想看滿額金額與折扣類型(滿額折現,滿額打折)的關係"
   ]
  },
  {
   "cell_type": "code",
   "execution_count": 34,
   "metadata": {
    "collapsed": true
   },
   "outputs": [],
   "source": [
    "df_promo = df_promo[(df_promo['DiscountType'] == '滿額折現') | (df_promo['DiscountType'] == '滿額打折')]"
   ]
  },
  {
   "cell_type": "code",
   "execution_count": 35,
   "metadata": {},
   "outputs": [
    {
     "data": {
      "text/plain": [
       "array([1000.,  666., 1200.,  299.,  899.,  800., 1500.,  888.,  399.,\n",
       "       1111.,  799.,  777.])"
      ]
     },
     "execution_count": 35,
     "metadata": {},
     "output_type": "execute_result"
    }
   ],
   "source": [
    "df_promo['PromotionCondition_TotalPrice'].unique()"
   ]
  },
  {
   "cell_type": "code",
   "execution_count": 36,
   "metadata": {},
   "outputs": [
    {
     "data": {
      "text/html": [
       "<div>\n",
       "<style>\n",
       "    .dataframe thead tr:only-child th {\n",
       "        text-align: right;\n",
       "    }\n",
       "\n",
       "    .dataframe thead th {\n",
       "        text-align: left;\n",
       "    }\n",
       "\n",
       "    .dataframe tbody tr th {\n",
       "        vertical-align: top;\n",
       "    }\n",
       "</style>\n",
       "<table border=\"1\" class=\"dataframe\">\n",
       "  <thead>\n",
       "    <tr style=\"text-align: right;\">\n",
       "      <th></th>\n",
       "      <th>SalesOrderSlaveId</th>\n",
       "      <th>PromotionId</th>\n",
       "      <th>SalesOrderSlavePromotionDiscount</th>\n",
       "      <th>SalesOrderSlavePromotionDiscountAllocated</th>\n",
       "      <th>SalesOrderSlavePromotionDiscountAllocatedQty</th>\n",
       "      <th>SalesOrderSlavePromotionDiscountRate</th>\n",
       "      <th>DiscountType</th>\n",
       "      <th>PromotionCondition_DiscountPrice</th>\n",
       "      <th>PromotionCondition_DiscountRate</th>\n",
       "      <th>PromotionCondition_TotalPrice</th>\n",
       "      <th>PromotionCondition_TotalQty</th>\n",
       "      <th>PromotionStartDateTime</th>\n",
       "      <th>PromotionEndDateTime</th>\n",
       "    </tr>\n",
       "  </thead>\n",
       "  <tbody>\n",
       "    <tr>\n",
       "      <th>0</th>\n",
       "      <td>40086585</td>\n",
       "      <td>62671</td>\n",
       "      <td>100.0</td>\n",
       "      <td>-12.0</td>\n",
       "      <td>1</td>\n",
       "      <td>0.0</td>\n",
       "      <td>滿額折現</td>\n",
       "      <td>100.0</td>\n",
       "      <td>0.0</td>\n",
       "      <td>1000.0</td>\n",
       "      <td>0</td>\n",
       "      <td>2017-07-10 11:00:00.000</td>\n",
       "      <td>2017-07-31 10:59:00.000</td>\n",
       "    </tr>\n",
       "    <tr>\n",
       "      <th>1</th>\n",
       "      <td>40088089</td>\n",
       "      <td>62671</td>\n",
       "      <td>100.0</td>\n",
       "      <td>-12.0</td>\n",
       "      <td>1</td>\n",
       "      <td>0.0</td>\n",
       "      <td>滿額折現</td>\n",
       "      <td>100.0</td>\n",
       "      <td>0.0</td>\n",
       "      <td>1000.0</td>\n",
       "      <td>0</td>\n",
       "      <td>2017-07-10 11:00:00.000</td>\n",
       "      <td>2017-07-31 10:59:00.000</td>\n",
       "    </tr>\n",
       "    <tr>\n",
       "      <th>2</th>\n",
       "      <td>40090756</td>\n",
       "      <td>62671</td>\n",
       "      <td>100.0</td>\n",
       "      <td>-12.0</td>\n",
       "      <td>1</td>\n",
       "      <td>0.0</td>\n",
       "      <td>滿額折現</td>\n",
       "      <td>100.0</td>\n",
       "      <td>0.0</td>\n",
       "      <td>1000.0</td>\n",
       "      <td>0</td>\n",
       "      <td>2017-07-10 11:00:00.000</td>\n",
       "      <td>2017-07-31 10:59:00.000</td>\n",
       "    </tr>\n",
       "    <tr>\n",
       "      <th>3</th>\n",
       "      <td>40090763</td>\n",
       "      <td>62671</td>\n",
       "      <td>100.0</td>\n",
       "      <td>-12.0</td>\n",
       "      <td>1</td>\n",
       "      <td>0.0</td>\n",
       "      <td>滿額折現</td>\n",
       "      <td>100.0</td>\n",
       "      <td>0.0</td>\n",
       "      <td>1000.0</td>\n",
       "      <td>0</td>\n",
       "      <td>2017-07-10 11:00:00.000</td>\n",
       "      <td>2017-07-31 10:59:00.000</td>\n",
       "    </tr>\n",
       "    <tr>\n",
       "      <th>4</th>\n",
       "      <td>40091003</td>\n",
       "      <td>62671</td>\n",
       "      <td>100.0</td>\n",
       "      <td>-12.0</td>\n",
       "      <td>1</td>\n",
       "      <td>0.0</td>\n",
       "      <td>滿額折現</td>\n",
       "      <td>100.0</td>\n",
       "      <td>0.0</td>\n",
       "      <td>1000.0</td>\n",
       "      <td>0</td>\n",
       "      <td>2017-07-10 11:00:00.000</td>\n",
       "      <td>2017-07-31 10:59:00.000</td>\n",
       "    </tr>\n",
       "  </tbody>\n",
       "</table>\n",
       "</div>"
      ],
      "text/plain": [
       "   SalesOrderSlaveId  PromotionId  SalesOrderSlavePromotionDiscount  \\\n",
       "0           40086585        62671                             100.0   \n",
       "1           40088089        62671                             100.0   \n",
       "2           40090756        62671                             100.0   \n",
       "3           40090763        62671                             100.0   \n",
       "4           40091003        62671                             100.0   \n",
       "\n",
       "   SalesOrderSlavePromotionDiscountAllocated  \\\n",
       "0                                      -12.0   \n",
       "1                                      -12.0   \n",
       "2                                      -12.0   \n",
       "3                                      -12.0   \n",
       "4                                      -12.0   \n",
       "\n",
       "   SalesOrderSlavePromotionDiscountAllocatedQty  \\\n",
       "0                                             1   \n",
       "1                                             1   \n",
       "2                                             1   \n",
       "3                                             1   \n",
       "4                                             1   \n",
       "\n",
       "   SalesOrderSlavePromotionDiscountRate DiscountType  \\\n",
       "0                                   0.0         滿額折現   \n",
       "1                                   0.0         滿額折現   \n",
       "2                                   0.0         滿額折現   \n",
       "3                                   0.0         滿額折現   \n",
       "4                                   0.0         滿額折現   \n",
       "\n",
       "   PromotionCondition_DiscountPrice  PromotionCondition_DiscountRate  \\\n",
       "0                             100.0                              0.0   \n",
       "1                             100.0                              0.0   \n",
       "2                             100.0                              0.0   \n",
       "3                             100.0                              0.0   \n",
       "4                             100.0                              0.0   \n",
       "\n",
       "   PromotionCondition_TotalPrice  PromotionCondition_TotalQty  \\\n",
       "0                         1000.0                            0   \n",
       "1                         1000.0                            0   \n",
       "2                         1000.0                            0   \n",
       "3                         1000.0                            0   \n",
       "4                         1000.0                            0   \n",
       "\n",
       "    PromotionStartDateTime     PromotionEndDateTime  \n",
       "0  2017-07-10 11:00:00.000  2017-07-31 10:59:00.000  \n",
       "1  2017-07-10 11:00:00.000  2017-07-31 10:59:00.000  \n",
       "2  2017-07-10 11:00:00.000  2017-07-31 10:59:00.000  \n",
       "3  2017-07-10 11:00:00.000  2017-07-31 10:59:00.000  \n",
       "4  2017-07-10 11:00:00.000  2017-07-31 10:59:00.000  "
      ]
     },
     "execution_count": 36,
     "metadata": {},
     "output_type": "execute_result"
    }
   ],
   "source": [
    "df_promo_tot = df_promo[df_promo['PromotionCondition_TotalPrice'].notnull()]\n",
    "df_promo_tot.head()"
   ]
  },
  {
   "cell_type": "code",
   "execution_count": 37,
   "metadata": {},
   "outputs": [
    {
     "data": {
      "text/html": [
       "<div>\n",
       "<style>\n",
       "    .dataframe thead tr:only-child th {\n",
       "        text-align: right;\n",
       "    }\n",
       "\n",
       "    .dataframe thead th {\n",
       "        text-align: left;\n",
       "    }\n",
       "\n",
       "    .dataframe tbody tr th {\n",
       "        vertical-align: top;\n",
       "    }\n",
       "</style>\n",
       "<table border=\"1\" class=\"dataframe\">\n",
       "  <thead>\n",
       "    <tr style=\"text-align: right;\">\n",
       "      <th></th>\n",
       "      <th>SalesOrderSlaveId</th>\n",
       "      <th>DiscountType</th>\n",
       "      <th>PromotionCondition_TotalPrice</th>\n",
       "    </tr>\n",
       "  </thead>\n",
       "  <tbody>\n",
       "    <tr>\n",
       "      <th>0</th>\n",
       "      <td>40086585</td>\n",
       "      <td>滿額折現</td>\n",
       "      <td>1000.0</td>\n",
       "    </tr>\n",
       "    <tr>\n",
       "      <th>1</th>\n",
       "      <td>40088089</td>\n",
       "      <td>滿額折現</td>\n",
       "      <td>1000.0</td>\n",
       "    </tr>\n",
       "    <tr>\n",
       "      <th>2</th>\n",
       "      <td>40090756</td>\n",
       "      <td>滿額折現</td>\n",
       "      <td>1000.0</td>\n",
       "    </tr>\n",
       "    <tr>\n",
       "      <th>3</th>\n",
       "      <td>40090763</td>\n",
       "      <td>滿額折現</td>\n",
       "      <td>1000.0</td>\n",
       "    </tr>\n",
       "    <tr>\n",
       "      <th>4</th>\n",
       "      <td>40091003</td>\n",
       "      <td>滿額折現</td>\n",
       "      <td>1000.0</td>\n",
       "    </tr>\n",
       "  </tbody>\n",
       "</table>\n",
       "</div>"
      ],
      "text/plain": [
       "   SalesOrderSlaveId DiscountType  PromotionCondition_TotalPrice\n",
       "0           40086585         滿額折現                         1000.0\n",
       "1           40088089         滿額折現                         1000.0\n",
       "2           40090756         滿額折現                         1000.0\n",
       "3           40090763         滿額折現                         1000.0\n",
       "4           40091003         滿額折現                         1000.0"
      ]
     },
     "execution_count": 37,
     "metadata": {},
     "output_type": "execute_result"
    }
   ],
   "source": [
    "df_promo_tot = df_promo_tot[['SalesOrderSlaveId','DiscountType','PromotionCondition_TotalPrice']]\n",
    "df_promo_tot.head()"
   ]
  },
  {
   "cell_type": "code",
   "execution_count": 38,
   "metadata": {},
   "outputs": [
    {
     "data": {
      "text/html": [
       "<div>\n",
       "<style>\n",
       "    .dataframe thead tr:only-child th {\n",
       "        text-align: right;\n",
       "    }\n",
       "\n",
       "    .dataframe thead th {\n",
       "        text-align: left;\n",
       "    }\n",
       "\n",
       "    .dataframe tbody tr th {\n",
       "        vertical-align: top;\n",
       "    }\n",
       "</style>\n",
       "<table border=\"1\" class=\"dataframe\">\n",
       "  <thead>\n",
       "    <tr style=\"text-align: right;\">\n",
       "      <th></th>\n",
       "      <th>OrderGroupCode</th>\n",
       "      <th>SalesOrderSlaveId</th>\n",
       "      <th>MemberId</th>\n",
       "      <th>Quantity</th>\n",
       "      <th>UnitPrice</th>\n",
       "      <th>SalesOrderSlaveTotalPayment</th>\n",
       "      <th>PromotionDiscount</th>\n",
       "      <th>StatusDef</th>\n",
       "    </tr>\n",
       "  </thead>\n",
       "  <tbody>\n",
       "    <tr>\n",
       "      <th>0</th>\n",
       "      <td>b'\\xd0_\\x8eby\\xe8\\x88\\xa5\\x85\\xe4\\x15\\nMC\\xeaO...</td>\n",
       "      <td>4457777</td>\n",
       "      <td>1388133</td>\n",
       "      <td>1</td>\n",
       "      <td>350.0</td>\n",
       "      <td>350.0</td>\n",
       "      <td>0.0</td>\n",
       "      <td>Finish</td>\n",
       "    </tr>\n",
       "    <tr>\n",
       "      <th>1</th>\n",
       "      <td>b'\\xd0_\\x8eby\\xe8\\x88\\xa5\\x85\\xe4\\x15\\nMC\\xeaO...</td>\n",
       "      <td>4457778</td>\n",
       "      <td>1388133</td>\n",
       "      <td>1</td>\n",
       "      <td>199.0</td>\n",
       "      <td>199.0</td>\n",
       "      <td>0.0</td>\n",
       "      <td>Finish</td>\n",
       "    </tr>\n",
       "    <tr>\n",
       "      <th>2</th>\n",
       "      <td>b'\\xd0_\\x8eby\\xe8\\x88\\xa5\\x85\\xe4\\x15\\nMC\\xeaO...</td>\n",
       "      <td>4457779</td>\n",
       "      <td>1388133</td>\n",
       "      <td>1</td>\n",
       "      <td>199.0</td>\n",
       "      <td>199.0</td>\n",
       "      <td>0.0</td>\n",
       "      <td>Finish</td>\n",
       "    </tr>\n",
       "    <tr>\n",
       "      <th>3</th>\n",
       "      <td>b'\\xd0_\\x8eby\\xe8\\x88\\xa5\\x85\\xe4\\x15\\nMC\\xeaO...</td>\n",
       "      <td>4457780</td>\n",
       "      <td>1388133</td>\n",
       "      <td>1</td>\n",
       "      <td>225.0</td>\n",
       "      <td>225.0</td>\n",
       "      <td>0.0</td>\n",
       "      <td>Finish</td>\n",
       "    </tr>\n",
       "    <tr>\n",
       "      <th>4</th>\n",
       "      <td>b\"\\x04?}pe$m\\x7f\\x85\\xa0y\\x81'e5\\xca\\xbb\\xf9\\x...</td>\n",
       "      <td>4457791</td>\n",
       "      <td>365787</td>\n",
       "      <td>1</td>\n",
       "      <td>100.0</td>\n",
       "      <td>100.0</td>\n",
       "      <td>0.0</td>\n",
       "      <td>Finish</td>\n",
       "    </tr>\n",
       "  </tbody>\n",
       "</table>\n",
       "</div>"
      ],
      "text/plain": [
       "                                      OrderGroupCode  SalesOrderSlaveId  \\\n",
       "0  b'\\xd0_\\x8eby\\xe8\\x88\\xa5\\x85\\xe4\\x15\\nMC\\xeaO...            4457777   \n",
       "1  b'\\xd0_\\x8eby\\xe8\\x88\\xa5\\x85\\xe4\\x15\\nMC\\xeaO...            4457778   \n",
       "2  b'\\xd0_\\x8eby\\xe8\\x88\\xa5\\x85\\xe4\\x15\\nMC\\xeaO...            4457779   \n",
       "3  b'\\xd0_\\x8eby\\xe8\\x88\\xa5\\x85\\xe4\\x15\\nMC\\xeaO...            4457780   \n",
       "4  b\"\\x04?}pe$m\\x7f\\x85\\xa0y\\x81'e5\\xca\\xbb\\xf9\\x...            4457791   \n",
       "\n",
       "   MemberId  Quantity  UnitPrice  SalesOrderSlaveTotalPayment  \\\n",
       "0   1388133         1      350.0                        350.0   \n",
       "1   1388133         1      199.0                        199.0   \n",
       "2   1388133         1      199.0                        199.0   \n",
       "3   1388133         1      225.0                        225.0   \n",
       "4    365787         1      100.0                        100.0   \n",
       "\n",
       "   PromotionDiscount StatusDef  \n",
       "0                0.0    Finish  \n",
       "1                0.0    Finish  \n",
       "2                0.0    Finish  \n",
       "3                0.0    Finish  \n",
       "4                0.0    Finish  "
      ]
     },
     "execution_count": 38,
     "metadata": {},
     "output_type": "execute_result"
    }
   ],
   "source": [
    "df_orders = df_orders[['OrderGroupCode','SalesOrderSlaveId','MemberId', 'Quantity','UnitPrice','SalesOrderSlaveTotalPayment','PromotionDiscount','StatusDef']]\n",
    "df_orders.head()"
   ]
  },
  {
   "cell_type": "code",
   "execution_count": 39,
   "metadata": {},
   "outputs": [
    {
     "data": {
      "text/html": [
       "<div>\n",
       "<style>\n",
       "    .dataframe thead tr:only-child th {\n",
       "        text-align: right;\n",
       "    }\n",
       "\n",
       "    .dataframe thead th {\n",
       "        text-align: left;\n",
       "    }\n",
       "\n",
       "    .dataframe tbody tr th {\n",
       "        vertical-align: top;\n",
       "    }\n",
       "</style>\n",
       "<table border=\"1\" class=\"dataframe\">\n",
       "  <thead>\n",
       "    <tr style=\"text-align: right;\">\n",
       "      <th></th>\n",
       "      <th>SalesOrderSlaveId</th>\n",
       "      <th>DiscountType</th>\n",
       "      <th>PromotionCondition_TotalPrice</th>\n",
       "      <th>OrderGroupCode</th>\n",
       "      <th>MemberId</th>\n",
       "      <th>Quantity</th>\n",
       "      <th>UnitPrice</th>\n",
       "      <th>SalesOrderSlaveTotalPayment</th>\n",
       "      <th>PromotionDiscount</th>\n",
       "      <th>StatusDef</th>\n",
       "    </tr>\n",
       "  </thead>\n",
       "  <tbody>\n",
       "    <tr>\n",
       "      <th>0</th>\n",
       "      <td>40086585</td>\n",
       "      <td>滿額折現</td>\n",
       "      <td>1000.0</td>\n",
       "      <td>b'!\\x96P\\x13\\xc6\\xed\\xdb\\xe7\\xc7\\x01\\xefz\\xe8\\...</td>\n",
       "      <td>779715.0</td>\n",
       "      <td>1.0</td>\n",
       "      <td>320.0</td>\n",
       "      <td>308.0</td>\n",
       "      <td>-12.0</td>\n",
       "      <td>Cancel</td>\n",
       "    </tr>\n",
       "    <tr>\n",
       "      <th>1</th>\n",
       "      <td>40088089</td>\n",
       "      <td>滿額折現</td>\n",
       "      <td>1000.0</td>\n",
       "      <td>b'$\\xf5LTr\\x86\\xaf\\x1c\\xbc\\x8c\\xed\\xbcD\\x9cw\\x...</td>\n",
       "      <td>607036.0</td>\n",
       "      <td>1.0</td>\n",
       "      <td>180.0</td>\n",
       "      <td>168.0</td>\n",
       "      <td>-12.0</td>\n",
       "      <td>Finish</td>\n",
       "    </tr>\n",
       "    <tr>\n",
       "      <th>2</th>\n",
       "      <td>40090756</td>\n",
       "      <td>滿額折現</td>\n",
       "      <td>1000.0</td>\n",
       "      <td>b'\\xbc\\xcd\\xc1rIU\\xbc\\x84\\xaa[f\\xc8\\xf1\\xdd\\x8...</td>\n",
       "      <td>801590.0</td>\n",
       "      <td>1.0</td>\n",
       "      <td>199.0</td>\n",
       "      <td>187.0</td>\n",
       "      <td>-12.0</td>\n",
       "      <td>Cancel</td>\n",
       "    </tr>\n",
       "    <tr>\n",
       "      <th>3</th>\n",
       "      <td>40090763</td>\n",
       "      <td>滿額折現</td>\n",
       "      <td>1000.0</td>\n",
       "      <td>b'\\xbc\\xcd\\xc1rIU\\xbc\\x84\\xaa[f\\xc8\\xf1\\xdd\\x8...</td>\n",
       "      <td>801590.0</td>\n",
       "      <td>1.0</td>\n",
       "      <td>295.0</td>\n",
       "      <td>283.0</td>\n",
       "      <td>-12.0</td>\n",
       "      <td>Cancel</td>\n",
       "    </tr>\n",
       "    <tr>\n",
       "      <th>4</th>\n",
       "      <td>40091003</td>\n",
       "      <td>滿額折現</td>\n",
       "      <td>1000.0</td>\n",
       "      <td>b'\\xca\\xe2\\xaa3m\\xc6\\xc0/\\x8d\\xb9\\xaa\\x9b\\xff\\...</td>\n",
       "      <td>32633.0</td>\n",
       "      <td>1.0</td>\n",
       "      <td>250.0</td>\n",
       "      <td>238.0</td>\n",
       "      <td>-12.0</td>\n",
       "      <td>Overdue</td>\n",
       "    </tr>\n",
       "  </tbody>\n",
       "</table>\n",
       "</div>"
      ],
      "text/plain": [
       "   SalesOrderSlaveId DiscountType  PromotionCondition_TotalPrice  \\\n",
       "0           40086585         滿額折現                         1000.0   \n",
       "1           40088089         滿額折現                         1000.0   \n",
       "2           40090756         滿額折現                         1000.0   \n",
       "3           40090763         滿額折現                         1000.0   \n",
       "4           40091003         滿額折現                         1000.0   \n",
       "\n",
       "                                      OrderGroupCode  MemberId  Quantity  \\\n",
       "0  b'!\\x96P\\x13\\xc6\\xed\\xdb\\xe7\\xc7\\x01\\xefz\\xe8\\...  779715.0       1.0   \n",
       "1  b'$\\xf5LTr\\x86\\xaf\\x1c\\xbc\\x8c\\xed\\xbcD\\x9cw\\x...  607036.0       1.0   \n",
       "2  b'\\xbc\\xcd\\xc1rIU\\xbc\\x84\\xaa[f\\xc8\\xf1\\xdd\\x8...  801590.0       1.0   \n",
       "3  b'\\xbc\\xcd\\xc1rIU\\xbc\\x84\\xaa[f\\xc8\\xf1\\xdd\\x8...  801590.0       1.0   \n",
       "4  b'\\xca\\xe2\\xaa3m\\xc6\\xc0/\\x8d\\xb9\\xaa\\x9b\\xff\\...   32633.0       1.0   \n",
       "\n",
       "   UnitPrice  SalesOrderSlaveTotalPayment  PromotionDiscount StatusDef  \n",
       "0      320.0                        308.0              -12.0    Cancel  \n",
       "1      180.0                        168.0              -12.0    Finish  \n",
       "2      199.0                        187.0              -12.0    Cancel  \n",
       "3      295.0                        283.0              -12.0    Cancel  \n",
       "4      250.0                        238.0              -12.0   Overdue  "
      ]
     },
     "execution_count": 39,
     "metadata": {},
     "output_type": "execute_result"
    }
   ],
   "source": [
    "df = pd.merge(df_promo_tot,df_orders, how='left', on='SalesOrderSlaveId')\n",
    "df.head()"
   ]
  },
  {
   "cell_type": "markdown",
   "metadata": {},
   "source": [
    "## 資料篩選出狀態完成的訂單"
   ]
  },
  {
   "cell_type": "code",
   "execution_count": 40,
   "metadata": {
    "collapsed": true
   },
   "outputs": [],
   "source": [
    "df_fin = df[df['StatusDef'] == 'Finish']"
   ]
  },
  {
   "cell_type": "code",
   "execution_count": 62,
   "metadata": {},
   "outputs": [
    {
     "data": {
      "text/html": [
       "<div>\n",
       "<style>\n",
       "    .dataframe thead tr:only-child th {\n",
       "        text-align: right;\n",
       "    }\n",
       "\n",
       "    .dataframe thead th {\n",
       "        text-align: left;\n",
       "    }\n",
       "\n",
       "    .dataframe tbody tr th {\n",
       "        vertical-align: top;\n",
       "    }\n",
       "</style>\n",
       "<table border=\"1\" class=\"dataframe\">\n",
       "  <thead>\n",
       "    <tr style=\"text-align: right;\">\n",
       "      <th></th>\n",
       "      <th>SalesOrderSlaveId</th>\n",
       "      <th>DiscountType</th>\n",
       "      <th>PromotionCondition_TotalPrice</th>\n",
       "      <th>OrderGroupCode</th>\n",
       "      <th>MemberId</th>\n",
       "      <th>Quantity</th>\n",
       "      <th>UnitPrice</th>\n",
       "      <th>SalesOrderSlaveTotalPayment</th>\n",
       "      <th>PromotionDiscount</th>\n",
       "      <th>StatusDef</th>\n",
       "    </tr>\n",
       "  </thead>\n",
       "  <tbody>\n",
       "    <tr>\n",
       "      <th>1</th>\n",
       "      <td>40088089</td>\n",
       "      <td>滿額折現</td>\n",
       "      <td>1000.0</td>\n",
       "      <td>b'$\\xf5LTr\\x86\\xaf\\x1c\\xbc\\x8c\\xed\\xbcD\\x9cw\\x...</td>\n",
       "      <td>607036.0</td>\n",
       "      <td>1.0</td>\n",
       "      <td>180.0</td>\n",
       "      <td>168.0</td>\n",
       "      <td>-12.0</td>\n",
       "      <td>Finish</td>\n",
       "    </tr>\n",
       "    <tr>\n",
       "      <th>5</th>\n",
       "      <td>40092800</td>\n",
       "      <td>滿額折現</td>\n",
       "      <td>1000.0</td>\n",
       "      <td>b'\\xbcyi\\x9cq\\xff\\xe4\\xf8\\xa8h\\x7f\\xf4\\xfemB\\x...</td>\n",
       "      <td>617240.0</td>\n",
       "      <td>1.0</td>\n",
       "      <td>399.0</td>\n",
       "      <td>387.0</td>\n",
       "      <td>-12.0</td>\n",
       "      <td>Finish</td>\n",
       "    </tr>\n",
       "    <tr>\n",
       "      <th>7</th>\n",
       "      <td>40096618</td>\n",
       "      <td>滿額折現</td>\n",
       "      <td>1000.0</td>\n",
       "      <td>b'\\xcb\\xcf\\xd7\\xf2u\\x8e\\xda\\xc4}\\x94I\\xfc\\t\\x8...</td>\n",
       "      <td>4768317.0</td>\n",
       "      <td>1.0</td>\n",
       "      <td>199.0</td>\n",
       "      <td>187.0</td>\n",
       "      <td>-12.0</td>\n",
       "      <td>Finish</td>\n",
       "    </tr>\n",
       "    <tr>\n",
       "      <th>8</th>\n",
       "      <td>40096621</td>\n",
       "      <td>滿額折現</td>\n",
       "      <td>1000.0</td>\n",
       "      <td>b'\\xcb\\xcf\\xd7\\xf2u\\x8e\\xda\\xc4}\\x94I\\xfc\\t\\x8...</td>\n",
       "      <td>4768317.0</td>\n",
       "      <td>1.0</td>\n",
       "      <td>199.0</td>\n",
       "      <td>187.0</td>\n",
       "      <td>-12.0</td>\n",
       "      <td>Finish</td>\n",
       "    </tr>\n",
       "    <tr>\n",
       "      <th>9</th>\n",
       "      <td>40096623</td>\n",
       "      <td>滿額折現</td>\n",
       "      <td>1000.0</td>\n",
       "      <td>b'\\xcb\\xcf\\xd7\\xf2u\\x8e\\xda\\xc4}\\x94I\\xfc\\t\\x8...</td>\n",
       "      <td>4768317.0</td>\n",
       "      <td>1.0</td>\n",
       "      <td>199.0</td>\n",
       "      <td>187.0</td>\n",
       "      <td>-12.0</td>\n",
       "      <td>Finish</td>\n",
       "    </tr>\n",
       "  </tbody>\n",
       "</table>\n",
       "</div>"
      ],
      "text/plain": [
       "   SalesOrderSlaveId DiscountType  PromotionCondition_TotalPrice  \\\n",
       "1           40088089         滿額折現                         1000.0   \n",
       "5           40092800         滿額折現                         1000.0   \n",
       "7           40096618         滿額折現                         1000.0   \n",
       "8           40096621         滿額折現                         1000.0   \n",
       "9           40096623         滿額折現                         1000.0   \n",
       "\n",
       "                                      OrderGroupCode   MemberId  Quantity  \\\n",
       "1  b'$\\xf5LTr\\x86\\xaf\\x1c\\xbc\\x8c\\xed\\xbcD\\x9cw\\x...   607036.0       1.0   \n",
       "5  b'\\xbcyi\\x9cq\\xff\\xe4\\xf8\\xa8h\\x7f\\xf4\\xfemB\\x...   617240.0       1.0   \n",
       "7  b'\\xcb\\xcf\\xd7\\xf2u\\x8e\\xda\\xc4}\\x94I\\xfc\\t\\x8...  4768317.0       1.0   \n",
       "8  b'\\xcb\\xcf\\xd7\\xf2u\\x8e\\xda\\xc4}\\x94I\\xfc\\t\\x8...  4768317.0       1.0   \n",
       "9  b'\\xcb\\xcf\\xd7\\xf2u\\x8e\\xda\\xc4}\\x94I\\xfc\\t\\x8...  4768317.0       1.0   \n",
       "\n",
       "   UnitPrice  SalesOrderSlaveTotalPayment  PromotionDiscount StatusDef  \n",
       "1      180.0                        168.0              -12.0    Finish  \n",
       "5      399.0                        387.0              -12.0    Finish  \n",
       "7      199.0                        187.0              -12.0    Finish  \n",
       "8      199.0                        187.0              -12.0    Finish  \n",
       "9      199.0                        187.0              -12.0    Finish  "
      ]
     },
     "execution_count": 62,
     "metadata": {},
     "output_type": "execute_result"
    }
   ],
   "source": [
    "df_fin.head()"
   ]
  },
  {
   "cell_type": "code",
   "execution_count": 65,
   "metadata": {},
   "outputs": [
    {
     "data": {
      "text/html": [
       "<div>\n",
       "<style>\n",
       "    .dataframe thead tr:only-child th {\n",
       "        text-align: right;\n",
       "    }\n",
       "\n",
       "    .dataframe thead th {\n",
       "        text-align: left;\n",
       "    }\n",
       "\n",
       "    .dataframe tbody tr th {\n",
       "        vertical-align: top;\n",
       "    }\n",
       "</style>\n",
       "<table border=\"1\" class=\"dataframe\">\n",
       "  <thead>\n",
       "    <tr style=\"text-align: right;\">\n",
       "      <th></th>\n",
       "      <th></th>\n",
       "      <th>SalesOrderSlaveTotalPayment</th>\n",
       "      <th>PromotionDiscount</th>\n",
       "    </tr>\n",
       "    <tr>\n",
       "      <th>OrderGroupCode</th>\n",
       "      <th>PromotionCondition_TotalPrice</th>\n",
       "      <th></th>\n",
       "      <th></th>\n",
       "    </tr>\n",
       "  </thead>\n",
       "  <tbody>\n",
       "    <tr>\n",
       "      <th>b\" $\\xe1\\x81\\xef\\x9c\\xa4h]\\t5-\\xcf'+[\\xfe\\x97\\xc3+\"</th>\n",
       "      <th>899.0</th>\n",
       "      <td>1583.0</td>\n",
       "      <td>-100.0</td>\n",
       "    </tr>\n",
       "    <tr>\n",
       "      <th>b\" %\\xbd\\xa2\\x0c\\x04&amp;\\xa6d\\xc1K\\xd5\\xc0\\xb7v'\\xfe&gt;\\x92Q\"</th>\n",
       "      <th>800.0</th>\n",
       "      <td>697.0</td>\n",
       "      <td>-352.0</td>\n",
       "    </tr>\n",
       "    <tr>\n",
       "      <th rowspan=\"2\" valign=\"top\">b\" '\\x7f4\\xac\\x1a\\x91WL\\xb9\\xbc\\xf0\\xf5\\xdd\\xa0\\xad\\xc7\\x88~\\xee\"</th>\n",
       "      <th>800.0</th>\n",
       "      <td>2042.0</td>\n",
       "      <td>-390.0</td>\n",
       "    </tr>\n",
       "    <tr>\n",
       "      <th>1200.0</th>\n",
       "      <td>2042.0</td>\n",
       "      <td>-390.0</td>\n",
       "    </tr>\n",
       "    <tr>\n",
       "      <th>b\" *A\\x13\\xe9\\x17\\xfc\\xc3(\\x0f\\x08\\xa2bh\\xdd\\xd4t'\\x12:\"</th>\n",
       "      <th>1500.0</th>\n",
       "      <td>1051.0</td>\n",
       "      <td>-96.0</td>\n",
       "    </tr>\n",
       "  </tbody>\n",
       "</table>\n",
       "</div>"
      ],
      "text/plain": [
       "                                                                                  SalesOrderSlaveTotalPayment  \\\n",
       "OrderGroupCode                                     PromotionCondition_TotalPrice                                \n",
       "b\" $\\xe1\\x81\\xef\\x9c\\xa4h]\\t5-\\xcf'+[\\xfe\\x97\\x... 899.0                                               1583.0   \n",
       "b\" %\\xbd\\xa2\\x0c\\x04&\\xa6d\\xc1K\\xd5\\xc0\\xb7v'\\x... 800.0                                                697.0   \n",
       "b\" '\\x7f4\\xac\\x1a\\x91WL\\xb9\\xbc\\xf0\\xf5\\xdd\\xa0... 800.0                                               2042.0   \n",
       "                                                   1200.0                                              2042.0   \n",
       "b\" *A\\x13\\xe9\\x17\\xfc\\xc3(\\x0f\\x08\\xa2bh\\xdd\\xd... 1500.0                                              1051.0   \n",
       "\n",
       "                                                                                  PromotionDiscount  \n",
       "OrderGroupCode                                     PromotionCondition_TotalPrice                     \n",
       "b\" $\\xe1\\x81\\xef\\x9c\\xa4h]\\t5-\\xcf'+[\\xfe\\x97\\x... 899.0                                     -100.0  \n",
       "b\" %\\xbd\\xa2\\x0c\\x04&\\xa6d\\xc1K\\xd5\\xc0\\xb7v'\\x... 800.0                                     -352.0  \n",
       "b\" '\\x7f4\\xac\\x1a\\x91WL\\xb9\\xbc\\xf0\\xf5\\xdd\\xa0... 800.0                                     -390.0  \n",
       "                                                   1200.0                                    -390.0  \n",
       "b\" *A\\x13\\xe9\\x17\\xfc\\xc3(\\x0f\\x08\\xa2bh\\xdd\\xd... 1500.0                                     -96.0  "
      ]
     },
     "execution_count": 65,
     "metadata": {},
     "output_type": "execute_result"
    }
   ],
   "source": [
    "df_new = df_fin.groupby(by=['OrderGroupCode','PromotionCondition_TotalPrice'])['SalesOrderSlaveTotalPayment','PromotionDiscount'].sum()\n",
    "df_new.head()"
   ]
  },
  {
   "cell_type": "markdown",
   "metadata": {},
   "source": [
    "把index變成column"
   ]
  },
  {
   "cell_type": "code",
   "execution_count": 66,
   "metadata": {},
   "outputs": [],
   "source": [
    "df_new = df_new.reset_index()\n",
    "df_new.reset_index(inplace=True)"
   ]
  },
  {
   "cell_type": "code",
   "execution_count": 73,
   "metadata": {},
   "outputs": [
    {
     "data": {
      "text/html": [
       "<div>\n",
       "<style>\n",
       "    .dataframe thead tr:only-child th {\n",
       "        text-align: right;\n",
       "    }\n",
       "\n",
       "    .dataframe thead th {\n",
       "        text-align: left;\n",
       "    }\n",
       "\n",
       "    .dataframe tbody tr th {\n",
       "        vertical-align: top;\n",
       "    }\n",
       "</style>\n",
       "<table border=\"1\" class=\"dataframe\">\n",
       "  <thead>\n",
       "    <tr style=\"text-align: right;\">\n",
       "      <th></th>\n",
       "      <th>index</th>\n",
       "      <th>OrderGroupCode</th>\n",
       "      <th>PromotionCondition_TotalPrice</th>\n",
       "      <th>SalesOrderSlaveTotalPayment</th>\n",
       "      <th>PromotionDiscount</th>\n",
       "      <th>NetProfit</th>\n",
       "    </tr>\n",
       "  </thead>\n",
       "  <tbody>\n",
       "    <tr>\n",
       "      <th>0</th>\n",
       "      <td>0</td>\n",
       "      <td>b\" $\\xe1\\x81\\xef\\x9c\\xa4h]\\t5-\\xcf'+[\\xfe\\x97\\...</td>\n",
       "      <td>899.0</td>\n",
       "      <td>1583.0</td>\n",
       "      <td>-100.0</td>\n",
       "      <td>684.0</td>\n",
       "    </tr>\n",
       "    <tr>\n",
       "      <th>1</th>\n",
       "      <td>1</td>\n",
       "      <td>b\" %\\xbd\\xa2\\x0c\\x04&amp;\\xa6d\\xc1K\\xd5\\xc0\\xb7v'\\...</td>\n",
       "      <td>800.0</td>\n",
       "      <td>697.0</td>\n",
       "      <td>-352.0</td>\n",
       "      <td>-103.0</td>\n",
       "    </tr>\n",
       "    <tr>\n",
       "      <th>2</th>\n",
       "      <td>2</td>\n",
       "      <td>b\" '\\x7f4\\xac\\x1a\\x91WL\\xb9\\xbc\\xf0\\xf5\\xdd\\xa...</td>\n",
       "      <td>800.0</td>\n",
       "      <td>2042.0</td>\n",
       "      <td>-390.0</td>\n",
       "      <td>1242.0</td>\n",
       "    </tr>\n",
       "    <tr>\n",
       "      <th>3</th>\n",
       "      <td>3</td>\n",
       "      <td>b\" '\\x7f4\\xac\\x1a\\x91WL\\xb9\\xbc\\xf0\\xf5\\xdd\\xa...</td>\n",
       "      <td>1200.0</td>\n",
       "      <td>2042.0</td>\n",
       "      <td>-390.0</td>\n",
       "      <td>842.0</td>\n",
       "    </tr>\n",
       "    <tr>\n",
       "      <th>4</th>\n",
       "      <td>4</td>\n",
       "      <td>b\" *A\\x13\\xe9\\x17\\xfc\\xc3(\\x0f\\x08\\xa2bh\\xdd\\x...</td>\n",
       "      <td>1500.0</td>\n",
       "      <td>1051.0</td>\n",
       "      <td>-96.0</td>\n",
       "      <td>-449.0</td>\n",
       "    </tr>\n",
       "  </tbody>\n",
       "</table>\n",
       "</div>"
      ],
      "text/plain": [
       "   index                                     OrderGroupCode  \\\n",
       "0      0  b\" $\\xe1\\x81\\xef\\x9c\\xa4h]\\t5-\\xcf'+[\\xfe\\x97\\...   \n",
       "1      1  b\" %\\xbd\\xa2\\x0c\\x04&\\xa6d\\xc1K\\xd5\\xc0\\xb7v'\\...   \n",
       "2      2  b\" '\\x7f4\\xac\\x1a\\x91WL\\xb9\\xbc\\xf0\\xf5\\xdd\\xa...   \n",
       "3      3  b\" '\\x7f4\\xac\\x1a\\x91WL\\xb9\\xbc\\xf0\\xf5\\xdd\\xa...   \n",
       "4      4  b\" *A\\x13\\xe9\\x17\\xfc\\xc3(\\x0f\\x08\\xa2bh\\xdd\\x...   \n",
       "\n",
       "   PromotionCondition_TotalPrice  SalesOrderSlaveTotalPayment  \\\n",
       "0                          899.0                       1583.0   \n",
       "1                          800.0                        697.0   \n",
       "2                          800.0                       2042.0   \n",
       "3                         1200.0                       2042.0   \n",
       "4                         1500.0                       1051.0   \n",
       "\n",
       "   PromotionDiscount  NetProfit  \n",
       "0             -100.0      684.0  \n",
       "1             -352.0     -103.0  \n",
       "2             -390.0     1242.0  \n",
       "3             -390.0      842.0  \n",
       "4              -96.0     -449.0  "
      ]
     },
     "execution_count": 73,
     "metadata": {},
     "output_type": "execute_result"
    }
   ],
   "source": [
    "df_new.head()"
   ]
  },
  {
   "cell_type": "markdown",
   "metadata": {},
   "source": [
    "計算獲利"
   ]
  },
  {
   "cell_type": "code",
   "execution_count": 71,
   "metadata": {},
   "outputs": [],
   "source": [
    "df_new['NetProfit'] =  df_new['SalesOrderSlaveTotalPayment']-df_new['PromotionCondition_TotalPrice']"
   ]
  },
  {
   "cell_type": "code",
   "execution_count": 102,
   "metadata": {},
   "outputs": [
    {
     "data": {
      "text/plain": [
       "array([ 899.,  800., 1200., 1500.,  666., 1000.,  888., 1111.,  299.,\n",
       "        799.,  399.,  777.])"
      ]
     },
     "execution_count": 102,
     "metadata": {},
     "output_type": "execute_result"
    }
   ],
   "source": [
    "df_new['PromotionCondition_TotalPrice'].unique()"
   ]
  },
  {
   "cell_type": "code",
   "execution_count": 115,
   "metadata": {},
   "outputs": [
    {
     "name": "stdout",
     "output_type": "stream",
     "text": [
      "滿額折現/折扣訂單總數： 1900069\n",
      "滿額折現/折扣訂單完成數： 1434656\n",
      "滿額折現/折扣訂單完成率： 0.7550546848561815\n"
     ]
    }
   ],
   "source": [
    "print(\"滿額折現/折扣訂單總數：\", df.shape[0])\n",
    "print(\"滿額折現/折扣訂單完成數：\", df_fin.shape[0])\n",
    "print(\"滿額折現/折扣訂單完成率：\", df_fin.shape[0]/df.shape[0])"
   ]
  },
  {
   "cell_type": "markdown",
   "metadata": {},
   "source": [
    "## 將折扣條件：以滿額金額分類，分別以X軸為成本，Y軸為篩選的折扣活動獲利  來進行視覺化"
   ]
  },
  {
   "cell_type": "code",
   "execution_count": 103,
   "metadata": {},
   "outputs": [
    {
     "data": {
      "text/plain": [
       "[<matplotlib.lines.Line2D at 0x1636f92b0>]"
      ]
     },
     "execution_count": 103,
     "metadata": {},
     "output_type": "execute_result"
    },
    {
     "data": {
      "image/png": "[encoded data removed]",
      "text/plain": [
       "<matplotlib.figure.Figure at 0x14d0b6da0>"
      ]
     },
     "metadata": {},
     "output_type": "display_data"
    }
   ],
   "source": [
    "df299 = df_new[df_new['PromotionCondition_TotalPrice']==299.]\n",
    "plt.plot(df299['PromotionDiscount'] , df299['NetProfit'], \"o\")"
   ]
  },
  {
   "cell_type": "code",
   "execution_count": 104,
   "metadata": {},
   "outputs": [
    {
     "data": {
      "text/plain": [
       "[<matplotlib.lines.Line2D at 0x1341874a8>]"
      ]
     },
     "execution_count": 104,
     "metadata": {},
     "output_type": "execute_result"
    },
    {
     "data": {
      "image/png": "[encoded data removed]",
      "text/plain": [
       "<matplotlib.figure.Figure at 0x1586783c8>"
      ]
     },
     "metadata": {},
     "output_type": "display_data"
    }
   ],
   "source": [
    "df399 = df_new[df_new['PromotionCondition_TotalPrice']==399.]\n",
    "plt.plot(df399['PromotionDiscount'] , df399['NetProfit'], \"o\")"
   ]
  },
  {
   "cell_type": "code",
   "execution_count": 105,
   "metadata": {},
   "outputs": [
    {
     "data": {
      "text/plain": [
       "[<matplotlib.lines.Line2D at 0x12b845ac8>]"
      ]
     },
     "execution_count": 105,
     "metadata": {},
     "output_type": "execute_result"
    },
    {
     "data": {
      "image/png": "[encoded data removed]",
      "text/plain": [
       "<matplotlib.figure.Figure at 0x134190518>"
      ]
     },
     "metadata": {},
     "output_type": "display_data"
    }
   ],
   "source": [
    "df666 = df_new[df_new['PromotionCondition_TotalPrice']==666.]\n",
    "plt.plot(df666['PromotionDiscount'] , df666['NetProfit'], \"o\")"
   ]
  },
  {
   "cell_type": "code",
   "execution_count": 106,
   "metadata": {},
   "outputs": [
    {
     "data": {
      "text/plain": [
       "[<matplotlib.lines.Line2D at 0x142984128>]"
      ]
     },
     "execution_count": 106,
     "metadata": {},
     "output_type": "execute_result"
    },
    {
     "data": {
      "image/png": "[encoded data removed]",
      "text/plain": [
       "<matplotlib.figure.Figure at 0x1168fca20>"
      ]
     },
     "metadata": {},
     "output_type": "display_data"
    }
   ],
   "source": [
    "df777 = df_new[df_new['PromotionCondition_TotalPrice']==777.]\n",
    "plt.plot(df777['PromotionDiscount'] , df777['NetProfit'], \"o\")"
   ]
  },
  {
   "cell_type": "code",
   "execution_count": 107,
   "metadata": {},
   "outputs": [
    {
     "data": {
      "text/plain": [
       "[<matplotlib.lines.Line2D at 0x1656c2b38>]"
      ]
     },
     "execution_count": 107,
     "metadata": {},
     "output_type": "execute_result"
    },
    {
     "data": {
      "image/png": "[encoded data removed]",
      "text/plain": [
       "<matplotlib.figure.Figure at 0x1fda8d208>"
      ]
     },
     "metadata": {},
     "output_type": "display_data"
    }
   ],
   "source": [
    "df799 = df_new[df_new['PromotionCondition_TotalPrice']==799.]\n",
    "plt.plot(df799['PromotionDiscount'] , df799['NetProfit'], \"o\")"
   ]
  },
  {
   "cell_type": "code",
   "execution_count": 108,
   "metadata": {},
   "outputs": [
    {
     "data": {
      "text/plain": [
       "[<matplotlib.lines.Line2D at 0x217ad0668>]"
      ]
     },
     "execution_count": 108,
     "metadata": {},
     "output_type": "execute_result"
    },
    {
     "data": {
      "image/png": "[encoded data removed]",
      "text/plain": [
       "<matplotlib.figure.Figure at 0x1472c6588>"
      ]
     },
     "metadata": {},
     "output_type": "display_data"
    }
   ],
   "source": [
    "df800 = df_new[df_new['PromotionCondition_TotalPrice']==800.]\n",
    "plt.plot(df800['PromotionDiscount'] , df800['NetProfit'], \"o\")"
   ]
  },
  {
   "cell_type": "code",
   "execution_count": 109,
   "metadata": {},
   "outputs": [
    {
     "data": {
      "text/plain": [
       "[<matplotlib.lines.Line2D at 0x1452b6d68>]"
      ]
     },
     "execution_count": 109,
     "metadata": {},
     "output_type": "execute_result"
    },
    {
     "data": {
      "image/png": "[encoded data removed]",
      "text/plain": [
       "<matplotlib.figure.Figure at 0x1230c6828>"
      ]
     },
     "metadata": {},
     "output_type": "display_data"
    }
   ],
   "source": [
    "df888 = df_new[df_new['PromotionCondition_TotalPrice']==888.]\n",
    "plt.plot(df888['PromotionDiscount'] , df888['NetProfit'], \"o\")"
   ]
  },
  {
   "cell_type": "code",
   "execution_count": 110,
   "metadata": {},
   "outputs": [
    {
     "data": {
      "text/plain": [
       "[<matplotlib.lines.Line2D at 0x1619a6390>]"
      ]
     },
     "execution_count": 110,
     "metadata": {},
     "output_type": "execute_result"
    },
    {
     "data": {
      "image/png": "[encoded data removed]",
      "text/plain": [
       "<matplotlib.figure.Figure at 0x1452d0dd8>"
      ]
     },
     "metadata": {},
     "output_type": "display_data"
    }
   ],
   "source": [
    "df899 = df_new[df_new['PromotionCondition_TotalPrice']==899.]\n",
    "plt.plot(df899['PromotionDiscount'] , df899['NetProfit'], \"o\")"
   ]
  },
  {
   "cell_type": "code",
   "execution_count": 111,
   "metadata": {},
   "outputs": [
    {
     "data": {
      "text/plain": [
       "[<matplotlib.lines.Line2D at 0x16e50f400>]"
      ]
     },
     "execution_count": 111,
     "metadata": {},
     "output_type": "execute_result"
    },
    {
     "data": {
      "image/png": "[encoded data removed]",
      "text/plain": [
       "<matplotlib.figure.Figure at 0x111ccc128>"
      ]
     },
     "metadata": {},
     "output_type": "display_data"
    }
   ],
   "source": [
    "df1000 = df_new[df_new['PromotionCondition_TotalPrice']==1000.]\n",
    "plt.plot(df1000['PromotionDiscount'] , df1000['NetProfit'], \"o\")"
   ]
  },
  {
   "cell_type": "code",
   "execution_count": 112,
   "metadata": {},
   "outputs": [
    {
     "data": {
      "text/plain": [
       "[<matplotlib.lines.Line2D at 0x14c2ca390>]"
      ]
     },
     "execution_count": 112,
     "metadata": {},
     "output_type": "execute_result"
    },
    {
     "data": {
      "image/png": "[encoded data removed]",
      "text/plain": [
       "<matplotlib.figure.Figure at 0x15b788a20>"
      ]
     },
     "metadata": {},
     "output_type": "display_data"
    }
   ],
   "source": [
    "df1111 = df_new[df_new['PromotionCondition_TotalPrice']==1111.]\n",
    "plt.plot(df1111['PromotionDiscount'] , df1111['NetProfit'], \"o\")"
   ]
  },
  {
   "cell_type": "code",
   "execution_count": 113,
   "metadata": {},
   "outputs": [
    {
     "data": {
      "text/plain": [
       "[<matplotlib.lines.Line2D at 0x12555db70>]"
      ]
     },
     "execution_count": 113,
     "metadata": {},
     "output_type": "execute_result"
    },
    {
     "data": {
      "image/png": "[encoded data removed]",
      "text/plain": [
       "<matplotlib.figure.Figure at 0x14c2c1978>"
      ]
     },
     "metadata": {},
     "output_type": "display_data"
    }
   ],
   "source": [
    "df1200 = df_new[df_new['PromotionCondition_TotalPrice']==1200.]\n",
    "plt.plot(df1200['PromotionDiscount'] , df1200['NetProfit'], \"o\")"
   ]
  },
  {
   "cell_type": "code",
   "execution_count": 114,
   "metadata": {},
   "outputs": [
    {
     "data": {
      "text/plain": [
       "[<matplotlib.lines.Line2D at 0x11c235cc0>]"
      ]
     },
     "execution_count": 114,
     "metadata": {},
     "output_type": "execute_result"
    },
    {
     "data": {
      "image/png": "[encoded data removed]",
      "text/plain": [
       "<matplotlib.figure.Figure at 0x12a0083c8>"
      ]
     },
     "metadata": {},
     "output_type": "display_data"
    }
   ],
   "source": [
    "df1500 = df_new[df_new['PromotionCondition_TotalPrice']==1500.]\n",
    "plt.plot(df1500['PromotionDiscount'] , df1500['NetProfit'], \"o\")"
   ]
  },
  {
   "cell_type": "code",
   "execution_count": 163,
   "metadata": {},
   "outputs": [],
   "source": [
    "import matplotlib.pyplot as plt\n",
    "price = [df299,df399,df666,df777,df799,df800,df888,df899,df1000,df1111,df1200,df1500]\n",
    "name = ['PromotionCondition_TotalPrice:299','PromotionCondition_TotalPrice:399','PromotionCondition_TotalPrice:666','PromotionCondition_TotalPrice:777','PromotionCondition_TotalPrice:799','PromotionCondition_TotalPrice:800','PromotionCondition_TotalPrice:888','899','PromotionCondition_TotalPrice:1000','PromotionCondition_TotalPrice:1111','PromotionCondition_TotalPrice:1200','PromotionCondition_TotalPrice:1500']\n",
    "# for i in range(len(price)):\n",
    "#      plt.plot(price[i]['PromotionDiscount'], price[i]['NetProfit'],'o')"
   ]
  },
  {
   "cell_type": "code",
   "execution_count": 165,
   "metadata": {},
   "outputs": [
    {
     "name": "stdout",
     "output_type": "stream",
     "text": [
      "1\n"
     ]
    },
    {
     "data": {
      "image/png": "[encoded data removed]",
      "text/plain": [
       "<matplotlib.figure.Figure at 0x1538f2dd8>"
      ]
     },
     "metadata": {},
     "output_type": "display_data"
    },
    {
     "name": "stdout",
     "output_type": "stream",
     "text": [
      "2\n"
     ]
    },
    {
     "data": {
      "image/png": "[encoded data removed]",
      "text/plain": [
       "<matplotlib.figure.Figure at 0x127cb52e8>"
      ]
     },
     "metadata": {},
     "output_type": "display_data"
    },
    {
     "name": "stdout",
     "output_type": "stream",
     "text": [
      "3\n"
     ]
    },
    {
     "data": {
      "image/png": "[encoded data removed]",
      "text/plain": [
       "<matplotlib.figure.Figure at 0x154476b38>"
      ]
     },
     "metadata": {},
     "output_type": "display_data"
    },
    {
     "name": "stdout",
     "output_type": "stream",
     "text": [
      "4\n"
     ]
    },
    {
     "data": {
      "image/png": "[encoded data removed]",
      "text/plain": [
       "<matplotlib.figure.Figure at 0x11c236198>"
      ]
     },
     "metadata": {},
     "output_type": "display_data"
    },
    {
     "name": "stdout",
     "output_type": "stream",
     "text": [
      "5\n"
     ]
    },
    {
     "data": {
      "image/png": "[encoded data removed]",
      "text/plain": [
       "<matplotlib.figure.Figure at 0x2056f40b8>"
      ]
     },
     "metadata": {},
     "output_type": "display_data"
    },
    {
     "name": "stdout",
     "output_type": "stream",
     "text": [
      "6\n"
     ]
    },
    {
     "data": {
      "image/png": "[encoded data removed]",
      "text/plain": [
       "<matplotlib.figure.Figure at 0x1ff821160>"
      ]
     },
     "metadata": {},
     "output_type": "display_data"
    },
    {
     "name": "stdout",
     "output_type": "stream",
     "text": [
      "7\n"
     ]
    },
    {
     "data": {
      "image/png": "[encoded data removed]",
      "text/plain": [
       "<matplotlib.figure.Figure at 0x15ff8fd30>"
      ]
     },
     "metadata": {},
     "output_type": "display_data"
    },
    {
     "name": "stdout",
     "output_type": "stream",
     "text": [
      "8\n"
     ]
    },
    {
     "data": {
      "image/png": "[encoded data removed]",
      "text/plain": [
       "<matplotlib.figure.Figure at 0x118ed7588>"
      ]
     },
     "metadata": {},
     "output_type": "display_data"
    },
    {
     "name": "stdout",
     "output_type": "stream",
     "text": [
      "9\n"
     ]
    },
    {
     "data": {
      "image/png": "[encoded data removed]",
      "text/plain": [
       "<matplotlib.figure.Figure at 0x150a54ba8>"
      ]
     },
     "metadata": {},
     "output_type": "display_data"
    },
    {
     "name": "stdout",
     "output_type": "stream",
     "text": [
      "10\n"
     ]
    },
    {
     "data": {
      "image/png": "[encoded data removed]",
      "text/plain": [
       "<matplotlib.figure.Figure at 0x20f200ac8>"
      ]
     },
     "metadata": {},
     "output_type": "display_data"
    },
    {
     "name": "stdout",
     "output_type": "stream",
     "text": [
      "11\n"
     ]
    },
    {
     "data": {
      "image/png": "[encoded data removed]",
      "text/plain": [
       "<matplotlib.figure.Figure at 0x16c56cbe0>"
      ]
     },
     "metadata": {},
     "output_type": "display_data"
    },
    {
     "name": "stdout",
     "output_type": "stream",
     "text": [
      "12\n"
     ]
    },
    {
     "data": {
      "image/png": "[encoded data removed]",
      "text/plain": [
       "<matplotlib.figure.Figure at 0x2246106a0>"
      ]
     },
     "metadata": {},
     "output_type": "display_data"
    }
   ],
   "source": [
    "for i in range(1,len(price)+1):\n",
    "    print(i)\n",
    "    fig = plt.figure(figsize=(10,10))\n",
    "    ax = fig.add_subplot(3,4,i)\n",
    "    ax.plot(price[i-1]['PromotionDiscount'], price[i-1]['NetProfit'],'o')\n",
    "    ax.set_title(str(name[i-1]))\n",
    "    plt.show()  # 展示\n",
    "   \n",
    "    "
   ]
  },
  {
   "cell_type": "markdown",
   "metadata": {},
   "source": [
    "## 結論：可以看出在滿額金額達800以上的分布趨勢類似，獲利大於成本，獲利多集中在0~2000之間，成本集中在1000元以下因此活動類型滿額贈或滿額打折，對他們是很有吸引力的"
   ]
  },
  {
   "cell_type": "code",
   "execution_count": null,
   "metadata": {
    "collapsed": true
   },
   "outputs": [],
   "source": []
  }
 ],
 "metadata": {
  "kernelspec": {
   "display_name": "Python 3",
   "language": "python",
   "name": "python3"
  }
 },
 "nbformat": 4,
 "nbformat_minor": 2
}
