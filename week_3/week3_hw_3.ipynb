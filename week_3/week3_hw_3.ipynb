{
 "cells": [
  {
   "cell_type": "markdown",
   "metadata": {},
   "source": [
    "<h3>本週任務 ：\n",
    "使用任意畫圖包畫出 星期幾 v.s 銷售量 的 bar chart。</h3>"
   ]
  },
  {
   "cell_type": "markdown",
   "metadata": {},
   "source": [
    "<h4>用91app的資料畫出,星期幾的平均銷售量</h4>"
   ]
  },
  {
   "cell_type": "code",
   "execution_count": 19,
   "metadata": {
    "collapsed": true
   },
   "outputs": [],
   "source": [
    "import matplotlib.pyplot as plt\n",
    "import pandas as pd\n",
    "import numpy as np\n",
    "plt.style.use('ggplot')\n",
    "%matplotlib inline"
   ]
  },
  {
   "cell_type": "code",
   "execution_count": 20,
   "metadata": {
    "collapsed": true
   },
   "outputs": [],
   "source": [
    "df = pd.read_csv('Ntu_Orders.csv')"
   ]
  },
  {
   "cell_type": "code",
   "execution_count": 21,
   "metadata": {},
   "outputs": [
    {
     "data": {
      "text/html": [
       "<div>\n",
       "<style>\n",
       "    .dataframe thead tr:only-child th {\n",
       "        text-align: right;\n",
       "    }\n",
       "\n",
       "    .dataframe thead th {\n",
       "        text-align: left;\n",
       "    }\n",
       "\n",
       "    .dataframe tbody tr th {\n",
       "        vertical-align: top;\n",
       "    }\n",
       "</style>\n",
       "<table border=\"1\" class=\"dataframe\">\n",
       "  <thead>\n",
       "    <tr style=\"text-align: right;\">\n",
       "      <th></th>\n",
       "      <th>new_DateId</th>\n",
       "      <th>Quantity</th>\n",
       "    </tr>\n",
       "  </thead>\n",
       "  <tbody>\n",
       "    <tr>\n",
       "      <th>0</th>\n",
       "      <td>2017-01-01</td>\n",
       "      <td>3823</td>\n",
       "    </tr>\n",
       "    <tr>\n",
       "      <th>1</th>\n",
       "      <td>2017-01-02</td>\n",
       "      <td>5105</td>\n",
       "    </tr>\n",
       "    <tr>\n",
       "      <th>2</th>\n",
       "      <td>2017-01-03</td>\n",
       "      <td>3623</td>\n",
       "    </tr>\n",
       "  </tbody>\n",
       "</table>\n",
       "</div>"
      ],
      "text/plain": [
       "  new_DateId  Quantity\n",
       "0 2017-01-01      3823\n",
       "1 2017-01-02      5105\n",
       "2 2017-01-03      3623"
      ]
     },
     "execution_count": 21,
     "metadata": {},
     "output_type": "execute_result"
    }
   ],
   "source": [
    "df['new_DateId'] = pd.to_datetime(df['DateId'].astype(str), format='%Y%m%d')\n",
    "data = df.groupby(by='new_DateId')['Quantity'].sum().to_frame()\n",
    "#讓序號重新編排,確保不會有重複的情形\n",
    "data.reset_index(level=0, inplace=True)\n",
    "data.head(3)"
   ]
  },
  {
   "cell_type": "markdown",
   "metadata": {},
   "source": [
    "*先將日期取出後,再把Quantity算整筆資料中星期幾的平均值"
   ]
  },
  {
   "cell_type": "code",
   "execution_count": 23,
   "metadata": {},
   "outputs": [],
   "source": [
    "import datetime\n",
    "data['week'] = data['new_DateId'].apply(lambda x: x.weekday())\n",
    "data1= data.groupby(by='week')['Quantity'].mean().to_frame()"
   ]
  },
  {
   "cell_type": "code",
   "execution_count": 24,
   "metadata": {},
   "outputs": [
    {
     "data": {
      "text/html": [
       "<div>\n",
       "<style>\n",
       "    .dataframe thead tr:only-child th {\n",
       "        text-align: right;\n",
       "    }\n",
       "\n",
       "    .dataframe thead th {\n",
       "        text-align: left;\n",
       "    }\n",
       "\n",
       "    .dataframe tbody tr th {\n",
       "        vertical-align: top;\n",
       "    }\n",
       "</style>\n",
       "<table border=\"1\" class=\"dataframe\">\n",
       "  <thead>\n",
       "    <tr style=\"text-align: right;\">\n",
       "      <th></th>\n",
       "      <th>week</th>\n",
       "      <th>Quantity</th>\n",
       "    </tr>\n",
       "  </thead>\n",
       "  <tbody>\n",
       "    <tr>\n",
       "      <th>0</th>\n",
       "      <td>0</td>\n",
       "      <td>5853.759259</td>\n",
       "    </tr>\n",
       "    <tr>\n",
       "      <th>1</th>\n",
       "      <td>1</td>\n",
       "      <td>6707.981481</td>\n",
       "    </tr>\n",
       "    <tr>\n",
       "      <th>2</th>\n",
       "      <td>2</td>\n",
       "      <td>6604.396226</td>\n",
       "    </tr>\n",
       "    <tr>\n",
       "      <th>3</th>\n",
       "      <td>3</td>\n",
       "      <td>5833.264151</td>\n",
       "    </tr>\n",
       "    <tr>\n",
       "      <th>4</th>\n",
       "      <td>4</td>\n",
       "      <td>5534.433962</td>\n",
       "    </tr>\n",
       "    <tr>\n",
       "      <th>5</th>\n",
       "      <td>5</td>\n",
       "      <td>6261.679245</td>\n",
       "    </tr>\n",
       "    <tr>\n",
       "      <th>6</th>\n",
       "      <td>6</td>\n",
       "      <td>6524.407407</td>\n",
       "    </tr>\n",
       "  </tbody>\n",
       "</table>\n",
       "</div>"
      ],
      "text/plain": [
       "   week     Quantity\n",
       "0     0  5853.759259\n",
       "1     1  6707.981481\n",
       "2     2  6604.396226\n",
       "3     3  5833.264151\n",
       "4     4  5534.433962\n",
       "5     5  6261.679245\n",
       "6     6  6524.407407"
      ]
     },
     "execution_count": 24,
     "metadata": {},
     "output_type": "execute_result"
    }
   ],
   "source": [
    "data1.reset_index(level=0, inplace=True)#讓序號重新編排,確保不會有重複的情形\n",
    "data1"
   ]
  },
  {
   "cell_type": "markdown",
   "metadata": {},
   "source": [
    "*將index name重新命名"
   ]
  },
  {
   "cell_type": "code",
   "execution_count": 25,
   "metadata": {},
   "outputs": [
    {
     "data": {
      "text/html": [
       "<div>\n",
       "<style>\n",
       "    .dataframe thead tr:only-child th {\n",
       "        text-align: right;\n",
       "    }\n",
       "\n",
       "    .dataframe thead th {\n",
       "        text-align: left;\n",
       "    }\n",
       "\n",
       "    .dataframe tbody tr th {\n",
       "        vertical-align: top;\n",
       "    }\n",
       "</style>\n",
       "<table border=\"1\" class=\"dataframe\">\n",
       "  <thead>\n",
       "    <tr style=\"text-align: right;\">\n",
       "      <th></th>\n",
       "      <th>week</th>\n",
       "      <th>Quantity</th>\n",
       "    </tr>\n",
       "    <tr>\n",
       "      <th>week_name</th>\n",
       "      <th></th>\n",
       "      <th></th>\n",
       "    </tr>\n",
       "  </thead>\n",
       "  <tbody>\n",
       "    <tr>\n",
       "      <th>Sun.</th>\n",
       "      <td>0</td>\n",
       "      <td>5853.759259</td>\n",
       "    </tr>\n",
       "    <tr>\n",
       "      <th>Mon.</th>\n",
       "      <td>1</td>\n",
       "      <td>6707.981481</td>\n",
       "    </tr>\n",
       "    <tr>\n",
       "      <th>Tues.</th>\n",
       "      <td>2</td>\n",
       "      <td>6604.396226</td>\n",
       "    </tr>\n",
       "    <tr>\n",
       "      <th>Wed.</th>\n",
       "      <td>3</td>\n",
       "      <td>5833.264151</td>\n",
       "    </tr>\n",
       "    <tr>\n",
       "      <th>Thur.</th>\n",
       "      <td>4</td>\n",
       "      <td>5534.433962</td>\n",
       "    </tr>\n",
       "    <tr>\n",
       "      <th>Fri.</th>\n",
       "      <td>5</td>\n",
       "      <td>6261.679245</td>\n",
       "    </tr>\n",
       "    <tr>\n",
       "      <th>Sat.</th>\n",
       "      <td>6</td>\n",
       "      <td>6524.407407</td>\n",
       "    </tr>\n",
       "  </tbody>\n",
       "</table>\n",
       "</div>"
      ],
      "text/plain": [
       "           week     Quantity\n",
       "week_name                   \n",
       "Sun.          0  5853.759259\n",
       "Mon.          1  6707.981481\n",
       "Tues.         2  6604.396226\n",
       "Wed.          3  5833.264151\n",
       "Thur.         4  5534.433962\n",
       "Fri.          5  6261.679245\n",
       "Sat.          6  6524.407407"
      ]
     },
     "execution_count": 25,
     "metadata": {},
     "output_type": "execute_result"
    }
   ],
   "source": [
    "data1.index.rename('week_name', inplace=True)\n",
    "d = {0: 'Sun.', 1: 'Mon.', 2: 'Tues.',3: 'Wed.',4:'Thur.',5:'Fri.',6:'Sat.'}\n",
    "#data1.index.replace(d)\n",
    "data1.rename(index=d)"
   ]
  },
  {
   "cell_type": "markdown",
   "metadata": {},
   "source": [
    "*畫圖"
   ]
  },
  {
   "cell_type": "code",
   "execution_count": 26,
   "metadata": {},
   "outputs": [
    {
     "data": {
      "image/png": "[encoded data removed]",
      "text/plain": [
       "<matplotlib.figure.Figure at 0x11e75c4a8>"
      ]
     },
     "metadata": {},
     "output_type": "display_data"
    }
   ],
   "source": [
    "# Choose the height of the bars\n",
    "Q = data1['Quantity']\n",
    " \n",
    "# Choose the names of the bars\n",
    "bars = ('Sun.','Mon.','Tues.','Wed.','Thur.','Fri.','Sat.')\n",
    "y_pos = np.arange(len(bars))\n",
    " \n",
    "# Create bars\n",
    "plt.bar(y_pos, Q,color='yellow')\n",
    " \n",
    "# Create names on the x-axis\n",
    "plt.xticks(y_pos, bars, color='blue')\n",
    "plt.yticks(color='blue')\n",
    "plt.xlabel('Week')\n",
    "plt.ylabel('Mean Quantity')\n",
    "plt.title('Quantity and week relationship')\n",
    " \n",
    "# Show graphic\n",
    "plt.show()\n"
   ]
  },
  {
   "cell_type": "markdown",
   "metadata": {},
   "source": [
    "發現：星期平均銷售量趨勢從星期五上升,而星期一,二,六銷售量較高"
   ]
  }
 ],
 "metadata": {
  "kernelspec": {
   "display_name": "Python 3",
   "language": "python",
   "name": "python3"
  },
  "language_info": {
   "codemirror_mode": {
    "name": "ipython",
    "version": 3
   },
   "file_extension": ".py",
   "mimetype": "text/x-python",
   "name": "python",
   "nbconvert_exporter": "python",
   "pygments_lexer": "ipython3",
   "version": "3.6.3"
  }
 },
 "nbformat": 4,
 "nbformat_minor": 2
}
