{
 "cells": [
  {
   "cell_type": "code",
   "execution_count": 34,
   "metadata": {
    "collapsed": true
   },
   "outputs": [],
   "source": [
    "import requests\n",
    "import json\n",
    "import pandas as pd\n",
    "import csv\n",
    "from wordcloud import WordCloud\n",
    "import matplotlib.pyplot as plt\n",
    "import jieba\n",
    "import numpy as np\n",
    "% matplotlib inline\n",
    "head=\"https://graph.facebook.com/v2.12/\"\n",
    "whoandtime=\"1498922743698823/posts?limit=20&since=2017-12-20&until=2017-12-31&access_token=\"\n",
    "token=\"EAACEdEose0cBAGYk1eQgDwmOdZCbwmJdZBzh0MCqZBIca0vLISgbbZAgqgCkoXu9BKeMeb9TbLhpX8DqVbL3WyY4pDZCQoZBivWuIJe5HeTchWy7P2TrE0u81ZCBAnZCJn2xnTuCgeTRXPr4ZAwQ2MGN6t9AVdHYSksaWZCYleNQoAGBll5ZAnmhaM6PCRp0I3GgyZCHbaANcVoe7gZDZD\"\n",
    "url = head+whoandtime+token\n",
    "\n",
    "url1 = \"https://graph.facebook.com/v2.12/1498922743698823/posts?since=2017-12-20&until=2017-12-31&limit=20&access_token=EAACEdEose0cBAGYk1eQgDwmOdZCbwmJdZBzh0MCqZBIca0vLISgbbZAgqgCkoXu9BKeMeb9TbLhpX8DqVbL3WyY4pDZCQoZBivWuIJe5HeTchWy7P2TrE0u81ZCBAnZCJn2xnTuCgeTRXPr4ZAwQ2MGN6t9AVdHYSksaWZCYleNQoAGBll5ZAnmhaM6PCRp0I3GgyZCHbaANcVoe7gZDZD\"\n",
    "#url1 = \"https://graph.facebook.com/v2.12/1498922743698823/posts?limit=20&until=2017-10-31&since=2017-10-01&access_token=EAACEdEose0cBAJmMcyt4IIz8HYDW2PxpJfZAQRvHFJZBtMDS67lC4lFLT7UXElre8mNDMFHxOMZBYZBQMEsoIVOYx8hVXICX6VEAE1ZBCk9SZAZCs3AS7lyacYaxw2nr88Rhv6OOZAx2Vpexn024wofxcArVB6BFhykVRfuNLEzvlFi25ZAJW48tH724HIwglEbkUbIqX149vZCQZDZD\""
   ]
  },
  {
   "cell_type": "code",
   "execution_count": 35,
   "metadata": {},
   "outputs": [
    {
     "data": {
      "text/plain": [
       "'https://graph.facebook.com/v2.12/1498922743698823/posts?limit=20&since=2017-12-20&until=2017-12-31&access_token=EAACEdEose0cBAGYk1eQgDwmOdZCbwmJdZBzh0MCqZBIca0vLISgbbZAgqgCkoXu9BKeMeb9TbLhpX8DqVbL3WyY4pDZCQoZBivWuIJe5HeTchWy7P2TrE0u81ZCBAnZCJn2xnTuCgeTRXPr4ZAwQ2MGN6t9AVdHYSksaWZCYleNQoAGBll5ZAnmhaM6PCRp0I3GgyZCHbaANcVoe7gZDZD'"
      ]
     },
     "execution_count": 35,
     "metadata": {},
     "output_type": "execute_result"
    }
   ],
   "source": [
    "url"
   ]
  },
  {
   "cell_type": "markdown",
   "metadata": {},
   "source": [
    "*爬取12/20~12/31的91APP臉書"
   ]
  },
  {
   "cell_type": "code",
   "execution_count": 37,
   "metadata": {},
   "outputs": [
    {
     "data": {
      "text/plain": [
       "{'data': [{'created_time': '2017-12-29T13:00:00+0000',\n",
       "   'id': '1498922743698823_2027662857491473',\n",
       "   'message': '✨2018年依舊會是創作者大放異彩的一年!!!'},\n",
       "  {'created_time': '2017-12-29T04:32:29+0000',\n",
       "   'id': '1498922743698823_2027524624171963',\n",
       "   'message': '✨影片已成為2018數位行銷主戰場。'},\n",
       "  {'created_time': '2017-12-28T14:04:30+0000',\n",
       "   'id': '1498922743698823_2027216010869491',\n",
       "   'message': '【91嚴選!】aPure，人間的臭腳終結者。\\n看看一家從解決老闆自身腳臭問題起家，\\n一步一腳印，走過13年市場變化，\\n最終成為台灣臭腳終結者的故事。'},\n",
       "  {'created_time': '2017-12-27T04:05:42+0000',\n",
       "   'id': '1498922743698823_2026581374266288',\n",
       "   'message': '✨2017年大家都在Google什麼？',\n",
       "   'story': \"91APP 品牌新零售 shared 廣告裁判's video.\"},\n",
       "  {'created_time': '2017-12-26T13:31:01+0000',\n",
       "   'id': '1498922743698823_2026283177629441',\n",
       "   'message': '✨連攝影師也要加入AI失業大軍的行列了是否？'},\n",
       "  {'created_time': '2017-12-26T04:18:29+0000',\n",
       "   'id': '1498922743698823_2026098680981224',\n",
       "   'message': '#91APP新零售開店系統 #全台老闆持續關注\\n2018說明會登場!!!\\n想要把握零售商機，\\n在新的一年拔得頭籌？\\n趕快報名了解>> goo.gl/kxcm3q\\n\\n✓在說明會中，你可以知道：\\n1.如何一鍵按下讓粉絲團一秒變商店\\n2.如何用91APP系統快速切入新零售\\n3.專業顧問一對一解答開店疑難雜症'},\n",
       "  {'created_time': '2017-12-25T13:00:00+0000',\n",
       "   'id': '1498922743698823_2025733761017716',\n",
       "   'message': '✨時薪4500元欸，看到小編瞳孔都放大惹'},\n",
       "  {'created_time': '2017-12-25T04:02:42+0000',\n",
       "   'id': '1498922743698823_2025600284364397',\n",
       "   'message': '✨最強廣告大集結，每則都讓人印象深刻。'},\n",
       "  {'created_time': '2017-12-24T13:02:22+0000',\n",
       "   'id': '1498922743698823_2025247597732999',\n",
       "   'message': '今天就是平安夜了!!!\\n不知大家這個聖誕周末是怎麼度過的呢？\\n上星期五 #91APP福委會 舉辦了「松果聖誕樹DIY」活動\\n我們除了手做自己獨一無二的聖誕樹外，\\n也開放票選「最美的松果聖誕樹」，\\n下面這幾棵樹，就是經大家票選，\\n一致公認最美的前十名!!!\\n(好拉第八名是有點黑人問號)\\n\\n在這個關於愛與分享的夜晚，\\n祝福所有人，聖誕節快樂，\\n也希望大家明天都能帶著好心情上班!!!',\n",
       "   'story': '91APP 品牌新零售 added 10 new photos.'},\n",
       "  {'created_time': '2017-12-22T13:00:00+0000',\n",
       "   'id': '1498922743698823_2024145937843165',\n",
       "   'message': '✨企業要在新零售時代找到新商機，抓住消費者的心，行銷策略與行銷工具也必須跟著調整因應。'},\n",
       "  {'created_time': '2017-12-21T13:00:00+0000',\n",
       "   'id': '1498922743698823_2023729487884810',\n",
       "   'message': '【91嚴選!每周一店】\\n「拼圖可以有很多想像！它也可以是藝術、文化、童趣...」\\n拼圖總動員於2015年2月開始營運，\\n進口日本及、美品牌拼圖，擁有款式豐富及最新的商品！\\n \\n除了販售及進口各國拼圖之外，\\n拼圖總動員最重要的目標是將台灣的人文風景推向國際，\\n用拼圖拼湊出作品裡凝聚的情感，\\n讓拼圖掀起生活中的動人樂章！\\n \\n讓雙眼藉由拼圖，看見不一樣的世界。\\n拼圖總動員官方網站  >>  goo.gl/5k6fWb\\n免費參加開店說明會  >>  goo.gl/kxcm3q'},\n",
       "  {'created_time': '2017-12-21T04:18:31+0000',\n",
       "   'id': '1498922743698823_2023548111236281',\n",
       "   'message': '✨零售商應謹記，男性和女性購物者的差異不僅體現在購買的物品上，他們購物的方式也不一樣。'},\n",
       "  {'created_time': '2017-12-20T04:02:41+0000',\n",
       "   'id': '1498922743698823_2023056454618780',\n",
       "   'message': '✨醜照再見。'}],\n",
       " 'paging': {'cursors': {'after': 'Q2c4U1pXNTBYM0YxWlhKNVgzTjBiM0o1WDJsa0R5UXhORGs0T1RJeU56UXpOams0T0RJek9qSTROalkwTnpneE1EVTJORFE0TURRNE1EWVBER0ZA3YVY5emRHOXllVjlwWkE4aE1UUTVPRGt5TWpjME16WTVPRGd5TTE4eU1ESXpNRFUyTkRVME5qRTROemd3RHdSMGFXMWxCbG81NE9FQgZDZD',\n",
       "   'before': 'Q2c4U1pXNTBYM0YxWlhKNVgzTjBiM0o1WDJsa0R5VXhORGs0T1RJeU56UXpOams0T0RJek9pMHhNelEzT1RrM01EazBNVGswTVRBMk1UWTJEd3hoY0dsZAmMzUnZAjbmxmYVdRUElURTBPVGc1TWpJM05ETTJPVGc0TWpOZAk1qQXlOelkyTWpnMU56UTVNVFEzTXc4RWRHbHRaUVphUmp4UUFRPT0ZD'}}}"
      ]
     },
     "execution_count": 37,
     "metadata": {},
     "output_type": "execute_result"
    }
   ],
   "source": [
    "response = requests.get(url1)\n",
    "html = json.loads(response.text) \n",
    "html"
   ]
  },
  {
   "cell_type": "code",
   "execution_count": 38,
   "metadata": {},
   "outputs": [
    {
     "data": {
      "text/plain": [
       "[{'created_time': '2017-12-29T13:00:00+0000',\n",
       "  'id': '1498922743698823_2027662857491473',\n",
       "  'message': '✨2018年依舊會是創作者大放異彩的一年!!!'},\n",
       " {'created_time': '2017-12-29T04:32:29+0000',\n",
       "  'id': '1498922743698823_2027524624171963',\n",
       "  'message': '✨影片已成為2018數位行銷主戰場。'},\n",
       " {'created_time': '2017-12-28T14:04:30+0000',\n",
       "  'id': '1498922743698823_2027216010869491',\n",
       "  'message': '【91嚴選!】aPure，人間的臭腳終結者。\\n看看一家從解決老闆自身腳臭問題起家，\\n一步一腳印，走過13年市場變化，\\n最終成為台灣臭腳終結者的故事。'},\n",
       " {'created_time': '2017-12-27T04:05:42+0000',\n",
       "  'id': '1498922743698823_2026581374266288',\n",
       "  'message': '✨2017年大家都在Google什麼？',\n",
       "  'story': \"91APP 品牌新零售 shared 廣告裁判's video.\"},\n",
       " {'created_time': '2017-12-26T13:31:01+0000',\n",
       "  'id': '1498922743698823_2026283177629441',\n",
       "  'message': '✨連攝影師也要加入AI失業大軍的行列了是否？'},\n",
       " {'created_time': '2017-12-26T04:18:29+0000',\n",
       "  'id': '1498922743698823_2026098680981224',\n",
       "  'message': '#91APP新零售開店系統 #全台老闆持續關注\\n2018說明會登場!!!\\n想要把握零售商機，\\n在新的一年拔得頭籌？\\n趕快報名了解>> goo.gl/kxcm3q\\n\\n✓在說明會中，你可以知道：\\n1.如何一鍵按下讓粉絲團一秒變商店\\n2.如何用91APP系統快速切入新零售\\n3.專業顧問一對一解答開店疑難雜症'},\n",
       " {'created_time': '2017-12-25T13:00:00+0000',\n",
       "  'id': '1498922743698823_2025733761017716',\n",
       "  'message': '✨時薪4500元欸，看到小編瞳孔都放大惹'},\n",
       " {'created_time': '2017-12-25T04:02:42+0000',\n",
       "  'id': '1498922743698823_2025600284364397',\n",
       "  'message': '✨最強廣告大集結，每則都讓人印象深刻。'},\n",
       " {'created_time': '2017-12-24T13:02:22+0000',\n",
       "  'id': '1498922743698823_2025247597732999',\n",
       "  'message': '今天就是平安夜了!!!\\n不知大家這個聖誕周末是怎麼度過的呢？\\n上星期五 #91APP福委會 舉辦了「松果聖誕樹DIY」活動\\n我們除了手做自己獨一無二的聖誕樹外，\\n也開放票選「最美的松果聖誕樹」，\\n下面這幾棵樹，就是經大家票選，\\n一致公認最美的前十名!!!\\n(好拉第八名是有點黑人問號)\\n\\n在這個關於愛與分享的夜晚，\\n祝福所有人，聖誕節快樂，\\n也希望大家明天都能帶著好心情上班!!!',\n",
       "  'story': '91APP 品牌新零售 added 10 new photos.'},\n",
       " {'created_time': '2017-12-22T13:00:00+0000',\n",
       "  'id': '1498922743698823_2024145937843165',\n",
       "  'message': '✨企業要在新零售時代找到新商機，抓住消費者的心，行銷策略與行銷工具也必須跟著調整因應。'},\n",
       " {'created_time': '2017-12-21T13:00:00+0000',\n",
       "  'id': '1498922743698823_2023729487884810',\n",
       "  'message': '【91嚴選!每周一店】\\n「拼圖可以有很多想像！它也可以是藝術、文化、童趣...」\\n拼圖總動員於2015年2月開始營運，\\n進口日本及、美品牌拼圖，擁有款式豐富及最新的商品！\\n \\n除了販售及進口各國拼圖之外，\\n拼圖總動員最重要的目標是將台灣的人文風景推向國際，\\n用拼圖拼湊出作品裡凝聚的情感，\\n讓拼圖掀起生活中的動人樂章！\\n \\n讓雙眼藉由拼圖，看見不一樣的世界。\\n拼圖總動員官方網站  >>  goo.gl/5k6fWb\\n免費參加開店說明會  >>  goo.gl/kxcm3q'},\n",
       " {'created_time': '2017-12-21T04:18:31+0000',\n",
       "  'id': '1498922743698823_2023548111236281',\n",
       "  'message': '✨零售商應謹記，男性和女性購物者的差異不僅體現在購買的物品上，他們購物的方式也不一樣。'},\n",
       " {'created_time': '2017-12-20T04:02:41+0000',\n",
       "  'id': '1498922743698823_2023056454618780',\n",
       "  'message': '✨醜照再見。'}]"
      ]
     },
     "execution_count": 38,
     "metadata": {},
     "output_type": "execute_result"
    }
   ],
   "source": [
    "html['data']"
   ]
  },
  {
   "cell_type": "code",
   "execution_count": 40,
   "metadata": {
    "collapsed": true
   },
   "outputs": [],
   "source": [
    "#以dataframe的格式看\n",
    "s1 = pd.DataFrame.from_dict(html['data'])"
   ]
  },
  {
   "cell_type": "code",
   "execution_count": 41,
   "metadata": {},
   "outputs": [
    {
     "data": {
      "text/html": [
       "<div>\n",
       "<style>\n",
       "    .dataframe thead tr:only-child th {\n",
       "        text-align: right;\n",
       "    }\n",
       "\n",
       "    .dataframe thead th {\n",
       "        text-align: left;\n",
       "    }\n",
       "\n",
       "    .dataframe tbody tr th {\n",
       "        vertical-align: top;\n",
       "    }\n",
       "</style>\n",
       "<table border=\"1\" class=\"dataframe\">\n",
       "  <thead>\n",
       "    <tr style=\"text-align: right;\">\n",
       "      <th></th>\n",
       "      <th>created_time</th>\n",
       "      <th>id</th>\n",
       "      <th>message</th>\n",
       "      <th>story</th>\n",
       "    </tr>\n",
       "  </thead>\n",
       "  <tbody>\n",
       "    <tr>\n",
       "      <th>0</th>\n",
       "      <td>2017-12-29T13:00:00+0000</td>\n",
       "      <td>1498922743698823_2027662857491473</td>\n",
       "      <td>✨2018年依舊會是創作者大放異彩的一年!!!</td>\n",
       "      <td>NaN</td>\n",
       "    </tr>\n",
       "    <tr>\n",
       "      <th>1</th>\n",
       "      <td>2017-12-29T04:32:29+0000</td>\n",
       "      <td>1498922743698823_2027524624171963</td>\n",
       "      <td>✨影片已成為2018數位行銷主戰場。</td>\n",
       "      <td>NaN</td>\n",
       "    </tr>\n",
       "    <tr>\n",
       "      <th>2</th>\n",
       "      <td>2017-12-28T14:04:30+0000</td>\n",
       "      <td>1498922743698823_2027216010869491</td>\n",
       "      <td>【91嚴選!】aPure，人間的臭腳終結者。\\n看看一家從解決老闆自身腳臭問題起家，\\n一步...</td>\n",
       "      <td>NaN</td>\n",
       "    </tr>\n",
       "    <tr>\n",
       "      <th>3</th>\n",
       "      <td>2017-12-27T04:05:42+0000</td>\n",
       "      <td>1498922743698823_2026581374266288</td>\n",
       "      <td>✨2017年大家都在Google什麼？</td>\n",
       "      <td>91APP 品牌新零售 shared 廣告裁判's video.</td>\n",
       "    </tr>\n",
       "    <tr>\n",
       "      <th>4</th>\n",
       "      <td>2017-12-26T13:31:01+0000</td>\n",
       "      <td>1498922743698823_2026283177629441</td>\n",
       "      <td>✨連攝影師也要加入AI失業大軍的行列了是否？</td>\n",
       "      <td>NaN</td>\n",
       "    </tr>\n",
       "    <tr>\n",
       "      <th>5</th>\n",
       "      <td>2017-12-26T04:18:29+0000</td>\n",
       "      <td>1498922743698823_2026098680981224</td>\n",
       "      <td>#91APP新零售開店系統 #全台老闆持續關注\\n2018說明會登場!!!\\n想要把握零售商...</td>\n",
       "      <td>NaN</td>\n",
       "    </tr>\n",
       "    <tr>\n",
       "      <th>6</th>\n",
       "      <td>2017-12-25T13:00:00+0000</td>\n",
       "      <td>1498922743698823_2025733761017716</td>\n",
       "      <td>✨時薪4500元欸，看到小編瞳孔都放大惹</td>\n",
       "      <td>NaN</td>\n",
       "    </tr>\n",
       "    <tr>\n",
       "      <th>7</th>\n",
       "      <td>2017-12-25T04:02:42+0000</td>\n",
       "      <td>1498922743698823_2025600284364397</td>\n",
       "      <td>✨最強廣告大集結，每則都讓人印象深刻。</td>\n",
       "      <td>NaN</td>\n",
       "    </tr>\n",
       "    <tr>\n",
       "      <th>8</th>\n",
       "      <td>2017-12-24T13:02:22+0000</td>\n",
       "      <td>1498922743698823_2025247597732999</td>\n",
       "      <td>今天就是平安夜了!!!\\n不知大家這個聖誕周末是怎麼度過的呢？\\n上星期五 #91APP福委...</td>\n",
       "      <td>91APP 品牌新零售 added 10 new photos.</td>\n",
       "    </tr>\n",
       "    <tr>\n",
       "      <th>9</th>\n",
       "      <td>2017-12-22T13:00:00+0000</td>\n",
       "      <td>1498922743698823_2024145937843165</td>\n",
       "      <td>✨企業要在新零售時代找到新商機，抓住消費者的心，行銷策略與行銷工具也必須跟著調整因應。</td>\n",
       "      <td>NaN</td>\n",
       "    </tr>\n",
       "    <tr>\n",
       "      <th>10</th>\n",
       "      <td>2017-12-21T13:00:00+0000</td>\n",
       "      <td>1498922743698823_2023729487884810</td>\n",
       "      <td>【91嚴選!每周一店】\\n「拼圖可以有很多想像！它也可以是藝術、文化、童趣...」\\n拼圖總...</td>\n",
       "      <td>NaN</td>\n",
       "    </tr>\n",
       "    <tr>\n",
       "      <th>11</th>\n",
       "      <td>2017-12-21T04:18:31+0000</td>\n",
       "      <td>1498922743698823_2023548111236281</td>\n",
       "      <td>✨零售商應謹記，男性和女性購物者的差異不僅體現在購買的物品上，他們購物的方式也不一樣。</td>\n",
       "      <td>NaN</td>\n",
       "    </tr>\n",
       "    <tr>\n",
       "      <th>12</th>\n",
       "      <td>2017-12-20T04:02:41+0000</td>\n",
       "      <td>1498922743698823_2023056454618780</td>\n",
       "      <td>✨醜照再見。</td>\n",
       "      <td>NaN</td>\n",
       "    </tr>\n",
       "  </tbody>\n",
       "</table>\n",
       "</div>"
      ],
      "text/plain": [
       "                created_time                                 id  \\\n",
       "0   2017-12-29T13:00:00+0000  1498922743698823_2027662857491473   \n",
       "1   2017-12-29T04:32:29+0000  1498922743698823_2027524624171963   \n",
       "2   2017-12-28T14:04:30+0000  1498922743698823_2027216010869491   \n",
       "3   2017-12-27T04:05:42+0000  1498922743698823_2026581374266288   \n",
       "4   2017-12-26T13:31:01+0000  1498922743698823_2026283177629441   \n",
       "5   2017-12-26T04:18:29+0000  1498922743698823_2026098680981224   \n",
       "6   2017-12-25T13:00:00+0000  1498922743698823_2025733761017716   \n",
       "7   2017-12-25T04:02:42+0000  1498922743698823_2025600284364397   \n",
       "8   2017-12-24T13:02:22+0000  1498922743698823_2025247597732999   \n",
       "9   2017-12-22T13:00:00+0000  1498922743698823_2024145937843165   \n",
       "10  2017-12-21T13:00:00+0000  1498922743698823_2023729487884810   \n",
       "11  2017-12-21T04:18:31+0000  1498922743698823_2023548111236281   \n",
       "12  2017-12-20T04:02:41+0000  1498922743698823_2023056454618780   \n",
       "\n",
       "                                              message  \\\n",
       "0                             ✨2018年依舊會是創作者大放異彩的一年!!!   \n",
       "1                                  ✨影片已成為2018數位行銷主戰場。   \n",
       "2   【91嚴選!】aPure，人間的臭腳終結者。\\n看看一家從解決老闆自身腳臭問題起家，\\n一步...   \n",
       "3                                 ✨2017年大家都在Google什麼？   \n",
       "4                              ✨連攝影師也要加入AI失業大軍的行列了是否？   \n",
       "5   #91APP新零售開店系統 #全台老闆持續關注\\n2018說明會登場!!!\\n想要把握零售商...   \n",
       "6                                ✨時薪4500元欸，看到小編瞳孔都放大惹   \n",
       "7                                 ✨最強廣告大集結，每則都讓人印象深刻。   \n",
       "8   今天就是平安夜了!!!\\n不知大家這個聖誕周末是怎麼度過的呢？\\n上星期五 #91APP福委...   \n",
       "9         ✨企業要在新零售時代找到新商機，抓住消費者的心，行銷策略與行銷工具也必須跟著調整因應。   \n",
       "10  【91嚴選!每周一店】\\n「拼圖可以有很多想像！它也可以是藝術、文化、童趣...」\\n拼圖總...   \n",
       "11        ✨零售商應謹記，男性和女性購物者的差異不僅體現在購買的物品上，他們購物的方式也不一樣。   \n",
       "12                                             ✨醜照再見。   \n",
       "\n",
       "                               story  \n",
       "0                                NaN  \n",
       "1                                NaN  \n",
       "2                                NaN  \n",
       "3   91APP 品牌新零售 shared 廣告裁判's video.  \n",
       "4                                NaN  \n",
       "5                                NaN  \n",
       "6                                NaN  \n",
       "7                                NaN  \n",
       "8   91APP 品牌新零售 added 10 new photos.  \n",
       "9                                NaN  \n",
       "10                               NaN  \n",
       "11                               NaN  \n",
       "12                               NaN  "
      ]
     },
     "execution_count": 41,
     "metadata": {},
     "output_type": "execute_result"
    }
   ],
   "source": [
    "s1"
   ]
  },
  {
   "cell_type": "markdown",
   "metadata": {},
   "source": [
    "抓出message的部分"
   ]
  },
  {
   "cell_type": "code",
   "execution_count": 42,
   "metadata": {},
   "outputs": [
    {
     "data": {
      "text/plain": [
       "0                               ✨2018年依舊會是創作者大放異彩的一年!!!\n",
       "1                                    ✨影片已成為2018數位行銷主戰場。\n",
       "2     【91嚴選!】aPure，人間的臭腳終結者。\\n看看一家從解決老闆自身腳臭問題起家，\\n一步...\n",
       "3                                   ✨2017年大家都在Google什麼？\n",
       "4                                ✨連攝影師也要加入AI失業大軍的行列了是否？\n",
       "5     #91APP新零售開店系統 #全台老闆持續關注\\n2018說明會登場!!!\\n想要把握零售商...\n",
       "6                                  ✨時薪4500元欸，看到小編瞳孔都放大惹\n",
       "7                                   ✨最強廣告大集結，每則都讓人印象深刻。\n",
       "8     今天就是平安夜了!!!\\n不知大家這個聖誕周末是怎麼度過的呢？\\n上星期五 #91APP福委...\n",
       "9           ✨企業要在新零售時代找到新商機，抓住消費者的心，行銷策略與行銷工具也必須跟著調整因應。\n",
       "10    【91嚴選!每周一店】\\n「拼圖可以有很多想像！它也可以是藝術、文化、童趣...」\\n拼圖總...\n",
       "11          ✨零售商應謹記，男性和女性購物者的差異不僅體現在購買的物品上，他們購物的方式也不一樣。\n",
       "12                                               ✨醜照再見。\n",
       "Name: message, dtype: object"
      ]
     },
     "execution_count": 42,
     "metadata": {},
     "output_type": "execute_result"
    }
   ],
   "source": [
    "text = s1['message']\n",
    "text"
   ]
  },
  {
   "cell_type": "code",
   "execution_count": 43,
   "metadata": {
    "collapsed": true
   },
   "outputs": [],
   "source": [
    "#把null弄掉\n",
    "text = text[text.notnull()]"
   ]
  },
  {
   "cell_type": "code",
   "execution_count": 45,
   "metadata": {},
   "outputs": [
    {
     "name": "stdout",
     "output_type": "stream",
     "text": [
      "✨2018年依舊會是創作者大放異彩的一年!!!\n",
      "✨影片已成為2018數位行銷主戰場。\n",
      "【91嚴選!】aPure，人間的臭腳終結者。\n",
      "看看一家從解決老闆自身腳臭問題起家，\n",
      "一步一腳印，走過13年市場變化，\n",
      "最終成為台灣臭腳終結者的故事。\n",
      "✨2017年大家都在Google什麼？\n",
      "✨連攝影師也要加入AI失業大軍的行列了是否？\n",
      "#91APP新零售開店系統 #全台老闆持續關注\n",
      "2018說明會登場!!!\n",
      "想要把握零售商機，\n",
      "在新的一年拔得頭籌？\n",
      "趕快報名了解>> goo.gl/kxcm3q\n",
      "\n",
      "✓在說明會中，你可以知道：\n",
      "1.如何一鍵按下讓粉絲團一秒變商店\n",
      "2.如何用91APP系統快速切入新零售\n",
      "3.專業顧問一對一解答開店疑難雜症\n",
      "✨時薪4500元欸，看到小編瞳孔都放大惹\n",
      "✨最強廣告大集結，每則都讓人印象深刻。\n",
      "今天就是平安夜了!!!\n",
      "不知大家這個聖誕周末是怎麼度過的呢？\n",
      "上星期五 #91APP福委會 舉辦了「松果聖誕樹DIY」活動\n",
      "我們除了手做自己獨一無二的聖誕樹外，\n",
      "也開放票選「最美的松果聖誕樹」，\n",
      "下面這幾棵樹，就是經大家票選，\n",
      "一致公認最美的前十名!!!\n",
      "(好拉第八名是有點黑人問號)\n",
      "\n",
      "在這個關於愛與分享的夜晚，\n",
      "祝福所有人，聖誕節快樂，\n",
      "也希望大家明天都能帶著好心情上班!!!\n",
      "✨企業要在新零售時代找到新商機，抓住消費者的心，行銷策略與行銷工具也必須跟著調整因應。\n",
      "【91嚴選!每周一店】\n",
      "「拼圖可以有很多想像！它也可以是藝術、文化、童趣...」\n",
      "拼圖總動員於2015年2月開始營運，\n",
      "進口日本及、美品牌拼圖，擁有款式豐富及最新的商品！\n",
      " \n",
      "除了販售及進口各國拼圖之外，\n",
      "拼圖總動員最重要的目標是將台灣的人文風景推向國際，\n",
      "用拼圖拼湊出作品裡凝聚的情感，\n",
      "讓拼圖掀起生活中的動人樂章！\n",
      " \n",
      "讓雙眼藉由拼圖，看見不一樣的世界。\n",
      "拼圖總動員官方網站  >>  goo.gl/5k6fWb\n",
      "免費參加開店說明會  >>  goo.gl/kxcm3q\n",
      "✨零售商應謹記，男性和女性購物者的差異不僅體現在購買的物品上，他們購物的方式也不一樣。\n",
      "✨醜照再見。\n"
     ]
    }
   ],
   "source": [
    "str1 = \"\"\n",
    "for item in text:\n",
    "    print(item)\n",
    "    str1 += item"
   ]
  },
  {
   "cell_type": "code",
   "execution_count": 81,
   "metadata": {
    "collapsed": true
   },
   "outputs": [],
   "source": [
    "stopwords = ['你','\\n','的','也','是','在','讓','都','了']\n",
    "puncs = '✨！？｡\"#+＃＄％＆＇>（）＊＋，－／!：；＜＝＞＠［＼］＾＿｀｛｜｝～｟｠｢｣､、〃》「」『』【】〔〕〖〗〘〙〚〛〜〝〞〟〰〾〿–—‘’‛“”„‟…‧﹏.。'"
   ]
  },
  {
   "cell_type": "code",
   "execution_count": 82,
   "metadata": {},
   "outputs": [
    {
     "name": "stdout",
     "output_type": "stream",
     "text": [
      "Default Mode: ✨/ 2018/ 年/ 依舊/ 會/ 是/ 創/ 作者/ 大放/ 異彩/ 的/ 一年/ !/ !/ !/ ✨/ 影片/ 已成/ 為/ 2018/ 數位/ 行銷/ 主戰場/ 。/ 【/ 91/ 嚴選/ !/ 】/ aPure/ ，/ 人間/ 的/ 臭/ 腳終/ 結者/ 。/ \n",
      "/ 看看/ 一家/ 從/ 解決/ 老/ 闆/ 自身/ 腳臭/ 問題/ 起家/ ，/ \n",
      "/ 一步/ 一腳/ 印/ ，/ 走過/ 13/ 年/ 市場/ 變化/ ，/ \n",
      "/ 最終/ 成為/ 台灣/ 臭/ 腳終/ 結者/ 的/ 故事/ 。/ ✨/ 2017/ 年/ 大家/ 都/ 在/ Google/ 什麼/ ？/ ✨/ 連攝/ 影師/ 也/ 要/ 加入/ AI/ 失業/ 大/ 軍/ 的/ 行列/ 了/ 是否/ ？/ #/ 91APP/ 新/ 零售/ 開店/ 系統/  / #/ 全台/ 老/ 闆/ 持續/ 關注/ \n",
      "/ 2018/ 說/ 明會/ 登場/ !/ !/ !/ \n",
      "/ 想要/ 把握/ 零售商/ 機/ ，/ \n",
      "/ 在/ 新/ 的/ 一年/ 拔得頭/ 籌/ ？/ \n",
      "/ 趕快/ 報名/ 了解/ >/ >/  / goo/ ./ gl/ // kxcm3q/ \n",
      "/ \n",
      "/ ✓/ 在/ 說/ 明會/ 中/ ，/ 你/ 可以/ 知道/ ：/ \n",
      "/ 1/ ./ 如何/ 一鍵/ 按/ 下/ 讓/ 粉絲團/ 一秒/ 變/ 商店/ \n",
      "/ 2/ ./ 如何/ 用/ 91APP/ 系統/ 快速/ 切入/ 新/ 零售/ \n",
      "/ 3/ ./ 專業/ 顧問/ 一/ 對/ 一/ 解答/ 開店/ 疑難/ 雜症/ ✨/ 時薪/ 4500/ 元/ 欸/ ，/ 看到/ 小編/ 瞳孔/ 都/ 放大/ 惹/ ✨/ 最強/ 廣告/ 大集/ 結/ ，/ 每則/ 都/ 讓/ 人/ 印象/ 深刻/ 。/ 今天/ 就是/ 平安夜/ 了/ !/ !/ !/ \n",
      "/ 不知/ 大家/ 這個/ 聖誕/ 周末/ 是/ 怎麼/ 度過/ 的/ 呢/ ？/ \n",
      "/ 上/ 星期五/  / #/ 91APP/ 福委會/  / 舉辦/ 了/ 「/ 松果/ 聖誕樹/ DIY/ 」/ 活動/ \n",
      "/ 我們/ 除了/ 手/ 做/ 自己/ 獨一無二/ 的/ 聖/ 誕樹外/ ，/ \n",
      "/ 也/ 開放票/ 選/ 「/ 最美/ 的/ 松果/ 聖誕樹/ 」/ ，/ \n",
      "/ 下面/ 這幾棵/ 樹/ ，/ 就是/ 經/ 大家/ 票選/ ，/ \n",
      "/ 一致/ 公認/ 最美/ 的/ 前十名/ !/ !/ !/ \n",
      "/ (/ 好拉/ 第八名/ 是/ 有點/ 黑人/ 問號/ )/ \n",
      "/ \n",
      "/ 在/ 這個關/ 於/ 愛與/ 分享/ 的/ 夜晚/ ，/ \n",
      "/ 祝福/ 所有人/ ，/ 聖誕節/ 快樂/ ，/ \n",
      "/ 也/ 希望/ 大家/ 明天/ 都/ 能/ 帶/ 著/ 好/ 心情/ 上班/ !/ !/ !/ ✨/ 企業/ 要/ 在/ 新/ 零售/ 時代/ 找到/ 新商機/ ，/ 抓住/ 消費者/ 的/ 心/ ，/ 行銷/ 策略/ 與/ 行銷/ 工具/ 也/ 必須/ 跟/ 著/ 調整/ 因應/ 。/ 【/ 91/ 嚴選/ !/ 每周/ 一店/ 】/ \n",
      "/ 「/ 拼圖/ 可以/ 有/ 很多/ 想像/ ！/ 它/ 也/ 可以/ 是/ 藝術/ 、/ 文化/ 、/ 童趣/ .../ 」/ \n",
      "/ 拼圖/ 總動員/ 於/ 2015/ 年/ 2/ 月/ 開始/ 營運/ ，/ \n",
      "/ 進口/ 日本/ 及/ 、/ 美/ 品牌/ 拼圖/ ，/ 擁有/ 款式/ 豐富/ 及/ 最新/ 的/ 商品/ ！/ \n",
      "/  / \n",
      "/ 除了/ 販售/ 及/ 進口/ 各國/ 拼圖/ 之外/ ，/ \n",
      "/ 拼圖/ 總動員/ 最/ 重要/ 的/ 目標/ 是/ 將台灣/ 的/ 人文/ 風景/ 推向/ 國際/ ，/ \n",
      "/ 用/ 拼圖/ 拼/ 湊/ 出/ 作品/ 裡/ 凝聚/ 的/ 情感/ ，/ \n",
      "/ 讓/ 拼圖/ 掀起/ 生活/ 中/ 的/ 動人樂章/ ！/ \n",
      "/  / \n",
      "/ 讓/ 雙眼/ 藉由/ 拼圖/ ，/ 看見/ 不/ 一樣/ 的/ 世界/ 。/ \n",
      "/ 拼圖/ 總動員/ 官方/ 網站/  /  / >/ >/  /  / goo/ ./ gl/ // 5k6fWb/ \n",
      "/ 免費/ 參加/ 開店/ 說/ 明會/  /  / >/ >/  /  / goo/ ./ gl/ // kxcm3q/ ✨/ 零售商/ 應謹記/ ，/ 男性/ 和/ 女性/ 購物者/ 的/ 差異/ 不僅/ 體現/ 在/ 購買/ 的/ 物品/ 上/ ，/ 他們/ 購物/ 的/ 方式/ 也/ 不/ 一樣/ 。/ ✨/ 醜照/ 再/ 見/ 。\n"
     ]
    }
   ],
   "source": [
    "seg_list = jieba.cut(str1, cut_all=False)  # 精确模式\n",
    "print(\"Default Mode: \" + \"/ \".join(seg_list))"
   ]
  },
  {
   "cell_type": "code",
   "execution_count": 83,
   "metadata": {},
   "outputs": [
    {
     "name": "stdout",
     "output_type": "stream",
     "text": [
      "{'2018': 3, '年': 4, '依舊': 1, '會': 1, '創': 1, '作者': 1, '大放': 1, '異彩': 1, '一年': 2, '影片': 1, '已成': 1, '為': 1, '數位': 1, '行銷': 3, '主戰場': 1, '91': 2, '嚴選': 2, 'aPure': 1, '人間': 1, '臭': 2, '腳終': 2, '結者': 2, '看看': 1, '一家': 1, '從': 1, '解決': 1, '老': 2, '闆': 2, '自身': 1, '腳臭': 1, '問題': 1, '起家': 1, '一步': 1, '一腳': 1, '印': 1, '走過': 1, '13': 1, '市場': 1, '變化': 1, '最終': 1, '成為': 1, '台灣': 1, '故事': 1, '2017': 1, '大家': 4, 'Google': 1, '什麼': 1, '連攝': 1, '影師': 1, '要': 2, '加入': 1, 'AI': 1, '失業': 1, '大': 1, '軍': 1, '行列': 1, '是否': 1, '91APP': 3, '新': 4, '零售': 3, '開店': 3, '系統': 2, ' ': 14, '全台': 1, '持續': 1, '關注': 1, '說': 3, '明會': 3, '登場': 1, '想要': 1, '把握': 1, '零售商': 2, '機': 1, '拔得頭': 1, '籌': 1, '趕快': 1, '報名': 1, '了解': 1, 'goo': 3, 'gl': 3, '/': 3, 'kxcm3q': 2, '✓': 1, '中': 2, '可以': 3, '知道': 1, '1': 1, '如何': 2, '一鍵': 1, '按': 1, '下': 1, '粉絲團': 1, '一秒': 1, '變': 1, '商店': 1, '2': 2, '用': 2, '快速': 1, '切入': 1, '3': 1, '專業': 1, '顧問': 1, '一': 2, '對': 1, '解答': 1, '疑難': 1, '雜症': 1, '時薪': 1, '4500': 1, '元': 1, '欸': 1, '看到': 1, '小編': 1, '瞳孔': 1, '放大': 1, '惹': 1, '最強': 1, '廣告': 1, '大集': 1, '結': 1, '每則': 1, '人': 1, '印象': 1, '深刻': 1, '今天': 1, '就是': 2, '平安夜': 1, '不知': 1, '這個': 1, '聖誕': 1, '周末': 1, '怎麼': 1, '度過': 1, '呢': 1, '上': 2, '星期五': 1, '福委會': 1, '舉辦': 1, '松果': 2, '聖誕樹': 2, 'DIY': 1, '活動': 1, '我們': 1, '除了': 2, '手': 1, '做': 1, '自己': 1, '獨一無二': 1, '聖': 1, '誕樹外': 1, '開放票': 1, '選': 1, '最美': 2, '下面': 1, '這幾棵': 1, '樹': 1, '經': 1, '票選': 1, '一致': 1, '公認': 1, '前十名': 1, '(': 1, '好拉': 1, '第八名': 1, '有點': 1, '黑人': 1, '問號': 1, ')': 1, '這個關': 1, '於': 2, '愛與': 1, '分享': 1, '夜晚': 1, '祝福': 1, '所有人': 1, '聖誕節': 1, '快樂': 1, '希望': 1, '明天': 1, '能': 1, '帶': 1, '著': 2, '好': 1, '心情': 1, '上班': 1, '企業': 1, '時代': 1, '找到': 1, '新商機': 1, '抓住': 1, '消費者': 1, '心': 1, '策略': 1, '與': 1, '工具': 1, '必須': 1, '跟': 1, '調整': 1, '因應': 1, '每周': 1, '一店': 1, '拼圖': 9, '有': 1, '很多': 1, '想像': 1, '它': 1, '藝術': 1, '文化': 1, '童趣': 1, '...': 1, '總動員': 3, '2015': 1, '月': 1, '開始': 1, '營運': 1, '進口': 2, '日本': 1, '及': 3, '美': 1, '品牌': 1, '擁有': 1, '款式': 1, '豐富': 1, '最新': 1, '商品': 1, '販售': 1, '各國': 1, '之外': 1, '最': 1, '重要': 1, '目標': 1, '將台灣': 1, '人文': 1, '風景': 1, '推向': 1, '國際': 1, '拼': 1, '湊': 1, '出': 1, '作品': 1, '裡': 1, '凝聚': 1, '情感': 1, '掀起': 1, '生活': 1, '動人樂章': 1, '雙眼': 1, '藉由': 1, '看見': 1, '不': 2, '一樣': 2, '世界': 1, '官方': 1, '網站': 1, '5k6fWb': 1, '免費': 1, '參加': 1, '應謹記': 1, '男性': 1, '和': 1, '女性': 1, '購物者': 1, '差異': 1, '不僅': 1, '體現': 1, '購買': 1, '物品': 1, '他們': 1, '購物': 1, '方式': 1, '醜照': 1, '再': 1, '見': 1}\n"
     ]
    }
   ],
   "source": [
    "seg_list = jieba.cut(str1, cut_all=False)\n",
    "seg_list = list(seg_list)\n",
    "wordDict = {}\n",
    "for w in seg_list:\n",
    "    if (w not in stopwords) and (w not in puncs):\n",
    "        if w in wordDict:\n",
    "            wordDict[w] = wordDict[w] + 1\n",
    "        else:\n",
    "            wordDict[w] = 1\n",
    "print(wordDict)"
   ]
  },
  {
   "cell_type": "markdown",
   "metadata": {},
   "source": [
    "畫文字雲"
   ]
  },
  {
   "cell_type": "code",
   "execution_count": 84,
   "metadata": {},
   "outputs": [
    {
     "data": {
      "text/plain": [
       "<matplotlib.image.AxesImage at 0x1121e7390>"
      ]
     },
     "execution_count": 84,
     "metadata": {},
     "output_type": "execute_result"
    },
    {
     "data": {
      "image/png": "[encoded data removed]",
      "text/plain": [
       "<matplotlib.figure.Figure at 0x111b1c1d0>"
      ]
     },
     "metadata": {},
     "output_type": "display_data"
    }
   ],
   "source": [
    "#抓取電腦內的文字的路徑\n",
    "font = r\"/System/Library/Fonts/STHeiti Light.ttc\"\n",
    "wordcloud = WordCloud(font_path=font)\n",
    "wordcloud.fit_words(wordDict)\n",
    "plt.imshow(wordcloud)"
   ]
  }
 ],
 "metadata": {
  "kernelspec": {
   "display_name": "Python 3",
   "language": "python",
   "name": "python3"
  },
  "language_info": {
   "codemirror_mode": {
    "name": "ipython",
    "version": 3
   },
   "file_extension": ".py",
   "mimetype": "text/x-python",
   "name": "python",
   "nbconvert_exporter": "python",
   "pygments_lexer": "ipython3",
   "version": "3.6.3"
  }
 },
 "nbformat": 4,
 "nbformat_minor": 2
}
